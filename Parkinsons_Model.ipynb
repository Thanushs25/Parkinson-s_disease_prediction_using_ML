{
  "nbformat": 4,
  "nbformat_minor": 0,
  "metadata": {
    "colab": {
      "provenance": []
    },
    "kernelspec": {
      "name": "python3",
      "display_name": "Python 3"
    },
    "language_info": {
      "name": "python"
    }
  },
  "cells": [
    {
      "cell_type": "code",
      "execution_count": null,
      "metadata": {
        "id": "Vu5Y3SNXNCOi"
      },
      "outputs": [],
      "source": [
        "import matplotlib.pyplot as plt\n",
        "import pandas as pd\n",
        "import numpy as np\n",
        "import seaborn as sns"
      ]
    },
    {
      "cell_type": "code",
      "source": [
        "parkinsons_data = pd.read_csv('/content/drive/MyDrive/Parkinsson disease.csv')\n",
        "parkinsons_data"
      ],
      "metadata": {
        "colab": {
          "base_uri": "https://localhost:8080/",
          "height": 487
        },
        "id": "woe271xZNitU",
        "outputId": "42e776bc-5a66-4359-a5a6-eacb13d83231"
      },
      "execution_count": null,
      "outputs": [
        {
          "output_type": "execute_result",
          "data": {
            "text/plain": [
              "               name  MDVP:Fo(Hz)  MDVP:Fhi(Hz)  MDVP:Flo(Hz)  MDVP:Jitter(%)  \\\n",
              "0    phon_R01_S01_1      119.992       157.302        74.997         0.00784   \n",
              "1    phon_R01_S01_2      122.400       148.650       113.819         0.00968   \n",
              "2    phon_R01_S01_3      116.682       131.111       111.555         0.01050   \n",
              "3    phon_R01_S01_4      116.676       137.871       111.366         0.00997   \n",
              "4    phon_R01_S01_5      116.014       141.781       110.655         0.01284   \n",
              "..              ...          ...           ...           ...             ...   \n",
              "190  phon_R01_S50_2      174.188       230.978        94.261         0.00459   \n",
              "191  phon_R01_S50_3      209.516       253.017        89.488         0.00564   \n",
              "192  phon_R01_S50_4      174.688       240.005        74.287         0.01360   \n",
              "193  phon_R01_S50_5      198.764       396.961        74.904         0.00740   \n",
              "194  phon_R01_S50_6      214.289       260.277        77.973         0.00567   \n",
              "\n",
              "     MDVP:Jitter(Abs)  MDVP:RAP  MDVP:PPQ  Jitter:DDP  MDVP:Shimmer  ...  \\\n",
              "0             0.00007   0.00370   0.00554     0.01109       0.04374  ...   \n",
              "1             0.00008   0.00465   0.00696     0.01394       0.06134  ...   \n",
              "2             0.00009   0.00544   0.00781     0.01633       0.05233  ...   \n",
              "3             0.00009   0.00502   0.00698     0.01505       0.05492  ...   \n",
              "4             0.00011   0.00655   0.00908     0.01966       0.06425  ...   \n",
              "..                ...       ...       ...         ...           ...  ...   \n",
              "190           0.00003   0.00263   0.00259     0.00790       0.04087  ...   \n",
              "191           0.00003   0.00331   0.00292     0.00994       0.02751  ...   \n",
              "192           0.00008   0.00624   0.00564     0.01873       0.02308  ...   \n",
              "193           0.00004   0.00370   0.00390     0.01109       0.02296  ...   \n",
              "194           0.00003   0.00295   0.00317     0.00885       0.01884  ...   \n",
              "\n",
              "     Shimmer:DDA      NHR     HNR  status      RPDE       DFA   spread1  \\\n",
              "0        0.06545  0.02211  21.033       1  0.414783  0.815285 -4.813031   \n",
              "1        0.09403  0.01929  19.085       1  0.458359  0.819521 -4.075192   \n",
              "2        0.08270  0.01309  20.651       1  0.429895  0.825288 -4.443179   \n",
              "3        0.08771  0.01353  20.644       1  0.434969  0.819235 -4.117501   \n",
              "4        0.10470  0.01767  19.649       1  0.417356  0.823484 -3.747787   \n",
              "..           ...      ...     ...     ...       ...       ...       ...   \n",
              "190      0.07008  0.02764  19.517       0  0.448439  0.657899 -6.538586   \n",
              "191      0.04812  0.01810  19.147       0  0.431674  0.683244 -6.195325   \n",
              "192      0.03804  0.10715  17.883       0  0.407567  0.655683 -6.787197   \n",
              "193      0.03794  0.07223  19.020       0  0.451221  0.643956 -6.744577   \n",
              "194      0.03078  0.04398  21.209       0  0.462803  0.664357 -5.724056   \n",
              "\n",
              "      spread2        D2       PPE  \n",
              "0    0.266482  2.301442  0.284654  \n",
              "1    0.335590  2.486855  0.368674  \n",
              "2    0.311173  2.342259  0.332634  \n",
              "3    0.334147  2.405554  0.368975  \n",
              "4    0.234513  2.332180  0.410335  \n",
              "..        ...       ...       ...  \n",
              "190  0.121952  2.657476  0.133050  \n",
              "191  0.129303  2.784312  0.168895  \n",
              "192  0.158453  2.679772  0.131728  \n",
              "193  0.207454  2.138608  0.123306  \n",
              "194  0.190667  2.555477  0.148569  \n",
              "\n",
              "[195 rows x 24 columns]"
            ],
            "text/html": [
              "\n",
              "  <div id=\"df-163e06b7-d68b-4013-a357-15c58d983be2\">\n",
              "    <div class=\"colab-df-container\">\n",
              "      <div>\n",
              "<style scoped>\n",
              "    .dataframe tbody tr th:only-of-type {\n",
              "        vertical-align: middle;\n",
              "    }\n",
              "\n",
              "    .dataframe tbody tr th {\n",
              "        vertical-align: top;\n",
              "    }\n",
              "\n",
              "    .dataframe thead th {\n",
              "        text-align: right;\n",
              "    }\n",
              "</style>\n",
              "<table border=\"1\" class=\"dataframe\">\n",
              "  <thead>\n",
              "    <tr style=\"text-align: right;\">\n",
              "      <th></th>\n",
              "      <th>name</th>\n",
              "      <th>MDVP:Fo(Hz)</th>\n",
              "      <th>MDVP:Fhi(Hz)</th>\n",
              "      <th>MDVP:Flo(Hz)</th>\n",
              "      <th>MDVP:Jitter(%)</th>\n",
              "      <th>MDVP:Jitter(Abs)</th>\n",
              "      <th>MDVP:RAP</th>\n",
              "      <th>MDVP:PPQ</th>\n",
              "      <th>Jitter:DDP</th>\n",
              "      <th>MDVP:Shimmer</th>\n",
              "      <th>...</th>\n",
              "      <th>Shimmer:DDA</th>\n",
              "      <th>NHR</th>\n",
              "      <th>HNR</th>\n",
              "      <th>status</th>\n",
              "      <th>RPDE</th>\n",
              "      <th>DFA</th>\n",
              "      <th>spread1</th>\n",
              "      <th>spread2</th>\n",
              "      <th>D2</th>\n",
              "      <th>PPE</th>\n",
              "    </tr>\n",
              "  </thead>\n",
              "  <tbody>\n",
              "    <tr>\n",
              "      <th>0</th>\n",
              "      <td>phon_R01_S01_1</td>\n",
              "      <td>119.992</td>\n",
              "      <td>157.302</td>\n",
              "      <td>74.997</td>\n",
              "      <td>0.00784</td>\n",
              "      <td>0.00007</td>\n",
              "      <td>0.00370</td>\n",
              "      <td>0.00554</td>\n",
              "      <td>0.01109</td>\n",
              "      <td>0.04374</td>\n",
              "      <td>...</td>\n",
              "      <td>0.06545</td>\n",
              "      <td>0.02211</td>\n",
              "      <td>21.033</td>\n",
              "      <td>1</td>\n",
              "      <td>0.414783</td>\n",
              "      <td>0.815285</td>\n",
              "      <td>-4.813031</td>\n",
              "      <td>0.266482</td>\n",
              "      <td>2.301442</td>\n",
              "      <td>0.284654</td>\n",
              "    </tr>\n",
              "    <tr>\n",
              "      <th>1</th>\n",
              "      <td>phon_R01_S01_2</td>\n",
              "      <td>122.400</td>\n",
              "      <td>148.650</td>\n",
              "      <td>113.819</td>\n",
              "      <td>0.00968</td>\n",
              "      <td>0.00008</td>\n",
              "      <td>0.00465</td>\n",
              "      <td>0.00696</td>\n",
              "      <td>0.01394</td>\n",
              "      <td>0.06134</td>\n",
              "      <td>...</td>\n",
              "      <td>0.09403</td>\n",
              "      <td>0.01929</td>\n",
              "      <td>19.085</td>\n",
              "      <td>1</td>\n",
              "      <td>0.458359</td>\n",
              "      <td>0.819521</td>\n",
              "      <td>-4.075192</td>\n",
              "      <td>0.335590</td>\n",
              "      <td>2.486855</td>\n",
              "      <td>0.368674</td>\n",
              "    </tr>\n",
              "    <tr>\n",
              "      <th>2</th>\n",
              "      <td>phon_R01_S01_3</td>\n",
              "      <td>116.682</td>\n",
              "      <td>131.111</td>\n",
              "      <td>111.555</td>\n",
              "      <td>0.01050</td>\n",
              "      <td>0.00009</td>\n",
              "      <td>0.00544</td>\n",
              "      <td>0.00781</td>\n",
              "      <td>0.01633</td>\n",
              "      <td>0.05233</td>\n",
              "      <td>...</td>\n",
              "      <td>0.08270</td>\n",
              "      <td>0.01309</td>\n",
              "      <td>20.651</td>\n",
              "      <td>1</td>\n",
              "      <td>0.429895</td>\n",
              "      <td>0.825288</td>\n",
              "      <td>-4.443179</td>\n",
              "      <td>0.311173</td>\n",
              "      <td>2.342259</td>\n",
              "      <td>0.332634</td>\n",
              "    </tr>\n",
              "    <tr>\n",
              "      <th>3</th>\n",
              "      <td>phon_R01_S01_4</td>\n",
              "      <td>116.676</td>\n",
              "      <td>137.871</td>\n",
              "      <td>111.366</td>\n",
              "      <td>0.00997</td>\n",
              "      <td>0.00009</td>\n",
              "      <td>0.00502</td>\n",
              "      <td>0.00698</td>\n",
              "      <td>0.01505</td>\n",
              "      <td>0.05492</td>\n",
              "      <td>...</td>\n",
              "      <td>0.08771</td>\n",
              "      <td>0.01353</td>\n",
              "      <td>20.644</td>\n",
              "      <td>1</td>\n",
              "      <td>0.434969</td>\n",
              "      <td>0.819235</td>\n",
              "      <td>-4.117501</td>\n",
              "      <td>0.334147</td>\n",
              "      <td>2.405554</td>\n",
              "      <td>0.368975</td>\n",
              "    </tr>\n",
              "    <tr>\n",
              "      <th>4</th>\n",
              "      <td>phon_R01_S01_5</td>\n",
              "      <td>116.014</td>\n",
              "      <td>141.781</td>\n",
              "      <td>110.655</td>\n",
              "      <td>0.01284</td>\n",
              "      <td>0.00011</td>\n",
              "      <td>0.00655</td>\n",
              "      <td>0.00908</td>\n",
              "      <td>0.01966</td>\n",
              "      <td>0.06425</td>\n",
              "      <td>...</td>\n",
              "      <td>0.10470</td>\n",
              "      <td>0.01767</td>\n",
              "      <td>19.649</td>\n",
              "      <td>1</td>\n",
              "      <td>0.417356</td>\n",
              "      <td>0.823484</td>\n",
              "      <td>-3.747787</td>\n",
              "      <td>0.234513</td>\n",
              "      <td>2.332180</td>\n",
              "      <td>0.410335</td>\n",
              "    </tr>\n",
              "    <tr>\n",
              "      <th>...</th>\n",
              "      <td>...</td>\n",
              "      <td>...</td>\n",
              "      <td>...</td>\n",
              "      <td>...</td>\n",
              "      <td>...</td>\n",
              "      <td>...</td>\n",
              "      <td>...</td>\n",
              "      <td>...</td>\n",
              "      <td>...</td>\n",
              "      <td>...</td>\n",
              "      <td>...</td>\n",
              "      <td>...</td>\n",
              "      <td>...</td>\n",
              "      <td>...</td>\n",
              "      <td>...</td>\n",
              "      <td>...</td>\n",
              "      <td>...</td>\n",
              "      <td>...</td>\n",
              "      <td>...</td>\n",
              "      <td>...</td>\n",
              "      <td>...</td>\n",
              "    </tr>\n",
              "    <tr>\n",
              "      <th>190</th>\n",
              "      <td>phon_R01_S50_2</td>\n",
              "      <td>174.188</td>\n",
              "      <td>230.978</td>\n",
              "      <td>94.261</td>\n",
              "      <td>0.00459</td>\n",
              "      <td>0.00003</td>\n",
              "      <td>0.00263</td>\n",
              "      <td>0.00259</td>\n",
              "      <td>0.00790</td>\n",
              "      <td>0.04087</td>\n",
              "      <td>...</td>\n",
              "      <td>0.07008</td>\n",
              "      <td>0.02764</td>\n",
              "      <td>19.517</td>\n",
              "      <td>0</td>\n",
              "      <td>0.448439</td>\n",
              "      <td>0.657899</td>\n",
              "      <td>-6.538586</td>\n",
              "      <td>0.121952</td>\n",
              "      <td>2.657476</td>\n",
              "      <td>0.133050</td>\n",
              "    </tr>\n",
              "    <tr>\n",
              "      <th>191</th>\n",
              "      <td>phon_R01_S50_3</td>\n",
              "      <td>209.516</td>\n",
              "      <td>253.017</td>\n",
              "      <td>89.488</td>\n",
              "      <td>0.00564</td>\n",
              "      <td>0.00003</td>\n",
              "      <td>0.00331</td>\n",
              "      <td>0.00292</td>\n",
              "      <td>0.00994</td>\n",
              "      <td>0.02751</td>\n",
              "      <td>...</td>\n",
              "      <td>0.04812</td>\n",
              "      <td>0.01810</td>\n",
              "      <td>19.147</td>\n",
              "      <td>0</td>\n",
              "      <td>0.431674</td>\n",
              "      <td>0.683244</td>\n",
              "      <td>-6.195325</td>\n",
              "      <td>0.129303</td>\n",
              "      <td>2.784312</td>\n",
              "      <td>0.168895</td>\n",
              "    </tr>\n",
              "    <tr>\n",
              "      <th>192</th>\n",
              "      <td>phon_R01_S50_4</td>\n",
              "      <td>174.688</td>\n",
              "      <td>240.005</td>\n",
              "      <td>74.287</td>\n",
              "      <td>0.01360</td>\n",
              "      <td>0.00008</td>\n",
              "      <td>0.00624</td>\n",
              "      <td>0.00564</td>\n",
              "      <td>0.01873</td>\n",
              "      <td>0.02308</td>\n",
              "      <td>...</td>\n",
              "      <td>0.03804</td>\n",
              "      <td>0.10715</td>\n",
              "      <td>17.883</td>\n",
              "      <td>0</td>\n",
              "      <td>0.407567</td>\n",
              "      <td>0.655683</td>\n",
              "      <td>-6.787197</td>\n",
              "      <td>0.158453</td>\n",
              "      <td>2.679772</td>\n",
              "      <td>0.131728</td>\n",
              "    </tr>\n",
              "    <tr>\n",
              "      <th>193</th>\n",
              "      <td>phon_R01_S50_5</td>\n",
              "      <td>198.764</td>\n",
              "      <td>396.961</td>\n",
              "      <td>74.904</td>\n",
              "      <td>0.00740</td>\n",
              "      <td>0.00004</td>\n",
              "      <td>0.00370</td>\n",
              "      <td>0.00390</td>\n",
              "      <td>0.01109</td>\n",
              "      <td>0.02296</td>\n",
              "      <td>...</td>\n",
              "      <td>0.03794</td>\n",
              "      <td>0.07223</td>\n",
              "      <td>19.020</td>\n",
              "      <td>0</td>\n",
              "      <td>0.451221</td>\n",
              "      <td>0.643956</td>\n",
              "      <td>-6.744577</td>\n",
              "      <td>0.207454</td>\n",
              "      <td>2.138608</td>\n",
              "      <td>0.123306</td>\n",
              "    </tr>\n",
              "    <tr>\n",
              "      <th>194</th>\n",
              "      <td>phon_R01_S50_6</td>\n",
              "      <td>214.289</td>\n",
              "      <td>260.277</td>\n",
              "      <td>77.973</td>\n",
              "      <td>0.00567</td>\n",
              "      <td>0.00003</td>\n",
              "      <td>0.00295</td>\n",
              "      <td>0.00317</td>\n",
              "      <td>0.00885</td>\n",
              "      <td>0.01884</td>\n",
              "      <td>...</td>\n",
              "      <td>0.03078</td>\n",
              "      <td>0.04398</td>\n",
              "      <td>21.209</td>\n",
              "      <td>0</td>\n",
              "      <td>0.462803</td>\n",
              "      <td>0.664357</td>\n",
              "      <td>-5.724056</td>\n",
              "      <td>0.190667</td>\n",
              "      <td>2.555477</td>\n",
              "      <td>0.148569</td>\n",
              "    </tr>\n",
              "  </tbody>\n",
              "</table>\n",
              "<p>195 rows × 24 columns</p>\n",
              "</div>\n",
              "      <button class=\"colab-df-convert\" onclick=\"convertToInteractive('df-163e06b7-d68b-4013-a357-15c58d983be2')\"\n",
              "              title=\"Convert this dataframe to an interactive table.\"\n",
              "              style=\"display:none;\">\n",
              "        \n",
              "  <svg xmlns=\"http://www.w3.org/2000/svg\" height=\"24px\"viewBox=\"0 0 24 24\"\n",
              "       width=\"24px\">\n",
              "    <path d=\"M0 0h24v24H0V0z\" fill=\"none\"/>\n",
              "    <path d=\"M18.56 5.44l.94 2.06.94-2.06 2.06-.94-2.06-.94-.94-2.06-.94 2.06-2.06.94zm-11 1L8.5 8.5l.94-2.06 2.06-.94-2.06-.94L8.5 2.5l-.94 2.06-2.06.94zm10 10l.94 2.06.94-2.06 2.06-.94-2.06-.94-.94-2.06-.94 2.06-2.06.94z\"/><path d=\"M17.41 7.96l-1.37-1.37c-.4-.4-.92-.59-1.43-.59-.52 0-1.04.2-1.43.59L10.3 9.45l-7.72 7.72c-.78.78-.78 2.05 0 2.83L4 21.41c.39.39.9.59 1.41.59.51 0 1.02-.2 1.41-.59l7.78-7.78 2.81-2.81c.8-.78.8-2.07 0-2.86zM5.41 20L4 18.59l7.72-7.72 1.47 1.35L5.41 20z\"/>\n",
              "  </svg>\n",
              "      </button>\n",
              "      \n",
              "  <style>\n",
              "    .colab-df-container {\n",
              "      display:flex;\n",
              "      flex-wrap:wrap;\n",
              "      gap: 12px;\n",
              "    }\n",
              "\n",
              "    .colab-df-convert {\n",
              "      background-color: #E8F0FE;\n",
              "      border: none;\n",
              "      border-radius: 50%;\n",
              "      cursor: pointer;\n",
              "      display: none;\n",
              "      fill: #1967D2;\n",
              "      height: 32px;\n",
              "      padding: 0 0 0 0;\n",
              "      width: 32px;\n",
              "    }\n",
              "\n",
              "    .colab-df-convert:hover {\n",
              "      background-color: #E2EBFA;\n",
              "      box-shadow: 0px 1px 2px rgba(60, 64, 67, 0.3), 0px 1px 3px 1px rgba(60, 64, 67, 0.15);\n",
              "      fill: #174EA6;\n",
              "    }\n",
              "\n",
              "    [theme=dark] .colab-df-convert {\n",
              "      background-color: #3B4455;\n",
              "      fill: #D2E3FC;\n",
              "    }\n",
              "\n",
              "    [theme=dark] .colab-df-convert:hover {\n",
              "      background-color: #434B5C;\n",
              "      box-shadow: 0px 1px 3px 1px rgba(0, 0, 0, 0.15);\n",
              "      filter: drop-shadow(0px 1px 2px rgba(0, 0, 0, 0.3));\n",
              "      fill: #FFFFFF;\n",
              "    }\n",
              "  </style>\n",
              "\n",
              "      <script>\n",
              "        const buttonEl =\n",
              "          document.querySelector('#df-163e06b7-d68b-4013-a357-15c58d983be2 button.colab-df-convert');\n",
              "        buttonEl.style.display =\n",
              "          google.colab.kernel.accessAllowed ? 'block' : 'none';\n",
              "\n",
              "        async function convertToInteractive(key) {\n",
              "          const element = document.querySelector('#df-163e06b7-d68b-4013-a357-15c58d983be2');\n",
              "          const dataTable =\n",
              "            await google.colab.kernel.invokeFunction('convertToInteractive',\n",
              "                                                     [key], {});\n",
              "          if (!dataTable) return;\n",
              "\n",
              "          const docLinkHtml = 'Like what you see? Visit the ' +\n",
              "            '<a target=\"_blank\" href=https://colab.research.google.com/notebooks/data_table.ipynb>data table notebook</a>'\n",
              "            + ' to learn more about interactive tables.';\n",
              "          element.innerHTML = '';\n",
              "          dataTable['output_type'] = 'display_data';\n",
              "          await google.colab.output.renderOutput(dataTable, element);\n",
              "          const docLink = document.createElement('div');\n",
              "          docLink.innerHTML = docLinkHtml;\n",
              "          element.appendChild(docLink);\n",
              "        }\n",
              "      </script>\n",
              "    </div>\n",
              "  </div>\n",
              "  "
            ]
          },
          "metadata": {},
          "execution_count": 2
        }
      ]
    },
    {
      "cell_type": "code",
      "source": [
        "parkinsons_data.isnull().sum()"
      ],
      "metadata": {
        "colab": {
          "base_uri": "https://localhost:8080/"
        },
        "id": "_IwRx_eGNsSo",
        "outputId": "825ce967-8e6f-4296-f861-713a3004cc77"
      },
      "execution_count": null,
      "outputs": [
        {
          "output_type": "execute_result",
          "data": {
            "text/plain": [
              "name                0\n",
              "MDVP:Fo(Hz)         0\n",
              "MDVP:Fhi(Hz)        0\n",
              "MDVP:Flo(Hz)        0\n",
              "MDVP:Jitter(%)      0\n",
              "MDVP:Jitter(Abs)    0\n",
              "MDVP:RAP            0\n",
              "MDVP:PPQ            0\n",
              "Jitter:DDP          0\n",
              "MDVP:Shimmer        0\n",
              "MDVP:Shimmer(dB)    0\n",
              "Shimmer:APQ3        0\n",
              "Shimmer:APQ5        0\n",
              "MDVP:APQ            0\n",
              "Shimmer:DDA         0\n",
              "NHR                 0\n",
              "HNR                 0\n",
              "status              0\n",
              "RPDE                0\n",
              "DFA                 0\n",
              "spread1             0\n",
              "spread2             0\n",
              "D2                  0\n",
              "PPE                 0\n",
              "dtype: int64"
            ]
          },
          "metadata": {},
          "execution_count": 3
        }
      ]
    },
    {
      "cell_type": "code",
      "source": [
        "fig, (axis1, axis2) = plt.subplots(1,2,figsize=(14,8))\n",
        "\n",
        "sns.violinplot(x=\"status\", y=\"RPDE\", data=parkinsons_data, ax=axis1, palette=\"Set2\")\n",
        "axis1.set_title(\"status vs RPDE\")\n",
        "\n",
        "sns.violinplot(x=\"status\", y=\"DFA\", data=parkinsons_data, ax=axis2, palette=\"Set3\")\n",
        "axis2.set_title(\"status vs DFA\")"
      ],
      "metadata": {
        "colab": {
          "base_uri": "https://localhost:8080/",
          "height": 735
        },
        "id": "ggNQMSLiOcNe",
        "outputId": "0e6315ff-79fc-422d-c401-5847567beff8"
      },
      "execution_count": null,
      "outputs": [
        {
          "output_type": "execute_result",
          "data": {
            "text/plain": [
              "Text(0.5, 1.0, 'status vs DFA')"
            ]
          },
          "metadata": {},
          "execution_count": 4
        },
        {
          "output_type": "display_data",
          "data": {
            "text/plain": [
              "<Figure size 1400x800 with 2 Axes>"
            ],
            "image/png": "[encoded data removed]"
          },
          "metadata": {}
        }
      ]
    },
    {
      "cell_type": "code",
      "source": [
        "fig, (axis1, axis2) = plt.subplots(1,2,figsize=(14,8))\n",
        "\n",
        "sns.boxplot(x=\"status\", y=\"NHR\", data=parkinsons_data, ax=axis1)\n",
        "axis1.set_title(\"status vs NHR\")\n",
        "\n",
        "sns.boxplot(x=\"status\", y=\"HNR\", data=parkinsons_data, ax=axis2, palette=\"Set2\")\n",
        "axis2.set_title(\"status vs HNR\")"
      ],
      "metadata": {
        "colab": {
          "base_uri": "https://localhost:8080/",
          "height": 735
        },
        "id": "cZ0fwFMCOx59",
        "outputId": "1b2d5ce4-947a-4fc1-e8c6-7a20d4d74819"
      },
      "execution_count": null,
      "outputs": [
        {
          "output_type": "execute_result",
          "data": {
            "text/plain": [
              "Text(0.5, 1.0, 'status vs HNR')"
            ]
          },
          "metadata": {},
          "execution_count": 5
        },
        {
          "output_type": "display_data",
          "data": {
            "text/plain": [
              "<Figure size 1400x800 with 2 Axes>"
            ],
            "image/png": "[encoded data removed]"
          },
          "metadata": {}
        }
      ]
    },
    {
      "cell_type": "markdown",
      "source": [
        "# **Steps for building a preparing a Model in Machine Learning**\n",
        "Step 1: Data preprocessing\n",
        "\n",
        "        * split the data to features and labels\n",
        "        * Scale the features to same scale\n",
        "        * Spli the data into training and testing portion"
      ],
      "metadata": {
        "id": "k_TgY2X0PEj_"
      }
    },
    {
      "cell_type": "code",
      "source": [
        "labels  = parkinsons_data['status']\n",
        "features = parkinsons_data.drop(['status','name'],axis=1)\n",
        "print(labels)"
      ],
      "metadata": {
        "colab": {
          "base_uri": "https://localhost:8080/"
        },
        "id": "urtNTEozPxee",
        "outputId": "144eea8e-faec-4d94-9e02-e8ca4b8acca3"
      },
      "execution_count": null,
      "outputs": [
        {
          "output_type": "stream",
          "name": "stdout",
          "text": [
            "0      1\n",
            "1      1\n",
            "2      1\n",
            "3      1\n",
            "4      1\n",
            "      ..\n",
            "190    0\n",
            "191    0\n",
            "192    0\n",
            "193    0\n",
            "194    0\n",
            "Name: status, Length: 195, dtype: int64\n"
          ]
        }
      ]
    },
    {
      "cell_type": "code",
      "source": [
        "print(features.shape)"
      ],
      "metadata": {
        "colab": {
          "base_uri": "https://localhost:8080/"
        },
        "id": "vpnc71fDQGTJ",
        "outputId": "4d6d63cc-5603-4d14-e73e-21d744e7382f"
      },
      "execution_count": null,
      "outputs": [
        {
          "output_type": "stream",
          "name": "stdout",
          "text": [
            "(195, 22)\n"
          ]
        }
      ]
    },
    {
      "cell_type": "code",
      "source": [
        "features.boxplot(figsize=(15,7))"
      ],
      "metadata": {
        "colab": {
          "base_uri": "https://localhost:8080/",
          "height": 616
        },
        "id": "4EHcMwNsMpc1",
        "outputId": "8a16dcca-e9d4-455b-887d-ffa5501e2f8a"
      },
      "execution_count": null,
      "outputs": [
        {
          "output_type": "execute_result",
          "data": {
            "text/plain": [
              "<Axes: >"
            ]
          },
          "metadata": {},
          "execution_count": 8
        },
        {
          "output_type": "display_data",
          "data": {
            "text/plain": [
              "<Figure size 1500x700 with 1 Axes>"
            ],
            "image/png": "[encoded data removed]"
          },
          "metadata": {}
        }
      ]
    },
    {
      "cell_type": "code",
      "source": [
        "# checking with PCA if we get same values\n",
        "from sklearn import decomposition\n",
        "data = np.array(features)\n",
        "print(pd.DataFrame(data))"
      ],
      "metadata": {
        "colab": {
          "base_uri": "https://localhost:8080/"
        },
        "id": "ml223JLoQKJS",
        "outputId": "21884ce7-fd48-4182-84ed-c39adb507cfd"
      },
      "execution_count": null,
      "outputs": [
        {
          "output_type": "stream",
          "name": "stdout",
          "text": [
            "          0        1        2        3        4        5        6        7   \\\n",
            "0    119.992  157.302   74.997  0.00784  0.00007  0.00370  0.00554  0.01109   \n",
            "1    122.400  148.650  113.819  0.00968  0.00008  0.00465  0.00696  0.01394   \n",
            "2    116.682  131.111  111.555  0.01050  0.00009  0.00544  0.00781  0.01633   \n",
            "3    116.676  137.871  111.366  0.00997  0.00009  0.00502  0.00698  0.01505   \n",
            "4    116.014  141.781  110.655  0.01284  0.00011  0.00655  0.00908  0.01966   \n",
            "..       ...      ...      ...      ...      ...      ...      ...      ...   \n",
            "190  174.188  230.978   94.261  0.00459  0.00003  0.00263  0.00259  0.00790   \n",
            "191  209.516  253.017   89.488  0.00564  0.00003  0.00331  0.00292  0.00994   \n",
            "192  174.688  240.005   74.287  0.01360  0.00008  0.00624  0.00564  0.01873   \n",
            "193  198.764  396.961   74.904  0.00740  0.00004  0.00370  0.00390  0.01109   \n",
            "194  214.289  260.277   77.973  0.00567  0.00003  0.00295  0.00317  0.00885   \n",
            "\n",
            "          8      9   ...       12       13       14      15        16  \\\n",
            "0    0.04374  0.426  ...  0.02971  0.06545  0.02211  21.033  0.414783   \n",
            "1    0.06134  0.626  ...  0.04368  0.09403  0.01929  19.085  0.458359   \n",
            "2    0.05233  0.482  ...  0.03590  0.08270  0.01309  20.651  0.429895   \n",
            "3    0.05492  0.517  ...  0.03772  0.08771  0.01353  20.644  0.434969   \n",
            "4    0.06425  0.584  ...  0.04465  0.10470  0.01767  19.649  0.417356   \n",
            "..       ...    ...  ...      ...      ...      ...     ...       ...   \n",
            "190  0.04087  0.405  ...  0.02745  0.07008  0.02764  19.517  0.448439   \n",
            "191  0.02751  0.263  ...  0.01879  0.04812  0.01810  19.147  0.431674   \n",
            "192  0.02308  0.256  ...  0.01667  0.03804  0.10715  17.883  0.407567   \n",
            "193  0.02296  0.241  ...  0.01588  0.03794  0.07223  19.020  0.451221   \n",
            "194  0.01884  0.190  ...  0.01373  0.03078  0.04398  21.209  0.462803   \n",
            "\n",
            "           17        18        19        20        21  \n",
            "0    0.815285 -4.813031  0.266482  2.301442  0.284654  \n",
            "1    0.819521 -4.075192  0.335590  2.486855  0.368674  \n",
            "2    0.825288 -4.443179  0.311173  2.342259  0.332634  \n",
            "3    0.819235 -4.117501  0.334147  2.405554  0.368975  \n",
            "4    0.823484 -3.747787  0.234513  2.332180  0.410335  \n",
            "..        ...       ...       ...       ...       ...  \n",
            "190  0.657899 -6.538586  0.121952  2.657476  0.133050  \n",
            "191  0.683244 -6.195325  0.129303  2.784312  0.168895  \n",
            "192  0.655683 -6.787197  0.158453  2.679772  0.131728  \n",
            "193  0.643956 -6.744577  0.207454  2.138608  0.123306  \n",
            "194  0.664357 -5.724056  0.190667  2.555477  0.148569  \n",
            "\n",
            "[195 rows x 22 columns]\n"
          ]
        }
      ]
    },
    {
      "cell_type": "code",
      "source": [
        "PCA = decomposition.PCA(n_components=2)\n",
        "data_pca = PCA.fit_transform(data)\n",
        "print(data_pca)"
      ],
      "metadata": {
        "colab": {
          "base_uri": "https://localhost:8080/"
        },
        "id": "2Epd-eqUQwkV",
        "outputId": "00f69627-81cc-4a85-fa2c-5f9d26285fdf"
      },
      "execution_count": null,
      "outputs": [
        {
          "output_type": "stream",
          "name": "stdout",
          "text": [
            "[[-4.97027896e+01 -4.44952429e+01]\n",
            " [-5.43571018e+01 -1.10193357e+01]\n",
            " [-7.28544130e+01 -1.25970091e+01]\n",
            " [-6.63049204e+01 -1.41147678e+01]\n",
            " [-6.27128344e+01 -1.58683560e+01]\n",
            " [-7.17602166e+01 -8.57033144e+00]\n",
            " [-6.58295452e+01 -9.09010469e+00]\n",
            " [-9.23113499e+01 -2.01759461e+01]\n",
            " [-7.82226287e+01 -4.05994977e+01]\n",
            " [-9.00401522e+01 -3.90005996e+01]\n",
            " [-9.97653445e+01 -4.69821686e+01]\n",
            " [-9.52605238e+01 -4.38708622e+01]\n",
            " [-3.87852363e+01  9.05919511e+00]\n",
            " [-2.40955187e+01 -3.62989763e+01]\n",
            " [-3.64963627e+01 -2.55994815e+01]\n",
            " [ 1.43378409e+01 -3.70969440e+01]\n",
            " [ 1.42795446e+02 -6.28374933e+01]\n",
            " [ 3.39339829e+01 -3.03742036e+01]\n",
            " [-2.48817946e+01 -3.37842057e+01]\n",
            " [-4.80756143e+00  2.34674070e+01]\n",
            " [-3.47417025e+01 -3.34913719e+01]\n",
            " [-2.67928996e+01 -2.52171583e+01]\n",
            " [-3.81375815e+00 -2.02632397e+01]\n",
            " [-2.36350650e+00 -1.10971600e+01]\n",
            " [ 2.44971084e+00 -2.60774689e+01]\n",
            " [-5.61374874e+00 -6.11680753e+01]\n",
            " [ 1.12445338e+01 -2.41894174e+01]\n",
            " [ 6.75786766e+00 -3.36759743e+01]\n",
            " [ 2.66607849e+01 -3.37160999e+01]\n",
            " [-1.45250848e-01 -2.55119983e+01]\n",
            " [ 2.53108763e+01  8.25901785e+01]\n",
            " [ 2.83325207e+01  8.34274937e+01]\n",
            " [ 3.37556792e+01  8.25651815e+01]\n",
            " [ 3.14522300e+01  8.87241250e+01]\n",
            " [ 3.15046325e+01  8.85711120e+01]\n",
            " [ 3.01522605e+01  8.73745935e+01]\n",
            " [ 5.47487003e+00  5.52229156e+01]\n",
            " [-2.38192600e+00  5.22399014e+01]\n",
            " [ 1.46964321e+01  6.07887405e+01]\n",
            " [ 1.72136996e+01  6.30974297e+01]\n",
            " [ 1.27751071e+01  6.66846865e+01]\n",
            " [ 1.02755714e+01  5.73870159e+01]\n",
            " [ 7.62636836e+01  1.23987241e+02]\n",
            " [ 7.92574762e+01  1.31821106e+02]\n",
            " [ 8.17240973e+01  1.32601728e+02]\n",
            " [ 8.52232503e+01  1.27881912e+02]\n",
            " [ 9.29952741e+01  1.31099156e+02]\n",
            " [ 8.98894920e+01  9.70000355e+01]\n",
            " [-7.37083551e+01 -5.49652955e+00]\n",
            " [-7.22298451e+01 -6.15168958e+00]\n",
            " [-6.67904206e+01 -4.08268719e+00]\n",
            " [-6.75727310e+01 -6.48630472e+00]\n",
            " [-6.27212124e+01  9.94485001e-01]\n",
            " [-6.09495811e+01 -1.29224655e+00]\n",
            " [-7.18808941e+01 -2.47351135e+01]\n",
            " [-7.95786267e+01 -2.12257667e+01]\n",
            " [-7.49688448e+01 -2.26698485e+01]\n",
            " [-7.39801476e+01 -1.28729345e+01]\n",
            " [-7.23300646e+01 -1.52680009e+01]\n",
            " [ 6.23660678e+01 -4.73109264e+01]\n",
            " [ 5.08719638e+01  1.88863166e+01]\n",
            " [ 5.45971552e+01  1.86085896e+01]\n",
            " [ 5.57696229e+01  1.02988512e+02]\n",
            " [ 6.19196406e+01  1.20402799e+02]\n",
            " [ 7.89399920e+01  1.15260994e+02]\n",
            " [ 5.75860453e+01  3.31420421e+01]\n",
            " [-4.34354235e+01 -3.92432397e+01]\n",
            " [-3.76320081e+01 -4.33995063e+01]\n",
            " [-4.04545700e+01 -3.87838834e+01]\n",
            " [-3.87226255e+01 -3.49946093e+01]\n",
            " [-4.04735172e+01 -3.95598436e+01]\n",
            " [-2.80854540e+01 -4.59958694e+01]\n",
            " [-6.37745821e+01 -1.25066631e+01]\n",
            " [ 3.70074340e+02 -1.11073503e+02]\n",
            " [-7.74400028e+01 -1.86949290e+01]\n",
            " [-8.29834672e+01 -1.94456286e+01]\n",
            " [-5.68700192e+01 -2.19355276e+01]\n",
            " [-8.01611044e+01 -1.86618948e+01]\n",
            " [-1.07491917e+02 -3.59357308e+01]\n",
            " [-9.35191546e+01 -3.92247713e+01]\n",
            " [-1.01474554e+02 -4.13731813e+01]\n",
            " [-1.02255720e+02 -3.90857703e+01]\n",
            " [-9.81580930e+01 -3.00637082e+01]\n",
            " [-1.06778707e+02 -3.58600304e+01]\n",
            " [ 9.85519870e+00 -2.05204824e+01]\n",
            " [ 1.21290934e+01  4.57002367e+01]\n",
            " [ 1.25791381e+01  3.23142676e+01]\n",
            " [ 3.50879734e+01  1.40349773e+01]\n",
            " [ 1.47666765e+01 -2.39379056e+01]\n",
            " [ 3.60365012e+01  3.13704585e+01]\n",
            " [ 8.23307944e+00 -2.45980045e+01]\n",
            " [-3.07496161e+01  2.95976393e+01]\n",
            " [-3.03701814e+01  2.32224891e+01]\n",
            " [-3.83752008e+01 -2.51207018e+01]\n",
            " [-2.66103587e+01 -3.04672087e+01]\n",
            " [-2.93986205e+01  3.47406516e+01]\n",
            " [-2.39398639e+01  3.08555020e+01]\n",
            " [-5.81427134e+01 -6.72321100e+00]\n",
            " [-6.29203077e+01 -2.12018281e+01]\n",
            " [-6.13006438e+01 -1.82919358e+01]\n",
            " [-6.07880284e+01 -5.76517315e+00]\n",
            " [-5.44243929e+01 -3.77257907e+01]\n",
            " [ 3.70848788e+02 -1.26809122e+02]\n",
            " [-4.55593292e+01 -2.57165423e+01]\n",
            " [-3.48185973e+01  1.70228880e+01]\n",
            " [-3.52665428e+01  1.83399121e+01]\n",
            " [-2.99244823e+01  2.91145273e+01]\n",
            " [-3.72952136e+01  2.02583716e+01]\n",
            " [-3.77610842e+01  1.97567144e+01]\n",
            " [ 1.71028663e+01 -7.65334634e+00]\n",
            " [ 3.42388142e+01  1.19188039e+00]\n",
            " [ 4.14692337e+01  9.20023399e+01]\n",
            " [ 4.07884445e+01  8.21504599e+01]\n",
            " [ 5.27258612e+01  7.97168704e+01]\n",
            " [ 3.79886363e+01  5.84103421e+00]\n",
            " [ 2.82900338e+02 -9.79507154e+01]\n",
            " [ 2.35652265e+02 -8.17638968e+01]\n",
            " [ 2.46495450e+02 -7.04061476e+01]\n",
            " [ 2.41210346e+02 -6.21061725e+01]\n",
            " [ 4.74692613e+01  1.23290050e+01]\n",
            " [ 2.66572015e+02 -9.38033159e+01]\n",
            " [ 2.00090172e+01 -1.55668226e+01]\n",
            " [-6.33579578e-02 -3.65970383e+01]\n",
            " [ 3.17071185e+00 -1.27037275e+01]\n",
            " [-4.51582420e+00 -2.69867771e+01]\n",
            " [-3.99287227e+00 -3.34886056e+01]\n",
            " [-6.36221629e+00 -3.70970776e+01]\n",
            " [ 1.57568573e+00 -2.17390398e+01]\n",
            " [-7.60007517e+01 -1.21995673e+01]\n",
            " [-7.69385898e+01 -1.41911691e+01]\n",
            " [-7.58740485e+01 -1.86733961e+01]\n",
            " [-7.82603674e+01 -1.45211860e+01]\n",
            " [-8.01062905e+01 -2.93109518e+01]\n",
            " [-7.97140671e+01 -1.11370065e+01]\n",
            " [-9.44503748e+01 -2.93664379e+01]\n",
            " [-7.81336559e+01 -2.02938834e+01]\n",
            " [-7.17239273e+01 -1.79321092e+01]\n",
            " [-7.53521060e+01 -2.30666338e+01]\n",
            " [-7.88302603e+01 -2.01813438e+01]\n",
            " [-7.25114603e+01 -1.44114445e+01]\n",
            " [ 7.01866522e+01 -3.37515276e+01]\n",
            " [ 6.50150436e+01  1.06441947e+00]\n",
            " [ 3.40684085e+01  4.68655300e+01]\n",
            " [ 4.17317694e+01 -1.85705623e+00]\n",
            " [ 5.76887263e+01  5.69613295e+01]\n",
            " [ 7.78576049e+01  4.86170480e+00]\n",
            " [ 1.17418324e+00  3.75360947e+01]\n",
            " [ 2.93895543e+01  4.83621994e+01]\n",
            " [ 3.04103719e+01  5.50618907e+01]\n",
            " [ 3.73918167e+02  1.72666014e+00]\n",
            " [ 2.43968301e+01  4.18862102e+01]\n",
            " [ 3.94717678e+01  5.80277062e+01]\n",
            " [ 4.95432745e+01  6.38679007e+01]\n",
            " [-6.46301433e+01 -2.19505768e+01]\n",
            " [-7.67920812e+01 -2.83784663e+01]\n",
            " [-7.75637250e+01 -2.35480764e+01]\n",
            " [-6.20481329e+01 -2.45900747e+01]\n",
            " [-7.04546247e+01 -2.09411025e+01]\n",
            " [-4.93987735e+01 -2.26233525e+01]\n",
            " [-6.28774445e+01 -7.02590933e+00]\n",
            " [-8.27829111e+01 -3.96753683e+01]\n",
            " [-6.89708794e+01 -1.72778540e+01]\n",
            " [-7.92267205e+01 -2.89683199e+01]\n",
            " [-7.44807318e+01 -2.63286798e+01]\n",
            " [-6.67998669e+01 -4.35611900e+01]\n",
            " [ 6.32528953e+01  2.77131482e+01]\n",
            " [ 7.31034745e+01  1.27950924e+02]\n",
            " [ 9.94424605e+01  1.43350778e+02]\n",
            " [ 2.74605594e+01  1.42759031e+00]\n",
            " [ 7.43686287e+01  1.21959318e+02]\n",
            " [ 1.03318402e+02  1.34429145e+02]\n",
            " [-7.20591211e+01 -1.99503791e+01]\n",
            " [-9.21357163e+01 -2.13875820e+01]\n",
            " [-8.89766590e+01 -2.27293428e+01]\n",
            " [-6.07727813e+01 -2.41041620e+01]\n",
            " [-8.11597240e+01 -1.39372674e+01]\n",
            " [-7.51480507e+01 -1.42730790e+01]\n",
            " [-6.13674154e+00  1.05447607e+01]\n",
            " [-3.69718097e+01  2.23689912e+01]\n",
            " [-3.97519751e+01  1.93626432e+01]\n",
            " [-3.11916431e+01  2.67888689e+01]\n",
            " [-3.41541769e+01  2.39488685e+01]\n",
            " [-3.13490843e+01  2.64642081e+01]\n",
            " [-8.01195136e+01 -1.46078962e+01]\n",
            " [ 1.01567337e+01 -3.93235098e+01]\n",
            " [-2.92884135e+01 -3.34690687e+01]\n",
            " [ 3.72775578e+02 -1.25353072e+02]\n",
            " [ 3.62957217e+02 -1.17029470e+02]\n",
            " [-8.69901049e+01 -3.08240560e+01]\n",
            " [ 7.11486586e+01 -1.49937420e+01]\n",
            " [ 3.55191920e+01 -1.23345972e+01]\n",
            " [ 6.43888620e+01  3.18811093e-01]\n",
            " [ 4.27464642e+01 -2.94971268e+01]\n",
            " [ 2.00623243e+02 -4.64494965e+01]\n",
            " [ 7.15473602e+01 -7.30387011e+00]]\n"
          ]
        }
      ]
    },
    {
      "cell_type": "code",
      "source": [
        "data_pca_n = PCA.inverse_transform(data_pca)\n",
        "print(pd.DataFrame(data_pca_n))"
      ],
      "metadata": {
        "colab": {
          "base_uri": "https://localhost:8080/"
        },
        "id": "g3rGGjE_RD62",
        "outputId": "b56aaa28-78e6-4dba-8f41-2a414b2126a1"
      },
      "execution_count": null,
      "outputs": [
        {
          "output_type": "stream",
          "name": "stdout",
          "text": [
            "             0           1           2         3         4         5   \\\n",
            "0    116.931219  157.795042   77.425447  0.006804  0.000056  0.003538   \n",
            "1    135.641833  146.522621  103.208791  0.006190  0.000048  0.003256   \n",
            "2    130.598097  128.871799  100.443563  0.006142  0.000049  0.003221   \n",
            "3    131.159234  135.540309   99.799522  0.006196  0.000049  0.003250   \n",
            "4    130.923644  139.383442   98.726199  0.006242  0.000050  0.003273   \n",
            "..          ...         ...         ...       ...       ...       ...   \n",
            "190  154.851375  234.097113  109.624082  0.006587  0.000046  0.003497   \n",
            "191  168.734519  259.590409  121.906469  0.006482  0.000042  0.003469   \n",
            "192  146.335248  244.579105   96.806333  0.006921  0.000050  0.003655   \n",
            "193  171.442259  401.365365   96.629501  0.007877  0.000050  0.004197   \n",
            "194  165.830124  268.081702  116.540520  0.006647  0.000044  0.003549   \n",
            "\n",
            "           6         7         8         9   ...        12        13  \\\n",
            "0    0.003704  0.010615  0.032219  0.301442  ...  0.025787  0.051143   \n",
            "1    0.003421  0.009768  0.030442  0.284422  ...  0.024558  0.048276   \n",
            "2    0.003395  0.009664  0.030575  0.284075  ...  0.024640  0.048525   \n",
            "3    0.003421  0.009751  0.030639  0.285236  ...  0.024687  0.048616   \n",
            "4    0.003443  0.009821  0.030723  0.286333  ...  0.024748  0.048746   \n",
            "..        ...       ...       ...       ...  ...       ...       ...   \n",
            "190  0.003622  0.010493  0.030275  0.290598  ...  0.024491  0.047843   \n",
            "191  0.003580  0.010408  0.029522  0.286045  ...  0.023987  0.046574   \n",
            "192  0.003777  0.010964  0.031174  0.299621  ...  0.025115  0.049284   \n",
            "193  0.004250  0.012592  0.031664  0.317789  ...  0.025538  0.049790   \n",
            "194  0.003658  0.010648  0.029911  0.290295  ...  0.024259  0.047189   \n",
            "\n",
            "           14         15        16        17        18        19        20  \\\n",
            "0    0.026661  21.220596  0.544390  0.734936 -5.198984  0.248500  2.360432   \n",
            "1    0.022583  21.740536  0.517369  0.731521 -5.501062  0.233334  2.345342   \n",
            "2    0.021568  21.724642  0.521971  0.735800 -5.458728  0.234663  2.332172   \n",
            "3    0.022162  21.698153  0.522069  0.734560 -5.454547  0.235142  2.337557   \n",
            "4    0.022592  21.669376  0.522889  0.734002 -5.443750  0.235827  2.340831   \n",
            "..        ...        ...       ...       ...       ...       ...       ...   \n",
            "190  0.028530  21.678845  0.502480  0.711920 -5.623839  0.230990  2.412457   \n",
            "191  0.028965  21.861284  0.486820  0.703889 -5.783999  0.224254  2.429470   \n",
            "192  0.030933  21.410054  0.515473  0.712605 -5.476236  0.238607  2.423784   \n",
            "193  0.043031  21.075209  0.501500  0.680116 -5.556725  0.241190  2.546768   \n",
            "194  0.030287  21.740085  0.491888  0.703325 -5.724369  0.227508  2.437429   \n",
            "\n",
            "           21  \n",
            "0    0.241858  \n",
            "1    0.219989  \n",
            "2    0.223109  \n",
            "3    0.223393  \n",
            "4    0.224164  \n",
            "..        ...  \n",
            "190  0.210837  \n",
            "191  0.199152  \n",
            "192  0.221509  \n",
            "193  0.215225  \n",
            "194  0.203451  \n",
            "\n",
            "[195 rows x 22 columns]\n"
          ]
        }
      ]
    },
    {
      "cell_type": "markdown",
      "source": [
        "Since, after applying PCA we get the same dimensions so all the features are important"
      ],
      "metadata": {
        "id": "9d58jSYNRngE"
      }
    },
    {
      "cell_type": "code",
      "source": [
        "from sklearn.model_selection import StratifiedShuffleSplit\n",
        "split=StratifiedShuffleSplit(n_splits=3,test_size=0.2,random_state=24)\n",
        "\n",
        "for train_index,test_index in split.split(features,labels):\n",
        "    strat_train_set_x,strat_train_y=features.loc[train_index],labels.loc[train_index]\n",
        "    strat_test_set_x,strat_test_y=features.loc[test_index],labels.loc[test_index] #completely unseen to our classifier "
      ],
      "metadata": {
        "id": "HTcdOeLLNGzQ"
      },
      "execution_count": null,
      "outputs": []
    },
    {
      "cell_type": "code",
      "source": [
        "print(strat_train_set_x.shape,strat_train_y.shape)   \n",
        "print(strat_test_set_x.shape,strat_test_y.shape)"
      ],
      "metadata": {
        "colab": {
          "base_uri": "https://localhost:8080/"
        },
        "id": "k68a_xM3NgS_",
        "outputId": "3d5c8e35-0579-4bbd-854a-b322a3d9153e"
      },
      "execution_count": null,
      "outputs": [
        {
          "output_type": "stream",
          "name": "stdout",
          "text": [
            "(156, 22) (156,)\n",
            "(39, 22) (39,)\n"
          ]
        }
      ]
    },
    {
      "cell_type": "code",
      "source": [
        "#Scale the data\n",
        "from sklearn.pipeline import Pipeline\n",
        "from sklearn.preprocessing import RobustScaler"
      ],
      "metadata": {
        "id": "dFcWuWR0Rz1v"
      },
      "execution_count": null,
      "outputs": []
    },
    {
      "cell_type": "code",
      "source": [
        "num_pl=Pipeline([('rs',RobustScaler())])"
      ],
      "metadata": {
        "id": "zluHdOh8SF3W"
      },
      "execution_count": null,
      "outputs": []
    },
    {
      "cell_type": "code",
      "source": [
        "strat_train_set_x=num_pl.fit_transform(strat_train_set_x)\n",
        "strat_test_set_x=num_pl.transform(strat_test_set_x)"
      ],
      "metadata": {
        "id": "aPyY4pynSOwH"
      },
      "execution_count": null,
      "outputs": []
    },
    {
      "cell_type": "markdown",
      "source": [
        "Step 2: Applying Classification Algorithms"
      ],
      "metadata": {
        "id": "9kwwylhPTEm6"
      }
    },
    {
      "cell_type": "code",
      "source": [
        "#KNN Model\n",
        "from sklearn.metrics import accuracy_score, confusion_matrix, classification_report\n",
        "from sklearn.model_selection import GridSearchCV\n",
        "from sklearn.model_selection import cross_val_score"
      ],
      "metadata": {
        "id": "JWsZjK4PTJ6R"
      },
      "execution_count": null,
      "outputs": []
    },
    {
      "cell_type": "code",
      "source": [
        "from sklearn.neighbors import KNeighborsClassifier"
      ],
      "metadata": {
        "id": "fqQLHxtjTV2E"
      },
      "execution_count": null,
      "outputs": []
    },
    {
      "cell_type": "code",
      "source": [
        "knn = KNeighborsClassifier(algorithm='auto',leaf_size=30,metric='minkowski',metric_params=None,\n",
        "                           n_jobs=None, n_neighbors=5,p=2,weights='uniform')\n",
        "knn.fit(strat_train_set_x, strat_train_y)"
      ],
      "metadata": {
        "colab": {
          "base_uri": "https://localhost:8080/",
          "height": 74
        },
        "id": "I2ufNC66TX35",
        "outputId": "e78cbd8c-5148-43b0-dc88-cd283baa4985"
      },
      "execution_count": null,
      "outputs": [
        {
          "output_type": "execute_result",
          "data": {
            "text/plain": [
              "KNeighborsClassifier()"
            ],
            "text/html": [
              "<style>#sk-container-id-1 {color: black;background-color: white;}#sk-container-id-1 pre{padding: 0;}#sk-container-id-1 div.sk-toggleable {background-color: white;}#sk-container-id-1 label.sk-toggleable__label {cursor: pointer;display: block;width: 100%;margin-bottom: 0;padding: 0.3em;box-sizing: border-box;text-align: center;}#sk-container-id-1 label.sk-toggleable__label-arrow:before {content: \"▸\";float: left;margin-right: 0.25em;color: #696969;}#sk-container-id-1 label.sk-toggleable__label-arrow:hover:before {color: black;}#sk-container-id-1 div.sk-estimator:hover label.sk-toggleable__label-arrow:before {color: black;}#sk-container-id-1 div.sk-toggleable__content {max-height: 0;max-width: 0;overflow: hidden;text-align: left;background-color: #f0f8ff;}#sk-container-id-1 div.sk-toggleable__content pre {margin: 0.2em;color: black;border-radius: 0.25em;background-color: #f0f8ff;}#sk-container-id-1 input.sk-toggleable__control:checked~div.sk-toggleable__content {max-height: 200px;max-width: 100%;overflow: auto;}#sk-container-id-1 input.sk-toggleable__control:checked~label.sk-toggleable__label-arrow:before {content: \"▾\";}#sk-container-id-1 div.sk-estimator input.sk-toggleable__control:checked~label.sk-toggleable__label {background-color: #d4ebff;}#sk-container-id-1 div.sk-label input.sk-toggleable__control:checked~label.sk-toggleable__label {background-color: #d4ebff;}#sk-container-id-1 input.sk-hidden--visually {border: 0;clip: rect(1px 1px 1px 1px);clip: rect(1px, 1px, 1px, 1px);height: 1px;margin: -1px;overflow: hidden;padding: 0;position: absolute;width: 1px;}#sk-container-id-1 div.sk-estimator {font-family: monospace;background-color: #f0f8ff;border: 1px dotted black;border-radius: 0.25em;box-sizing: border-box;margin-bottom: 0.5em;}#sk-container-id-1 div.sk-estimator:hover {background-color: #d4ebff;}#sk-container-id-1 div.sk-parallel-item::after {content: \"\";width: 100%;border-bottom: 1px solid gray;flex-grow: 1;}#sk-container-id-1 div.sk-label:hover label.sk-toggleable__label {background-color: #d4ebff;}#sk-container-id-1 div.sk-serial::before {content: \"\";position: absolute;border-left: 1px solid gray;box-sizing: border-box;top: 0;bottom: 0;left: 50%;z-index: 0;}#sk-container-id-1 div.sk-serial {display: flex;flex-direction: column;align-items: center;background-color: white;padding-right: 0.2em;padding-left: 0.2em;position: relative;}#sk-container-id-1 div.sk-item {position: relative;z-index: 1;}#sk-container-id-1 div.sk-parallel {display: flex;align-items: stretch;justify-content: center;background-color: white;position: relative;}#sk-container-id-1 div.sk-item::before, #sk-container-id-1 div.sk-parallel-item::before {content: \"\";position: absolute;border-left: 1px solid gray;box-sizing: border-box;top: 0;bottom: 0;left: 50%;z-index: -1;}#sk-container-id-1 div.sk-parallel-item {display: flex;flex-direction: column;z-index: 1;position: relative;background-color: white;}#sk-container-id-1 div.sk-parallel-item:first-child::after {align-self: flex-end;width: 50%;}#sk-container-id-1 div.sk-parallel-item:last-child::after {align-self: flex-start;width: 50%;}#sk-container-id-1 div.sk-parallel-item:only-child::after {width: 0;}#sk-container-id-1 div.sk-dashed-wrapped {border: 1px dashed gray;margin: 0 0.4em 0.5em 0.4em;box-sizing: border-box;padding-bottom: 0.4em;background-color: white;}#sk-container-id-1 div.sk-label label {font-family: monospace;font-weight: bold;display: inline-block;line-height: 1.2em;}#sk-container-id-1 div.sk-label-container {text-align: center;}#sk-container-id-1 div.sk-container {/* jupyter's `normalize.less` sets `[hidden] { display: none; }` but bootstrap.min.css set `[hidden] { display: none !important; }` so we also need the `!important` here to be able to override the default hidden behavior on the sphinx rendered scikit-learn.org. See: https://github.com/scikit-learn/scikit-learn/issues/21755 */display: inline-block !important;position: relative;}#sk-container-id-1 div.sk-text-repr-fallback {display: none;}</style><div id=\"sk-container-id-1\" class=\"sk-top-container\"><div class=\"sk-text-repr-fallback\"><pre>KNeighborsClassifier()</pre><b>In a Jupyter environment, please rerun this cell to show the HTML representation or trust the notebook. <br />On GitHub, the HTML representation is unable to render, please try loading this page with nbviewer.org.</b></div><div class=\"sk-container\" hidden><div class=\"sk-item\"><div class=\"sk-estimator sk-toggleable\"><input class=\"sk-toggleable__control sk-hidden--visually\" id=\"sk-estimator-id-1\" type=\"checkbox\" checked><label for=\"sk-estimator-id-1\" class=\"sk-toggleable__label sk-toggleable__label-arrow\">KNeighborsClassifier</label><div class=\"sk-toggleable__content\"><pre>KNeighborsClassifier()</pre></div></div></div></div></div>"
            ]
          },
          "metadata": {},
          "execution_count": 19
        }
      ]
    },
    {
      "cell_type": "code",
      "source": [
        "print(\"KNN with k=5 got {} % accuracy on the test set.\".format(accuracy_score(strat_test_y, knn.predict(strat_test_set_x))*100))"
      ],
      "metadata": {
        "colab": {
          "base_uri": "https://localhost:8080/"
        },
        "id": "v0e-BvuETaxG",
        "outputId": "1a07d72e-e9cb-488b-935b-6acb81d8e2f4"
      },
      "execution_count": null,
      "outputs": [
        {
          "output_type": "stream",
          "name": "stdout",
          "text": [
            "KNN with k=5 got 92.3076923076923 % accuracy on the test set.\n"
          ]
        }
      ]
    },
    {
      "cell_type": "code",
      "source": [
        "print(\"KNN with k=5 got {} % accuracy on the train set.\".format(accuracy_score(strat_train_y, knn.predict(strat_train_set_x))*100))"
      ],
      "metadata": {
        "colab": {
          "base_uri": "https://localhost:8080/"
        },
        "id": "1DXIO_sbVoF5",
        "outputId": "d4684656-1ce8-470c-aa87-1b99c8362ad7"
      },
      "execution_count": null,
      "outputs": [
        {
          "output_type": "stream",
          "name": "stdout",
          "text": [
            "KNN with k=5 got 94.87179487179486 % accuracy on the train set.\n"
          ]
        }
      ]
    },
    {
      "cell_type": "code",
      "source": [
        "# KNN Grid Search\n",
        "params_dict = {'n_neighbors':[3, 5, 9, 15], 'p':[1, 2, 3], 'algorithm':['auto', 'ball_tree', 'kd_tree', 'brute']}\n",
        "gs = GridSearchCV(knn, param_grid=params_dict, verbose=10, cv=10)"
      ],
      "metadata": {
        "id": "rRmq3cQhUCbb"
      },
      "execution_count": null,
      "outputs": []
    },
    {
      "cell_type": "code",
      "source": [
        "gs.fit(strat_train_set_x, strat_train_y)"
      ],
      "metadata": {
        "colab": {
          "base_uri": "https://localhost:8080/",
          "height": 1000
        },
        "id": "V3Cr0DExUbru",
        "outputId": "fee25afb-ae70-45f5-95b8-321023bfa9f7"
      },
      "execution_count": null,
      "outputs": [
        {
          "output_type": "stream",
          "name": "stdout",
          "text": [
            "Fitting 10 folds for each of 48 candidates, totalling 480 fits\n",
            "[CV 1/10; 1/48] START algorithm=auto, n_neighbors=3, p=1........................\n",
            "[CV 1/10; 1/48] END algorithm=auto, n_neighbors=3, p=1;, score=0.938 total time=   0.0s\n",
            "[CV 2/10; 1/48] START algorithm=auto, n_neighbors=3, p=1........................\n",
            "[CV 2/10; 1/48] END algorithm=auto, n_neighbors=3, p=1;, score=0.938 total time=   0.0s\n",
            "[CV 3/10; 1/48] START algorithm=auto, n_neighbors=3, p=1........................\n",
            "[CV 3/10; 1/48] END algorithm=auto, n_neighbors=3, p=1;, score=1.000 total time=   0.0s\n",
            "[CV 4/10; 1/48] START algorithm=auto, n_neighbors=3, p=1........................\n",
            "[CV 4/10; 1/48] END algorithm=auto, n_neighbors=3, p=1;, score=0.938 total time=   0.0s\n",
            "[CV 5/10; 1/48] START algorithm=auto, n_neighbors=3, p=1........................\n",
            "[CV 5/10; 1/48] END algorithm=auto, n_neighbors=3, p=1;, score=1.000 total time=   0.0s\n",
            "[CV 6/10; 1/48] START algorithm=auto, n_neighbors=3, p=1........................\n",
            "[CV 6/10; 1/48] END algorithm=auto, n_neighbors=3, p=1;, score=0.938 total time=   0.0s\n",
            "[CV 7/10; 1/48] START algorithm=auto, n_neighbors=3, p=1........................\n",
            "[CV 7/10; 1/48] END algorithm=auto, n_neighbors=3, p=1;, score=1.000 total time=   0.0s\n",
            "[CV 8/10; 1/48] START algorithm=auto, n_neighbors=3, p=1........................\n",
            "[CV 8/10; 1/48] END algorithm=auto, n_neighbors=3, p=1;, score=0.933 total time=   0.0s\n",
            "[CV 9/10; 1/48] START algorithm=auto, n_neighbors=3, p=1........................\n",
            "[CV 9/10; 1/48] END algorithm=auto, n_neighbors=3, p=1;, score=0.933 total time=   0.0s\n",
            "[CV 10/10; 1/48] START algorithm=auto, n_neighbors=3, p=1.......................\n",
            "[CV 10/10; 1/48] END algorithm=auto, n_neighbors=3, p=1;, score=0.867 total time=   0.0s\n",
            "[CV 1/10; 2/48] START algorithm=auto, n_neighbors=3, p=2........................\n",
            "[CV 1/10; 2/48] END algorithm=auto, n_neighbors=3, p=2;, score=1.000 total time=   0.0s\n",
            "[CV 2/10; 2/48] START algorithm=auto, n_neighbors=3, p=2........................\n",
            "[CV 2/10; 2/48] END algorithm=auto, n_neighbors=3, p=2;, score=0.938 total time=   0.0s\n",
            "[CV 3/10; 2/48] START algorithm=auto, n_neighbors=3, p=2........................\n",
            "[CV 3/10; 2/48] END algorithm=auto, n_neighbors=3, p=2;, score=1.000 total time=   0.0s\n",
            "[CV 4/10; 2/48] START algorithm=auto, n_neighbors=3, p=2........................\n",
            "[CV 4/10; 2/48] END algorithm=auto, n_neighbors=3, p=2;, score=0.812 total time=   0.0s\n",
            "[CV 5/10; 2/48] START algorithm=auto, n_neighbors=3, p=2........................\n",
            "[CV 5/10; 2/48] END algorithm=auto, n_neighbors=3, p=2;, score=0.938 total time=   0.0s\n",
            "[CV 6/10; 2/48] START algorithm=auto, n_neighbors=3, p=2........................\n",
            "[CV 6/10; 2/48] END algorithm=auto, n_neighbors=3, p=2;, score=0.875 total time=   0.0s\n",
            "[CV 7/10; 2/48] START algorithm=auto, n_neighbors=3, p=2........................\n",
            "[CV 7/10; 2/48] END algorithm=auto, n_neighbors=3, p=2;, score=1.000 total time=   0.0s\n",
            "[CV 8/10; 2/48] START algorithm=auto, n_neighbors=3, p=2........................\n",
            "[CV 8/10; 2/48] END algorithm=auto, n_neighbors=3, p=2;, score=0.933 total time=   0.0s\n",
            "[CV 9/10; 2/48] START algorithm=auto, n_neighbors=3, p=2........................\n",
            "[CV 9/10; 2/48] END algorithm=auto, n_neighbors=3, p=2;, score=0.933 total time=   0.0s\n",
            "[CV 10/10; 2/48] START algorithm=auto, n_neighbors=3, p=2.......................\n",
            "[CV 10/10; 2/48] END algorithm=auto, n_neighbors=3, p=2;, score=0.733 total time=   0.0s\n",
            "[CV 1/10; 3/48] START algorithm=auto, n_neighbors=3, p=3........................\n",
            "[CV 1/10; 3/48] END algorithm=auto, n_neighbors=3, p=3;, score=1.000 total time=   0.0s\n",
            "[CV 2/10; 3/48] START algorithm=auto, n_neighbors=3, p=3........................\n",
            "[CV 2/10; 3/48] END algorithm=auto, n_neighbors=3, p=3;, score=0.938 total time=   0.0s\n",
            "[CV 3/10; 3/48] START algorithm=auto, n_neighbors=3, p=3........................\n",
            "[CV 3/10; 3/48] END algorithm=auto, n_neighbors=3, p=3;, score=1.000 total time=   0.0s\n",
            "[CV 4/10; 3/48] START algorithm=auto, n_neighbors=3, p=3........................\n",
            "[CV 4/10; 3/48] END algorithm=auto, n_neighbors=3, p=3;, score=0.812 total time=   0.0s\n",
            "[CV 5/10; 3/48] START algorithm=auto, n_neighbors=3, p=3........................\n",
            "[CV 5/10; 3/48] END algorithm=auto, n_neighbors=3, p=3;, score=0.938 total time=   0.0s\n",
            "[CV 6/10; 3/48] START algorithm=auto, n_neighbors=3, p=3........................\n",
            "[CV 6/10; 3/48] END algorithm=auto, n_neighbors=3, p=3;, score=0.875 total time=   0.0s\n",
            "[CV 7/10; 3/48] START algorithm=auto, n_neighbors=3, p=3........................\n",
            "[CV 7/10; 3/48] END algorithm=auto, n_neighbors=3, p=3;, score=0.867 total time=   0.0s\n",
            "[CV 8/10; 3/48] START algorithm=auto, n_neighbors=3, p=3........................\n",
            "[CV 8/10; 3/48] END algorithm=auto, n_neighbors=3, p=3;, score=0.933 total time=   0.0s\n",
            "[CV 9/10; 3/48] START algorithm=auto, n_neighbors=3, p=3........................\n",
            "[CV 9/10; 3/48] END algorithm=auto, n_neighbors=3, p=3;, score=0.933 total time=   0.0s\n",
            "[CV 10/10; 3/48] START algorithm=auto, n_neighbors=3, p=3.......................\n",
            "[CV 10/10; 3/48] END algorithm=auto, n_neighbors=3, p=3;, score=0.867 total time=   0.0s\n",
            "[CV 1/10; 4/48] START algorithm=auto, n_neighbors=5, p=1........................\n",
            "[CV 1/10; 4/48] END algorithm=auto, n_neighbors=5, p=1;, score=0.938 total time=   0.0s\n",
            "[CV 2/10; 4/48] START algorithm=auto, n_neighbors=5, p=1........................\n",
            "[CV 2/10; 4/48] END algorithm=auto, n_neighbors=5, p=1;, score=0.938 total time=   0.0s\n",
            "[CV 3/10; 4/48] START algorithm=auto, n_neighbors=5, p=1........................\n",
            "[CV 3/10; 4/48] END algorithm=auto, n_neighbors=5, p=1;, score=1.000 total time=   0.0s\n",
            "[CV 4/10; 4/48] START algorithm=auto, n_neighbors=5, p=1........................\n",
            "[CV 4/10; 4/48] END algorithm=auto, n_neighbors=5, p=1;, score=0.938 total time=   0.0s\n",
            "[CV 5/10; 4/48] START algorithm=auto, n_neighbors=5, p=1........................\n",
            "[CV 5/10; 4/48] END algorithm=auto, n_neighbors=5, p=1;, score=0.875 total time=   0.0s\n",
            "[CV 6/10; 4/48] START algorithm=auto, n_neighbors=5, p=1........................\n",
            "[CV 6/10; 4/48] END algorithm=auto, n_neighbors=5, p=1;, score=0.875 total time=   0.0s\n",
            "[CV 7/10; 4/48] START algorithm=auto, n_neighbors=5, p=1........................\n",
            "[CV 7/10; 4/48] END algorithm=auto, n_neighbors=5, p=1;, score=0.933 total time=   0.0s\n",
            "[CV 8/10; 4/48] START algorithm=auto, n_neighbors=5, p=1........................\n",
            "[CV 8/10; 4/48] END algorithm=auto, n_neighbors=5, p=1;, score=0.933 total time=   0.0s\n",
            "[CV 9/10; 4/48] START algorithm=auto, n_neighbors=5, p=1........................\n",
            "[CV 9/10; 4/48] END algorithm=auto, n_neighbors=5, p=1;, score=0.867 total time=   0.0s\n",
            "[CV 10/10; 4/48] START algorithm=auto, n_neighbors=5, p=1.......................\n",
            "[CV 10/10; 4/48] END algorithm=auto, n_neighbors=5, p=1;, score=0.733 total time=   0.0s\n",
            "[CV 1/10; 5/48] START algorithm=auto, n_neighbors=5, p=2........................\n",
            "[CV 1/10; 5/48] END algorithm=auto, n_neighbors=5, p=2;, score=0.938 total time=   0.0s\n",
            "[CV 2/10; 5/48] START algorithm=auto, n_neighbors=5, p=2........................\n",
            "[CV 2/10; 5/48] END algorithm=auto, n_neighbors=5, p=2;, score=0.938 total time=   0.0s\n",
            "[CV 3/10; 5/48] START algorithm=auto, n_neighbors=5, p=2........................\n",
            "[CV 3/10; 5/48] END algorithm=auto, n_neighbors=5, p=2;, score=1.000 total time=   0.0s\n",
            "[CV 4/10; 5/48] START algorithm=auto, n_neighbors=5, p=2........................\n",
            "[CV 4/10; 5/48] END algorithm=auto, n_neighbors=5, p=2;, score=0.812 total time=   0.0s\n",
            "[CV 5/10; 5/48] START algorithm=auto, n_neighbors=5, p=2........................\n",
            "[CV 5/10; 5/48] END algorithm=auto, n_neighbors=5, p=2;, score=0.875 total time=   0.0s\n",
            "[CV 6/10; 5/48] START algorithm=auto, n_neighbors=5, p=2........................\n",
            "[CV 6/10; 5/48] END algorithm=auto, n_neighbors=5, p=2;, score=0.875 total time=   0.0s\n",
            "[CV 7/10; 5/48] START algorithm=auto, n_neighbors=5, p=2........................\n",
            "[CV 7/10; 5/48] END algorithm=auto, n_neighbors=5, p=2;, score=0.933 total time=   0.0s\n",
            "[CV 8/10; 5/48] START algorithm=auto, n_neighbors=5, p=2........................\n",
            "[CV 8/10; 5/48] END algorithm=auto, n_neighbors=5, p=2;, score=0.867 total time=   0.0s\n",
            "[CV 9/10; 5/48] START algorithm=auto, n_neighbors=5, p=2........................\n",
            "[CV 9/10; 5/48] END algorithm=auto, n_neighbors=5, p=2;, score=0.933 total time=   0.0s\n",
            "[CV 10/10; 5/48] START algorithm=auto, n_neighbors=5, p=2.......................\n",
            "[CV 10/10; 5/48] END algorithm=auto, n_neighbors=5, p=2;, score=0.733 total time=   0.0s\n",
            "[CV 1/10; 6/48] START algorithm=auto, n_neighbors=5, p=3........................\n",
            "[CV 1/10; 6/48] END algorithm=auto, n_neighbors=5, p=3;, score=0.938 total time=   0.0s\n",
            "[CV 2/10; 6/48] START algorithm=auto, n_neighbors=5, p=3........................\n",
            "[CV 2/10; 6/48] END algorithm=auto, n_neighbors=5, p=3;, score=0.875 total time=   0.0s\n",
            "[CV 3/10; 6/48] START algorithm=auto, n_neighbors=5, p=3........................\n",
            "[CV 3/10; 6/48] END algorithm=auto, n_neighbors=5, p=3;, score=1.000 total time=   0.0s\n",
            "[CV 4/10; 6/48] START algorithm=auto, n_neighbors=5, p=3........................\n",
            "[CV 4/10; 6/48] END algorithm=auto, n_neighbors=5, p=3;, score=0.812 total time=   0.0s\n",
            "[CV 5/10; 6/48] START algorithm=auto, n_neighbors=5, p=3........................\n",
            "[CV 5/10; 6/48] END algorithm=auto, n_neighbors=5, p=3;, score=0.875 total time=   0.0s\n",
            "[CV 6/10; 6/48] START algorithm=auto, n_neighbors=5, p=3........................\n",
            "[CV 6/10; 6/48] END algorithm=auto, n_neighbors=5, p=3;, score=0.875 total time=   0.0s\n",
            "[CV 7/10; 6/48] START algorithm=auto, n_neighbors=5, p=3........................\n",
            "[CV 7/10; 6/48] END algorithm=auto, n_neighbors=5, p=3;, score=0.867 total time=   0.0s\n",
            "[CV 8/10; 6/48] START algorithm=auto, n_neighbors=5, p=3........................\n",
            "[CV 8/10; 6/48] END algorithm=auto, n_neighbors=5, p=3;, score=0.933 total time=   0.0s\n",
            "[CV 9/10; 6/48] START algorithm=auto, n_neighbors=5, p=3........................\n",
            "[CV 9/10; 6/48] END algorithm=auto, n_neighbors=5, p=3;, score=0.933 total time=   0.0s\n",
            "[CV 10/10; 6/48] START algorithm=auto, n_neighbors=5, p=3.......................\n",
            "[CV 10/10; 6/48] END algorithm=auto, n_neighbors=5, p=3;, score=0.667 total time=   0.0s\n",
            "[CV 1/10; 7/48] START algorithm=auto, n_neighbors=9, p=1........................\n",
            "[CV 1/10; 7/48] END algorithm=auto, n_neighbors=9, p=1;, score=0.875 total time=   0.0s\n",
            "[CV 2/10; 7/48] START algorithm=auto, n_neighbors=9, p=1........................\n",
            "[CV 2/10; 7/48] END algorithm=auto, n_neighbors=9, p=1;, score=0.938 total time=   0.0s\n",
            "[CV 3/10; 7/48] START algorithm=auto, n_neighbors=9, p=1........................\n",
            "[CV 3/10; 7/48] END algorithm=auto, n_neighbors=9, p=1;, score=0.938 total time=   0.0s\n",
            "[CV 4/10; 7/48] START algorithm=auto, n_neighbors=9, p=1........................\n",
            "[CV 4/10; 7/48] END algorithm=auto, n_neighbors=9, p=1;, score=0.812 total time=   0.0s\n",
            "[CV 5/10; 7/48] START algorithm=auto, n_neighbors=9, p=1........................\n",
            "[CV 5/10; 7/48] END algorithm=auto, n_neighbors=9, p=1;, score=0.875 total time=   0.0s\n",
            "[CV 6/10; 7/48] START algorithm=auto, n_neighbors=9, p=1........................\n",
            "[CV 6/10; 7/48] END algorithm=auto, n_neighbors=9, p=1;, score=0.875 total time=   0.0s\n",
            "[CV 7/10; 7/48] START algorithm=auto, n_neighbors=9, p=1........................\n",
            "[CV 7/10; 7/48] END algorithm=auto, n_neighbors=9, p=1;, score=0.933 total time=   0.0s\n",
            "[CV 8/10; 7/48] START algorithm=auto, n_neighbors=9, p=1........................\n",
            "[CV 8/10; 7/48] END algorithm=auto, n_neighbors=9, p=1;, score=0.733 total time=   0.0s\n",
            "[CV 9/10; 7/48] START algorithm=auto, n_neighbors=9, p=1........................\n",
            "[CV 9/10; 7/48] END algorithm=auto, n_neighbors=9, p=1;, score=0.867 total time=   0.0s\n",
            "[CV 10/10; 7/48] START algorithm=auto, n_neighbors=9, p=1.......................\n",
            "[CV 10/10; 7/48] END algorithm=auto, n_neighbors=9, p=1;, score=0.867 total time=   0.0s\n",
            "[CV 1/10; 8/48] START algorithm=auto, n_neighbors=9, p=2........................\n",
            "[CV 1/10; 8/48] END algorithm=auto, n_neighbors=9, p=2;, score=0.812 total time=   0.0s\n",
            "[CV 2/10; 8/48] START algorithm=auto, n_neighbors=9, p=2........................\n",
            "[CV 2/10; 8/48] END algorithm=auto, n_neighbors=9, p=2;, score=0.875 total time=   0.0s\n",
            "[CV 3/10; 8/48] START algorithm=auto, n_neighbors=9, p=2........................\n",
            "[CV 3/10; 8/48] END algorithm=auto, n_neighbors=9, p=2;, score=0.938 total time=   0.0s\n",
            "[CV 4/10; 8/48] START algorithm=auto, n_neighbors=9, p=2........................\n",
            "[CV 4/10; 8/48] END algorithm=auto, n_neighbors=9, p=2;, score=0.875 total time=   0.0s\n",
            "[CV 5/10; 8/48] START algorithm=auto, n_neighbors=9, p=2........................\n",
            "[CV 5/10; 8/48] END algorithm=auto, n_neighbors=9, p=2;, score=0.875 total time=   0.0s\n",
            "[CV 6/10; 8/48] START algorithm=auto, n_neighbors=9, p=2........................\n",
            "[CV 6/10; 8/48] END algorithm=auto, n_neighbors=9, p=2;, score=0.875 total time=   0.0s\n",
            "[CV 7/10; 8/48] START algorithm=auto, n_neighbors=9, p=2........................\n",
            "[CV 7/10; 8/48] END algorithm=auto, n_neighbors=9, p=2;, score=0.867 total time=   0.0s\n",
            "[CV 8/10; 8/48] START algorithm=auto, n_neighbors=9, p=2........................\n",
            "[CV 8/10; 8/48] END algorithm=auto, n_neighbors=9, p=2;, score=0.800 total time=   0.0s\n",
            "[CV 9/10; 8/48] START algorithm=auto, n_neighbors=9, p=2........................\n",
            "[CV 9/10; 8/48] END algorithm=auto, n_neighbors=9, p=2;, score=0.933 total time=   0.0s\n",
            "[CV 10/10; 8/48] START algorithm=auto, n_neighbors=9, p=2.......................\n",
            "[CV 10/10; 8/48] END algorithm=auto, n_neighbors=9, p=2;, score=0.800 total time=   0.0s\n",
            "[CV 1/10; 9/48] START algorithm=auto, n_neighbors=9, p=3........................\n",
            "[CV 1/10; 9/48] END algorithm=auto, n_neighbors=9, p=3;, score=0.812 total time=   0.0s\n",
            "[CV 2/10; 9/48] START algorithm=auto, n_neighbors=9, p=3........................\n",
            "[CV 2/10; 9/48] END algorithm=auto, n_neighbors=9, p=3;, score=0.875 total time=   0.0s\n",
            "[CV 3/10; 9/48] START algorithm=auto, n_neighbors=9, p=3........................\n",
            "[CV 3/10; 9/48] END algorithm=auto, n_neighbors=9, p=3;, score=0.938 total time=   0.0s\n",
            "[CV 4/10; 9/48] START algorithm=auto, n_neighbors=9, p=3........................\n",
            "[CV 4/10; 9/48] END algorithm=auto, n_neighbors=9, p=3;, score=0.812 total time=   0.0s\n",
            "[CV 5/10; 9/48] START algorithm=auto, n_neighbors=9, p=3........................\n",
            "[CV 5/10; 9/48] END algorithm=auto, n_neighbors=9, p=3;, score=0.875 total time=   0.0s\n",
            "[CV 6/10; 9/48] START algorithm=auto, n_neighbors=9, p=3........................\n",
            "[CV 6/10; 9/48] END algorithm=auto, n_neighbors=9, p=3;, score=0.875 total time=   0.0s\n",
            "[CV 7/10; 9/48] START algorithm=auto, n_neighbors=9, p=3........................\n",
            "[CV 7/10; 9/48] END algorithm=auto, n_neighbors=9, p=3;, score=0.867 total time=   0.0s\n",
            "[CV 8/10; 9/48] START algorithm=auto, n_neighbors=9, p=3........................\n",
            "[CV 8/10; 9/48] END algorithm=auto, n_neighbors=9, p=3;, score=0.800 total time=   0.0s\n",
            "[CV 9/10; 9/48] START algorithm=auto, n_neighbors=9, p=3........................\n",
            "[CV 9/10; 9/48] END algorithm=auto, n_neighbors=9, p=3;, score=0.933 total time=   0.0s\n",
            "[CV 10/10; 9/48] START algorithm=auto, n_neighbors=9, p=3.......................\n",
            "[CV 10/10; 9/48] END algorithm=auto, n_neighbors=9, p=3;, score=0.733 total time=   0.0s\n",
            "[CV 1/10; 10/48] START algorithm=auto, n_neighbors=15, p=1......................\n",
            "[CV 1/10; 10/48] END algorithm=auto, n_neighbors=15, p=1;, score=0.875 total time=   0.0s\n",
            "[CV 2/10; 10/48] START algorithm=auto, n_neighbors=15, p=1......................\n",
            "[CV 2/10; 10/48] END algorithm=auto, n_neighbors=15, p=1;, score=0.875 total time=   0.0s\n",
            "[CV 3/10; 10/48] START algorithm=auto, n_neighbors=15, p=1......................\n",
            "[CV 3/10; 10/48] END algorithm=auto, n_neighbors=15, p=1;, score=0.875 total time=   0.0s\n",
            "[CV 4/10; 10/48] START algorithm=auto, n_neighbors=15, p=1......................\n",
            "[CV 4/10; 10/48] END algorithm=auto, n_neighbors=15, p=1;, score=0.812 total time=   0.0s\n",
            "[CV 5/10; 10/48] START algorithm=auto, n_neighbors=15, p=1......................\n",
            "[CV 5/10; 10/48] END algorithm=auto, n_neighbors=15, p=1;, score=0.875 total time=   0.0s\n",
            "[CV 6/10; 10/48] START algorithm=auto, n_neighbors=15, p=1......................\n",
            "[CV 6/10; 10/48] END algorithm=auto, n_neighbors=15, p=1;, score=0.875 total time=   0.0s\n",
            "[CV 7/10; 10/48] START algorithm=auto, n_neighbors=15, p=1......................\n",
            "[CV 7/10; 10/48] END algorithm=auto, n_neighbors=15, p=1;, score=0.867 total time=   0.0s\n",
            "[CV 8/10; 10/48] START algorithm=auto, n_neighbors=15, p=1......................\n",
            "[CV 8/10; 10/48] END algorithm=auto, n_neighbors=15, p=1;, score=0.733 total time=   0.0s\n",
            "[CV 9/10; 10/48] START algorithm=auto, n_neighbors=15, p=1......................\n",
            "[CV 9/10; 10/48] END algorithm=auto, n_neighbors=15, p=1;, score=0.800 total time=   0.0s\n",
            "[CV 10/10; 10/48] START algorithm=auto, n_neighbors=15, p=1.....................\n",
            "[CV 10/10; 10/48] END algorithm=auto, n_neighbors=15, p=1;, score=0.867 total time=   0.0s\n",
            "[CV 1/10; 11/48] START algorithm=auto, n_neighbors=15, p=2......................\n",
            "[CV 1/10; 11/48] END algorithm=auto, n_neighbors=15, p=2;, score=0.875 total time=   0.0s\n",
            "[CV 2/10; 11/48] START algorithm=auto, n_neighbors=15, p=2......................\n",
            "[CV 2/10; 11/48] END algorithm=auto, n_neighbors=15, p=2;, score=0.875 total time=   0.0s\n",
            "[CV 3/10; 11/48] START algorithm=auto, n_neighbors=15, p=2......................\n",
            "[CV 3/10; 11/48] END algorithm=auto, n_neighbors=15, p=2;, score=0.875 total time=   0.0s\n",
            "[CV 4/10; 11/48] START algorithm=auto, n_neighbors=15, p=2......................\n",
            "[CV 4/10; 11/48] END algorithm=auto, n_neighbors=15, p=2;, score=0.875 total time=   0.0s\n",
            "[CV 5/10; 11/48] START algorithm=auto, n_neighbors=15, p=2......................\n",
            "[CV 5/10; 11/48] END algorithm=auto, n_neighbors=15, p=2;, score=0.875 total time=   0.0s\n",
            "[CV 6/10; 11/48] START algorithm=auto, n_neighbors=15, p=2......................\n",
            "[CV 6/10; 11/48] END algorithm=auto, n_neighbors=15, p=2;, score=0.875 total time=   0.0s\n",
            "[CV 7/10; 11/48] START algorithm=auto, n_neighbors=15, p=2......................\n",
            "[CV 7/10; 11/48] END algorithm=auto, n_neighbors=15, p=2;, score=0.933 total time=   0.0s\n",
            "[CV 8/10; 11/48] START algorithm=auto, n_neighbors=15, p=2......................\n",
            "[CV 8/10; 11/48] END algorithm=auto, n_neighbors=15, p=2;, score=0.733 total time=   0.0s\n",
            "[CV 9/10; 11/48] START algorithm=auto, n_neighbors=15, p=2......................\n",
            "[CV 9/10; 11/48] END algorithm=auto, n_neighbors=15, p=2;, score=0.800 total time=   0.0s\n",
            "[CV 10/10; 11/48] START algorithm=auto, n_neighbors=15, p=2.....................\n",
            "[CV 10/10; 11/48] END algorithm=auto, n_neighbors=15, p=2;, score=0.800 total time=   0.0s\n",
            "[CV 1/10; 12/48] START algorithm=auto, n_neighbors=15, p=3......................\n",
            "[CV 1/10; 12/48] END algorithm=auto, n_neighbors=15, p=3;, score=0.812 total time=   0.0s\n",
            "[CV 2/10; 12/48] START algorithm=auto, n_neighbors=15, p=3......................\n",
            "[CV 2/10; 12/48] END algorithm=auto, n_neighbors=15, p=3;, score=0.875 total time=   0.0s\n",
            "[CV 3/10; 12/48] START algorithm=auto, n_neighbors=15, p=3......................\n",
            "[CV 3/10; 12/48] END algorithm=auto, n_neighbors=15, p=3;, score=0.875 total time=   0.0s\n",
            "[CV 4/10; 12/48] START algorithm=auto, n_neighbors=15, p=3......................\n",
            "[CV 4/10; 12/48] END algorithm=auto, n_neighbors=15, p=3;, score=0.875 total time=   0.0s\n",
            "[CV 5/10; 12/48] START algorithm=auto, n_neighbors=15, p=3......................\n",
            "[CV 5/10; 12/48] END algorithm=auto, n_neighbors=15, p=3;, score=0.875 total time=   0.0s\n",
            "[CV 6/10; 12/48] START algorithm=auto, n_neighbors=15, p=3......................\n",
            "[CV 6/10; 12/48] END algorithm=auto, n_neighbors=15, p=3;, score=0.812 total time=   0.0s\n",
            "[CV 7/10; 12/48] START algorithm=auto, n_neighbors=15, p=3......................\n",
            "[CV 7/10; 12/48] END algorithm=auto, n_neighbors=15, p=3;, score=0.933 total time=   0.0s\n",
            "[CV 8/10; 12/48] START algorithm=auto, n_neighbors=15, p=3......................\n",
            "[CV 8/10; 12/48] END algorithm=auto, n_neighbors=15, p=3;, score=0.800 total time=   0.0s\n",
            "[CV 9/10; 12/48] START algorithm=auto, n_neighbors=15, p=3......................\n",
            "[CV 9/10; 12/48] END algorithm=auto, n_neighbors=15, p=3;, score=0.800 total time=   0.0s\n",
            "[CV 10/10; 12/48] START algorithm=auto, n_neighbors=15, p=3.....................\n",
            "[CV 10/10; 12/48] END algorithm=auto, n_neighbors=15, p=3;, score=0.733 total time=   0.0s\n",
            "[CV 1/10; 13/48] START algorithm=ball_tree, n_neighbors=3, p=1..................\n",
            "[CV 1/10; 13/48] END algorithm=ball_tree, n_neighbors=3, p=1;, score=0.938 total time=   0.0s\n",
            "[CV 2/10; 13/48] START algorithm=ball_tree, n_neighbors=3, p=1..................\n",
            "[CV 2/10; 13/48] END algorithm=ball_tree, n_neighbors=3, p=1;, score=0.938 total time=   0.0s\n",
            "[CV 3/10; 13/48] START algorithm=ball_tree, n_neighbors=3, p=1..................\n",
            "[CV 3/10; 13/48] END algorithm=ball_tree, n_neighbors=3, p=1;, score=1.000 total time=   0.0s\n",
            "[CV 4/10; 13/48] START algorithm=ball_tree, n_neighbors=3, p=1..................\n",
            "[CV 4/10; 13/48] END algorithm=ball_tree, n_neighbors=3, p=1;, score=0.938 total time=   0.0s\n",
            "[CV 5/10; 13/48] START algorithm=ball_tree, n_neighbors=3, p=1..................\n",
            "[CV 5/10; 13/48] END algorithm=ball_tree, n_neighbors=3, p=1;, score=1.000 total time=   0.0s\n",
            "[CV 6/10; 13/48] START algorithm=ball_tree, n_neighbors=3, p=1..................\n",
            "[CV 6/10; 13/48] END algorithm=ball_tree, n_neighbors=3, p=1;, score=0.938 total time=   0.0s\n",
            "[CV 7/10; 13/48] START algorithm=ball_tree, n_neighbors=3, p=1..................\n",
            "[CV 7/10; 13/48] END algorithm=ball_tree, n_neighbors=3, p=1;, score=1.000 total time=   0.0s\n",
            "[CV 8/10; 13/48] START algorithm=ball_tree, n_neighbors=3, p=1..................\n",
            "[CV 8/10; 13/48] END algorithm=ball_tree, n_neighbors=3, p=1;, score=0.933 total time=   0.0s\n",
            "[CV 9/10; 13/48] START algorithm=ball_tree, n_neighbors=3, p=1..................\n",
            "[CV 9/10; 13/48] END algorithm=ball_tree, n_neighbors=3, p=1;, score=0.933 total time=   0.0s\n",
            "[CV 10/10; 13/48] START algorithm=ball_tree, n_neighbors=3, p=1.................\n",
            "[CV 10/10; 13/48] END algorithm=ball_tree, n_neighbors=3, p=1;, score=0.867 total time=   0.0s\n",
            "[CV 1/10; 14/48] START algorithm=ball_tree, n_neighbors=3, p=2..................\n",
            "[CV 1/10; 14/48] END algorithm=ball_tree, n_neighbors=3, p=2;, score=1.000 total time=   0.0s\n",
            "[CV 2/10; 14/48] START algorithm=ball_tree, n_neighbors=3, p=2..................\n",
            "[CV 2/10; 14/48] END algorithm=ball_tree, n_neighbors=3, p=2;, score=0.938 total time=   0.0s\n",
            "[CV 3/10; 14/48] START algorithm=ball_tree, n_neighbors=3, p=2..................\n",
            "[CV 3/10; 14/48] END algorithm=ball_tree, n_neighbors=3, p=2;, score=1.000 total time=   0.0s\n",
            "[CV 4/10; 14/48] START algorithm=ball_tree, n_neighbors=3, p=2..................\n",
            "[CV 4/10; 14/48] END algorithm=ball_tree, n_neighbors=3, p=2;, score=0.812 total time=   0.0s\n",
            "[CV 5/10; 14/48] START algorithm=ball_tree, n_neighbors=3, p=2..................\n",
            "[CV 5/10; 14/48] END algorithm=ball_tree, n_neighbors=3, p=2;, score=0.938 total time=   0.0s\n",
            "[CV 6/10; 14/48] START algorithm=ball_tree, n_neighbors=3, p=2..................\n",
            "[CV 6/10; 14/48] END algorithm=ball_tree, n_neighbors=3, p=2;, score=0.875 total time=   0.0s\n",
            "[CV 7/10; 14/48] START algorithm=ball_tree, n_neighbors=3, p=2..................\n",
            "[CV 7/10; 14/48] END algorithm=ball_tree, n_neighbors=3, p=2;, score=1.000 total time=   0.0s\n",
            "[CV 8/10; 14/48] START algorithm=ball_tree, n_neighbors=3, p=2..................\n",
            "[CV 8/10; 14/48] END algorithm=ball_tree, n_neighbors=3, p=2;, score=0.933 total time=   0.0s\n",
            "[CV 9/10; 14/48] START algorithm=ball_tree, n_neighbors=3, p=2..................\n",
            "[CV 9/10; 14/48] END algorithm=ball_tree, n_neighbors=3, p=2;, score=0.933 total time=   0.0s\n",
            "[CV 10/10; 14/48] START algorithm=ball_tree, n_neighbors=3, p=2.................\n",
            "[CV 10/10; 14/48] END algorithm=ball_tree, n_neighbors=3, p=2;, score=0.733 total time=   0.0s\n",
            "[CV 1/10; 15/48] START algorithm=ball_tree, n_neighbors=3, p=3..................\n",
            "[CV 1/10; 15/48] END algorithm=ball_tree, n_neighbors=3, p=3;, score=1.000 total time=   0.0s\n",
            "[CV 2/10; 15/48] START algorithm=ball_tree, n_neighbors=3, p=3..................\n",
            "[CV 2/10; 15/48] END algorithm=ball_tree, n_neighbors=3, p=3;, score=0.938 total time=   0.0s\n",
            "[CV 3/10; 15/48] START algorithm=ball_tree, n_neighbors=3, p=3..................\n",
            "[CV 3/10; 15/48] END algorithm=ball_tree, n_neighbors=3, p=3;, score=1.000 total time=   0.0s\n",
            "[CV 4/10; 15/48] START algorithm=ball_tree, n_neighbors=3, p=3..................\n",
            "[CV 4/10; 15/48] END algorithm=ball_tree, n_neighbors=3, p=3;, score=0.812 total time=   0.0s\n",
            "[CV 5/10; 15/48] START algorithm=ball_tree, n_neighbors=3, p=3..................\n",
            "[CV 5/10; 15/48] END algorithm=ball_tree, n_neighbors=3, p=3;, score=0.938 total time=   0.0s\n",
            "[CV 6/10; 15/48] START algorithm=ball_tree, n_neighbors=3, p=3..................\n",
            "[CV 6/10; 15/48] END algorithm=ball_tree, n_neighbors=3, p=3;, score=0.875 total time=   0.0s\n",
            "[CV 7/10; 15/48] START algorithm=ball_tree, n_neighbors=3, p=3..................\n",
            "[CV 7/10; 15/48] END algorithm=ball_tree, n_neighbors=3, p=3;, score=0.867 total time=   0.0s\n",
            "[CV 8/10; 15/48] START algorithm=ball_tree, n_neighbors=3, p=3..................\n",
            "[CV 8/10; 15/48] END algorithm=ball_tree, n_neighbors=3, p=3;, score=0.933 total time=   0.0s\n",
            "[CV 9/10; 15/48] START algorithm=ball_tree, n_neighbors=3, p=3..................\n",
            "[CV 9/10; 15/48] END algorithm=ball_tree, n_neighbors=3, p=3;, score=0.933 total time=   0.0s\n",
            "[CV 10/10; 15/48] START algorithm=ball_tree, n_neighbors=3, p=3.................\n",
            "[CV 10/10; 15/48] END algorithm=ball_tree, n_neighbors=3, p=3;, score=0.867 total time=   0.0s\n",
            "[CV 1/10; 16/48] START algorithm=ball_tree, n_neighbors=5, p=1..................\n",
            "[CV 1/10; 16/48] END algorithm=ball_tree, n_neighbors=5, p=1;, score=0.938 total time=   0.0s\n",
            "[CV 2/10; 16/48] START algorithm=ball_tree, n_neighbors=5, p=1..................\n",
            "[CV 2/10; 16/48] END algorithm=ball_tree, n_neighbors=5, p=1;, score=0.938 total time=   0.0s\n",
            "[CV 3/10; 16/48] START algorithm=ball_tree, n_neighbors=5, p=1..................\n",
            "[CV 3/10; 16/48] END algorithm=ball_tree, n_neighbors=5, p=1;, score=1.000 total time=   0.0s\n",
            "[CV 4/10; 16/48] START algorithm=ball_tree, n_neighbors=5, p=1..................\n",
            "[CV 4/10; 16/48] END algorithm=ball_tree, n_neighbors=5, p=1;, score=0.938 total time=   0.0s\n",
            "[CV 5/10; 16/48] START algorithm=ball_tree, n_neighbors=5, p=1..................\n",
            "[CV 5/10; 16/48] END algorithm=ball_tree, n_neighbors=5, p=1;, score=0.875 total time=   0.0s\n",
            "[CV 6/10; 16/48] START algorithm=ball_tree, n_neighbors=5, p=1..................\n",
            "[CV 6/10; 16/48] END algorithm=ball_tree, n_neighbors=5, p=1;, score=0.875 total time=   0.0s\n",
            "[CV 7/10; 16/48] START algorithm=ball_tree, n_neighbors=5, p=1..................\n",
            "[CV 7/10; 16/48] END algorithm=ball_tree, n_neighbors=5, p=1;, score=0.933 total time=   0.0s\n",
            "[CV 8/10; 16/48] START algorithm=ball_tree, n_neighbors=5, p=1..................\n",
            "[CV 8/10; 16/48] END algorithm=ball_tree, n_neighbors=5, p=1;, score=0.933 total time=   0.0s\n",
            "[CV 9/10; 16/48] START algorithm=ball_tree, n_neighbors=5, p=1..................\n",
            "[CV 9/10; 16/48] END algorithm=ball_tree, n_neighbors=5, p=1;, score=0.867 total time=   0.0s\n",
            "[CV 10/10; 16/48] START algorithm=ball_tree, n_neighbors=5, p=1.................\n",
            "[CV 10/10; 16/48] END algorithm=ball_tree, n_neighbors=5, p=1;, score=0.733 total time=   0.0s\n",
            "[CV 1/10; 17/48] START algorithm=ball_tree, n_neighbors=5, p=2..................\n",
            "[CV 1/10; 17/48] END algorithm=ball_tree, n_neighbors=5, p=2;, score=0.938 total time=   0.0s\n",
            "[CV 2/10; 17/48] START algorithm=ball_tree, n_neighbors=5, p=2..................\n",
            "[CV 2/10; 17/48] END algorithm=ball_tree, n_neighbors=5, p=2;, score=0.938 total time=   0.0s\n",
            "[CV 3/10; 17/48] START algorithm=ball_tree, n_neighbors=5, p=2..................\n",
            "[CV 3/10; 17/48] END algorithm=ball_tree, n_neighbors=5, p=2;, score=1.000 total time=   0.0s\n",
            "[CV 4/10; 17/48] START algorithm=ball_tree, n_neighbors=5, p=2..................\n",
            "[CV 4/10; 17/48] END algorithm=ball_tree, n_neighbors=5, p=2;, score=0.812 total time=   0.0s\n",
            "[CV 5/10; 17/48] START algorithm=ball_tree, n_neighbors=5, p=2..................\n",
            "[CV 5/10; 17/48] END algorithm=ball_tree, n_neighbors=5, p=2;, score=0.875 total time=   0.0s\n",
            "[CV 6/10; 17/48] START algorithm=ball_tree, n_neighbors=5, p=2..................\n",
            "[CV 6/10; 17/48] END algorithm=ball_tree, n_neighbors=5, p=2;, score=0.875 total time=   0.0s\n",
            "[CV 7/10; 17/48] START algorithm=ball_tree, n_neighbors=5, p=2..................\n",
            "[CV 7/10; 17/48] END algorithm=ball_tree, n_neighbors=5, p=2;, score=0.933 total time=   0.0s\n",
            "[CV 8/10; 17/48] START algorithm=ball_tree, n_neighbors=5, p=2..................\n",
            "[CV 8/10; 17/48] END algorithm=ball_tree, n_neighbors=5, p=2;, score=0.867 total time=   0.0s\n",
            "[CV 9/10; 17/48] START algorithm=ball_tree, n_neighbors=5, p=2..................\n",
            "[CV 9/10; 17/48] END algorithm=ball_tree, n_neighbors=5, p=2;, score=0.933 total time=   0.0s\n",
            "[CV 10/10; 17/48] START algorithm=ball_tree, n_neighbors=5, p=2.................\n",
            "[CV 10/10; 17/48] END algorithm=ball_tree, n_neighbors=5, p=2;, score=0.733 total time=   0.0s\n",
            "[CV 1/10; 18/48] START algorithm=ball_tree, n_neighbors=5, p=3..................\n",
            "[CV 1/10; 18/48] END algorithm=ball_tree, n_neighbors=5, p=3;, score=0.938 total time=   0.0s\n",
            "[CV 2/10; 18/48] START algorithm=ball_tree, n_neighbors=5, p=3..................\n",
            "[CV 2/10; 18/48] END algorithm=ball_tree, n_neighbors=5, p=3;, score=0.875 total time=   0.0s\n",
            "[CV 3/10; 18/48] START algorithm=ball_tree, n_neighbors=5, p=3..................\n",
            "[CV 3/10; 18/48] END algorithm=ball_tree, n_neighbors=5, p=3;, score=1.000 total time=   0.0s\n",
            "[CV 4/10; 18/48] START algorithm=ball_tree, n_neighbors=5, p=3..................\n",
            "[CV 4/10; 18/48] END algorithm=ball_tree, n_neighbors=5, p=3;, score=0.812 total time=   0.0s\n",
            "[CV 5/10; 18/48] START algorithm=ball_tree, n_neighbors=5, p=3..................\n",
            "[CV 5/10; 18/48] END algorithm=ball_tree, n_neighbors=5, p=3;, score=0.875 total time=   0.0s\n",
            "[CV 6/10; 18/48] START algorithm=ball_tree, n_neighbors=5, p=3..................\n",
            "[CV 6/10; 18/48] END algorithm=ball_tree, n_neighbors=5, p=3;, score=0.875 total time=   0.0s\n",
            "[CV 7/10; 18/48] START algorithm=ball_tree, n_neighbors=5, p=3..................\n",
            "[CV 7/10; 18/48] END algorithm=ball_tree, n_neighbors=5, p=3;, score=0.867 total time=   0.0s\n",
            "[CV 8/10; 18/48] START algorithm=ball_tree, n_neighbors=5, p=3..................\n",
            "[CV 8/10; 18/48] END algorithm=ball_tree, n_neighbors=5, p=3;, score=0.933 total time=   0.0s\n",
            "[CV 9/10; 18/48] START algorithm=ball_tree, n_neighbors=5, p=3..................\n",
            "[CV 9/10; 18/48] END algorithm=ball_tree, n_neighbors=5, p=3;, score=0.933 total time=   0.0s\n",
            "[CV 10/10; 18/48] START algorithm=ball_tree, n_neighbors=5, p=3.................\n",
            "[CV 10/10; 18/48] END algorithm=ball_tree, n_neighbors=5, p=3;, score=0.667 total time=   0.0s\n",
            "[CV 1/10; 19/48] START algorithm=ball_tree, n_neighbors=9, p=1..................\n",
            "[CV 1/10; 19/48] END algorithm=ball_tree, n_neighbors=9, p=1;, score=0.875 total time=   0.0s\n",
            "[CV 2/10; 19/48] START algorithm=ball_tree, n_neighbors=9, p=1..................\n",
            "[CV 2/10; 19/48] END algorithm=ball_tree, n_neighbors=9, p=1;, score=0.938 total time=   0.0s\n",
            "[CV 3/10; 19/48] START algorithm=ball_tree, n_neighbors=9, p=1..................\n",
            "[CV 3/10; 19/48] END algorithm=ball_tree, n_neighbors=9, p=1;, score=0.938 total time=   0.0s\n",
            "[CV 4/10; 19/48] START algorithm=ball_tree, n_neighbors=9, p=1..................\n",
            "[CV 4/10; 19/48] END algorithm=ball_tree, n_neighbors=9, p=1;, score=0.812 total time=   0.0s\n",
            "[CV 5/10; 19/48] START algorithm=ball_tree, n_neighbors=9, p=1..................\n",
            "[CV 5/10; 19/48] END algorithm=ball_tree, n_neighbors=9, p=1;, score=0.875 total time=   0.0s\n",
            "[CV 6/10; 19/48] START algorithm=ball_tree, n_neighbors=9, p=1..................\n",
            "[CV 6/10; 19/48] END algorithm=ball_tree, n_neighbors=9, p=1;, score=0.875 total time=   0.0s\n",
            "[CV 7/10; 19/48] START algorithm=ball_tree, n_neighbors=9, p=1..................\n",
            "[CV 7/10; 19/48] END algorithm=ball_tree, n_neighbors=9, p=1;, score=0.933 total time=   0.0s\n",
            "[CV 8/10; 19/48] START algorithm=ball_tree, n_neighbors=9, p=1..................\n",
            "[CV 8/10; 19/48] END algorithm=ball_tree, n_neighbors=9, p=1;, score=0.733 total time=   0.0s\n",
            "[CV 9/10; 19/48] START algorithm=ball_tree, n_neighbors=9, p=1..................\n",
            "[CV 9/10; 19/48] END algorithm=ball_tree, n_neighbors=9, p=1;, score=0.867 total time=   0.0s\n",
            "[CV 10/10; 19/48] START algorithm=ball_tree, n_neighbors=9, p=1.................\n",
            "[CV 10/10; 19/48] END algorithm=ball_tree, n_neighbors=9, p=1;, score=0.867 total time=   0.0s\n",
            "[CV 1/10; 20/48] START algorithm=ball_tree, n_neighbors=9, p=2..................\n",
            "[CV 1/10; 20/48] END algorithm=ball_tree, n_neighbors=9, p=2;, score=0.812 total time=   0.0s\n",
            "[CV 2/10; 20/48] START algorithm=ball_tree, n_neighbors=9, p=2..................\n",
            "[CV 2/10; 20/48] END algorithm=ball_tree, n_neighbors=9, p=2;, score=0.875 total time=   0.0s\n",
            "[CV 3/10; 20/48] START algorithm=ball_tree, n_neighbors=9, p=2..................\n",
            "[CV 3/10; 20/48] END algorithm=ball_tree, n_neighbors=9, p=2;, score=0.938 total time=   0.0s\n",
            "[CV 4/10; 20/48] START algorithm=ball_tree, n_neighbors=9, p=2..................\n",
            "[CV 4/10; 20/48] END algorithm=ball_tree, n_neighbors=9, p=2;, score=0.875 total time=   0.0s\n",
            "[CV 5/10; 20/48] START algorithm=ball_tree, n_neighbors=9, p=2..................\n",
            "[CV 5/10; 20/48] END algorithm=ball_tree, n_neighbors=9, p=2;, score=0.875 total time=   0.0s\n",
            "[CV 6/10; 20/48] START algorithm=ball_tree, n_neighbors=9, p=2..................\n",
            "[CV 6/10; 20/48] END algorithm=ball_tree, n_neighbors=9, p=2;, score=0.875 total time=   0.0s\n",
            "[CV 7/10; 20/48] START algorithm=ball_tree, n_neighbors=9, p=2..................\n",
            "[CV 7/10; 20/48] END algorithm=ball_tree, n_neighbors=9, p=2;, score=0.867 total time=   0.0s\n",
            "[CV 8/10; 20/48] START algorithm=ball_tree, n_neighbors=9, p=2..................\n",
            "[CV 8/10; 20/48] END algorithm=ball_tree, n_neighbors=9, p=2;, score=0.800 total time=   0.0s\n",
            "[CV 9/10; 20/48] START algorithm=ball_tree, n_neighbors=9, p=2..................\n",
            "[CV 9/10; 20/48] END algorithm=ball_tree, n_neighbors=9, p=2;, score=0.933 total time=   0.0s\n",
            "[CV 10/10; 20/48] START algorithm=ball_tree, n_neighbors=9, p=2.................\n",
            "[CV 10/10; 20/48] END algorithm=ball_tree, n_neighbors=9, p=2;, score=0.800 total time=   0.0s\n",
            "[CV 1/10; 21/48] START algorithm=ball_tree, n_neighbors=9, p=3..................\n",
            "[CV 1/10; 21/48] END algorithm=ball_tree, n_neighbors=9, p=3;, score=0.812 total time=   0.0s\n",
            "[CV 2/10; 21/48] START algorithm=ball_tree, n_neighbors=9, p=3..................\n",
            "[CV 2/10; 21/48] END algorithm=ball_tree, n_neighbors=9, p=3;, score=0.875 total time=   0.0s\n",
            "[CV 3/10; 21/48] START algorithm=ball_tree, n_neighbors=9, p=3..................\n",
            "[CV 3/10; 21/48] END algorithm=ball_tree, n_neighbors=9, p=3;, score=0.938 total time=   0.0s\n",
            "[CV 4/10; 21/48] START algorithm=ball_tree, n_neighbors=9, p=3..................\n",
            "[CV 4/10; 21/48] END algorithm=ball_tree, n_neighbors=9, p=3;, score=0.812 total time=   0.0s\n",
            "[CV 5/10; 21/48] START algorithm=ball_tree, n_neighbors=9, p=3..................\n",
            "[CV 5/10; 21/48] END algorithm=ball_tree, n_neighbors=9, p=3;, score=0.875 total time=   0.0s\n",
            "[CV 6/10; 21/48] START algorithm=ball_tree, n_neighbors=9, p=3..................\n",
            "[CV 6/10; 21/48] END algorithm=ball_tree, n_neighbors=9, p=3;, score=0.875 total time=   0.0s\n",
            "[CV 7/10; 21/48] START algorithm=ball_tree, n_neighbors=9, p=3..................\n",
            "[CV 7/10; 21/48] END algorithm=ball_tree, n_neighbors=9, p=3;, score=0.867 total time=   0.0s\n",
            "[CV 8/10; 21/48] START algorithm=ball_tree, n_neighbors=9, p=3..................\n",
            "[CV 8/10; 21/48] END algorithm=ball_tree, n_neighbors=9, p=3;, score=0.800 total time=   0.0s\n",
            "[CV 9/10; 21/48] START algorithm=ball_tree, n_neighbors=9, p=3..................\n",
            "[CV 9/10; 21/48] END algorithm=ball_tree, n_neighbors=9, p=3;, score=0.933 total time=   0.0s\n",
            "[CV 10/10; 21/48] START algorithm=ball_tree, n_neighbors=9, p=3.................\n",
            "[CV 10/10; 21/48] END algorithm=ball_tree, n_neighbors=9, p=3;, score=0.733 total time=   0.0s\n",
            "[CV 1/10; 22/48] START algorithm=ball_tree, n_neighbors=15, p=1.................\n",
            "[CV 1/10; 22/48] END algorithm=ball_tree, n_neighbors=15, p=1;, score=0.875 total time=   0.0s\n",
            "[CV 2/10; 22/48] START algorithm=ball_tree, n_neighbors=15, p=1.................\n",
            "[CV 2/10; 22/48] END algorithm=ball_tree, n_neighbors=15, p=1;, score=0.875 total time=   0.0s\n",
            "[CV 3/10; 22/48] START algorithm=ball_tree, n_neighbors=15, p=1.................\n",
            "[CV 3/10; 22/48] END algorithm=ball_tree, n_neighbors=15, p=1;, score=0.875 total time=   0.0s\n",
            "[CV 4/10; 22/48] START algorithm=ball_tree, n_neighbors=15, p=1.................\n",
            "[CV 4/10; 22/48] END algorithm=ball_tree, n_neighbors=15, p=1;, score=0.812 total time=   0.0s\n",
            "[CV 5/10; 22/48] START algorithm=ball_tree, n_neighbors=15, p=1.................\n",
            "[CV 5/10; 22/48] END algorithm=ball_tree, n_neighbors=15, p=1;, score=0.875 total time=   0.0s\n",
            "[CV 6/10; 22/48] START algorithm=ball_tree, n_neighbors=15, p=1.................\n",
            "[CV 6/10; 22/48] END algorithm=ball_tree, n_neighbors=15, p=1;, score=0.875 total time=   0.0s\n",
            "[CV 7/10; 22/48] START algorithm=ball_tree, n_neighbors=15, p=1.................\n",
            "[CV 7/10; 22/48] END algorithm=ball_tree, n_neighbors=15, p=1;, score=0.867 total time=   0.0s\n",
            "[CV 8/10; 22/48] START algorithm=ball_tree, n_neighbors=15, p=1.................\n",
            "[CV 8/10; 22/48] END algorithm=ball_tree, n_neighbors=15, p=1;, score=0.733 total time=   0.0s\n",
            "[CV 9/10; 22/48] START algorithm=ball_tree, n_neighbors=15, p=1.................\n",
            "[CV 9/10; 22/48] END algorithm=ball_tree, n_neighbors=15, p=1;, score=0.800 total time=   0.0s\n",
            "[CV 10/10; 22/48] START algorithm=ball_tree, n_neighbors=15, p=1................\n",
            "[CV 10/10; 22/48] END algorithm=ball_tree, n_neighbors=15, p=1;, score=0.867 total time=   0.0s\n",
            "[CV 1/10; 23/48] START algorithm=ball_tree, n_neighbors=15, p=2.................\n",
            "[CV 1/10; 23/48] END algorithm=ball_tree, n_neighbors=15, p=2;, score=0.875 total time=   0.0s\n",
            "[CV 2/10; 23/48] START algorithm=ball_tree, n_neighbors=15, p=2.................\n",
            "[CV 2/10; 23/48] END algorithm=ball_tree, n_neighbors=15, p=2;, score=0.875 total time=   0.0s\n",
            "[CV 3/10; 23/48] START algorithm=ball_tree, n_neighbors=15, p=2.................\n",
            "[CV 3/10; 23/48] END algorithm=ball_tree, n_neighbors=15, p=2;, score=0.875 total time=   0.0s\n",
            "[CV 4/10; 23/48] START algorithm=ball_tree, n_neighbors=15, p=2.................\n",
            "[CV 4/10; 23/48] END algorithm=ball_tree, n_neighbors=15, p=2;, score=0.875 total time=   0.0s\n",
            "[CV 5/10; 23/48] START algorithm=ball_tree, n_neighbors=15, p=2.................\n",
            "[CV 5/10; 23/48] END algorithm=ball_tree, n_neighbors=15, p=2;, score=0.875 total time=   0.0s\n",
            "[CV 6/10; 23/48] START algorithm=ball_tree, n_neighbors=15, p=2.................\n",
            "[CV 6/10; 23/48] END algorithm=ball_tree, n_neighbors=15, p=2;, score=0.875 total time=   0.0s\n",
            "[CV 7/10; 23/48] START algorithm=ball_tree, n_neighbors=15, p=2.................\n",
            "[CV 7/10; 23/48] END algorithm=ball_tree, n_neighbors=15, p=2;, score=0.933 total time=   0.0s\n",
            "[CV 8/10; 23/48] START algorithm=ball_tree, n_neighbors=15, p=2.................\n",
            "[CV 8/10; 23/48] END algorithm=ball_tree, n_neighbors=15, p=2;, score=0.733 total time=   0.0s\n",
            "[CV 9/10; 23/48] START algorithm=ball_tree, n_neighbors=15, p=2.................\n",
            "[CV 9/10; 23/48] END algorithm=ball_tree, n_neighbors=15, p=2;, score=0.800 total time=   0.0s\n",
            "[CV 10/10; 23/48] START algorithm=ball_tree, n_neighbors=15, p=2................\n",
            "[CV 10/10; 23/48] END algorithm=ball_tree, n_neighbors=15, p=2;, score=0.800 total time=   0.0s\n",
            "[CV 1/10; 24/48] START algorithm=ball_tree, n_neighbors=15, p=3.................\n",
            "[CV 1/10; 24/48] END algorithm=ball_tree, n_neighbors=15, p=3;, score=0.812 total time=   0.0s\n",
            "[CV 2/10; 24/48] START algorithm=ball_tree, n_neighbors=15, p=3.................\n",
            "[CV 2/10; 24/48] END algorithm=ball_tree, n_neighbors=15, p=3;, score=0.875 total time=   0.0s\n",
            "[CV 3/10; 24/48] START algorithm=ball_tree, n_neighbors=15, p=3.................\n",
            "[CV 3/10; 24/48] END algorithm=ball_tree, n_neighbors=15, p=3;, score=0.875 total time=   0.0s\n",
            "[CV 4/10; 24/48] START algorithm=ball_tree, n_neighbors=15, p=3.................\n",
            "[CV 4/10; 24/48] END algorithm=ball_tree, n_neighbors=15, p=3;, score=0.875 total time=   0.0s\n",
            "[CV 5/10; 24/48] START algorithm=ball_tree, n_neighbors=15, p=3.................\n",
            "[CV 5/10; 24/48] END algorithm=ball_tree, n_neighbors=15, p=3;, score=0.875 total time=   0.0s\n",
            "[CV 6/10; 24/48] START algorithm=ball_tree, n_neighbors=15, p=3.................\n",
            "[CV 6/10; 24/48] END algorithm=ball_tree, n_neighbors=15, p=3;, score=0.812 total time=   0.0s\n",
            "[CV 7/10; 24/48] START algorithm=ball_tree, n_neighbors=15, p=3.................\n",
            "[CV 7/10; 24/48] END algorithm=ball_tree, n_neighbors=15, p=3;, score=0.933 total time=   0.0s\n",
            "[CV 8/10; 24/48] START algorithm=ball_tree, n_neighbors=15, p=3.................\n",
            "[CV 8/10; 24/48] END algorithm=ball_tree, n_neighbors=15, p=3;, score=0.800 total time=   0.0s\n",
            "[CV 9/10; 24/48] START algorithm=ball_tree, n_neighbors=15, p=3.................\n",
            "[CV 9/10; 24/48] END algorithm=ball_tree, n_neighbors=15, p=3;, score=0.800 total time=   0.0s\n",
            "[CV 10/10; 24/48] START algorithm=ball_tree, n_neighbors=15, p=3................\n",
            "[CV 10/10; 24/48] END algorithm=ball_tree, n_neighbors=15, p=3;, score=0.733 total time=   0.0s\n",
            "[CV 1/10; 25/48] START algorithm=kd_tree, n_neighbors=3, p=1....................\n",
            "[CV 1/10; 25/48] END algorithm=kd_tree, n_neighbors=3, p=1;, score=0.938 total time=   0.0s\n",
            "[CV 2/10; 25/48] START algorithm=kd_tree, n_neighbors=3, p=1....................\n",
            "[CV 2/10; 25/48] END algorithm=kd_tree, n_neighbors=3, p=1;, score=0.938 total time=   0.0s\n",
            "[CV 3/10; 25/48] START algorithm=kd_tree, n_neighbors=3, p=1....................\n",
            "[CV 3/10; 25/48] END algorithm=kd_tree, n_neighbors=3, p=1;, score=1.000 total time=   0.0s\n",
            "[CV 4/10; 25/48] START algorithm=kd_tree, n_neighbors=3, p=1....................\n",
            "[CV 4/10; 25/48] END algorithm=kd_tree, n_neighbors=3, p=1;, score=0.938 total time=   0.0s\n",
            "[CV 5/10; 25/48] START algorithm=kd_tree, n_neighbors=3, p=1....................\n",
            "[CV 5/10; 25/48] END algorithm=kd_tree, n_neighbors=3, p=1;, score=1.000 total time=   0.0s\n",
            "[CV 6/10; 25/48] START algorithm=kd_tree, n_neighbors=3, p=1....................\n",
            "[CV 6/10; 25/48] END algorithm=kd_tree, n_neighbors=3, p=1;, score=0.938 total time=   0.0s\n",
            "[CV 7/10; 25/48] START algorithm=kd_tree, n_neighbors=3, p=1....................\n",
            "[CV 7/10; 25/48] END algorithm=kd_tree, n_neighbors=3, p=1;, score=1.000 total time=   0.0s\n",
            "[CV 8/10; 25/48] START algorithm=kd_tree, n_neighbors=3, p=1....................\n",
            "[CV 8/10; 25/48] END algorithm=kd_tree, n_neighbors=3, p=1;, score=0.933 total time=   0.0s\n",
            "[CV 9/10; 25/48] START algorithm=kd_tree, n_neighbors=3, p=1....................\n",
            "[CV 9/10; 25/48] END algorithm=kd_tree, n_neighbors=3, p=1;, score=0.933 total time=   0.0s\n",
            "[CV 10/10; 25/48] START algorithm=kd_tree, n_neighbors=3, p=1...................\n",
            "[CV 10/10; 25/48] END algorithm=kd_tree, n_neighbors=3, p=1;, score=0.867 total time=   0.0s\n",
            "[CV 1/10; 26/48] START algorithm=kd_tree, n_neighbors=3, p=2....................\n",
            "[CV 1/10; 26/48] END algorithm=kd_tree, n_neighbors=3, p=2;, score=1.000 total time=   0.0s\n",
            "[CV 2/10; 26/48] START algorithm=kd_tree, n_neighbors=3, p=2....................\n",
            "[CV 2/10; 26/48] END algorithm=kd_tree, n_neighbors=3, p=2;, score=0.938 total time=   0.0s\n",
            "[CV 3/10; 26/48] START algorithm=kd_tree, n_neighbors=3, p=2....................\n",
            "[CV 3/10; 26/48] END algorithm=kd_tree, n_neighbors=3, p=2;, score=1.000 total time=   0.0s\n",
            "[CV 4/10; 26/48] START algorithm=kd_tree, n_neighbors=3, p=2....................\n",
            "[CV 4/10; 26/48] END algorithm=kd_tree, n_neighbors=3, p=2;, score=0.812 total time=   0.0s\n",
            "[CV 5/10; 26/48] START algorithm=kd_tree, n_neighbors=3, p=2....................\n",
            "[CV 5/10; 26/48] END algorithm=kd_tree, n_neighbors=3, p=2;, score=0.938 total time=   0.0s\n",
            "[CV 6/10; 26/48] START algorithm=kd_tree, n_neighbors=3, p=2....................\n",
            "[CV 6/10; 26/48] END algorithm=kd_tree, n_neighbors=3, p=2;, score=0.875 total time=   0.0s\n",
            "[CV 7/10; 26/48] START algorithm=kd_tree, n_neighbors=3, p=2....................\n",
            "[CV 7/10; 26/48] END algorithm=kd_tree, n_neighbors=3, p=2;, score=1.000 total time=   0.0s\n",
            "[CV 8/10; 26/48] START algorithm=kd_tree, n_neighbors=3, p=2....................\n",
            "[CV 8/10; 26/48] END algorithm=kd_tree, n_neighbors=3, p=2;, score=0.933 total time=   0.0s\n",
            "[CV 9/10; 26/48] START algorithm=kd_tree, n_neighbors=3, p=2....................\n",
            "[CV 9/10; 26/48] END algorithm=kd_tree, n_neighbors=3, p=2;, score=0.933 total time=   0.0s\n",
            "[CV 10/10; 26/48] START algorithm=kd_tree, n_neighbors=3, p=2...................\n",
            "[CV 10/10; 26/48] END algorithm=kd_tree, n_neighbors=3, p=2;, score=0.733 total time=   0.0s\n",
            "[CV 1/10; 27/48] START algorithm=kd_tree, n_neighbors=3, p=3....................\n",
            "[CV 1/10; 27/48] END algorithm=kd_tree, n_neighbors=3, p=3;, score=1.000 total time=   0.0s\n",
            "[CV 2/10; 27/48] START algorithm=kd_tree, n_neighbors=3, p=3....................\n",
            "[CV 2/10; 27/48] END algorithm=kd_tree, n_neighbors=3, p=3;, score=0.938 total time=   0.0s\n",
            "[CV 3/10; 27/48] START algorithm=kd_tree, n_neighbors=3, p=3....................\n",
            "[CV 3/10; 27/48] END algorithm=kd_tree, n_neighbors=3, p=3;, score=1.000 total time=   0.0s\n",
            "[CV 4/10; 27/48] START algorithm=kd_tree, n_neighbors=3, p=3....................\n",
            "[CV 4/10; 27/48] END algorithm=kd_tree, n_neighbors=3, p=3;, score=0.812 total time=   0.0s\n",
            "[CV 5/10; 27/48] START algorithm=kd_tree, n_neighbors=3, p=3....................\n",
            "[CV 5/10; 27/48] END algorithm=kd_tree, n_neighbors=3, p=3;, score=0.938 total time=   0.0s\n",
            "[CV 6/10; 27/48] START algorithm=kd_tree, n_neighbors=3, p=3....................\n",
            "[CV 6/10; 27/48] END algorithm=kd_tree, n_neighbors=3, p=3;, score=0.875 total time=   0.0s\n",
            "[CV 7/10; 27/48] START algorithm=kd_tree, n_neighbors=3, p=3....................\n",
            "[CV 7/10; 27/48] END algorithm=kd_tree, n_neighbors=3, p=3;, score=0.867 total time=   0.0s\n",
            "[CV 8/10; 27/48] START algorithm=kd_tree, n_neighbors=3, p=3....................\n",
            "[CV 8/10; 27/48] END algorithm=kd_tree, n_neighbors=3, p=3;, score=0.933 total time=   0.0s\n",
            "[CV 9/10; 27/48] START algorithm=kd_tree, n_neighbors=3, p=3....................\n",
            "[CV 9/10; 27/48] END algorithm=kd_tree, n_neighbors=3, p=3;, score=0.933 total time=   0.0s\n",
            "[CV 10/10; 27/48] START algorithm=kd_tree, n_neighbors=3, p=3...................\n",
            "[CV 10/10; 27/48] END algorithm=kd_tree, n_neighbors=3, p=3;, score=0.867 total time=   0.0s\n",
            "[CV 1/10; 28/48] START algorithm=kd_tree, n_neighbors=5, p=1....................\n",
            "[CV 1/10; 28/48] END algorithm=kd_tree, n_neighbors=5, p=1;, score=0.938 total time=   0.0s\n",
            "[CV 2/10; 28/48] START algorithm=kd_tree, n_neighbors=5, p=1....................\n",
            "[CV 2/10; 28/48] END algorithm=kd_tree, n_neighbors=5, p=1;, score=0.938 total time=   0.0s\n",
            "[CV 3/10; 28/48] START algorithm=kd_tree, n_neighbors=5, p=1....................\n",
            "[CV 3/10; 28/48] END algorithm=kd_tree, n_neighbors=5, p=1;, score=1.000 total time=   0.0s\n",
            "[CV 4/10; 28/48] START algorithm=kd_tree, n_neighbors=5, p=1....................\n",
            "[CV 4/10; 28/48] END algorithm=kd_tree, n_neighbors=5, p=1;, score=0.938 total time=   0.0s\n",
            "[CV 5/10; 28/48] START algorithm=kd_tree, n_neighbors=5, p=1....................\n",
            "[CV 5/10; 28/48] END algorithm=kd_tree, n_neighbors=5, p=1;, score=0.875 total time=   0.0s\n",
            "[CV 6/10; 28/48] START algorithm=kd_tree, n_neighbors=5, p=1....................\n",
            "[CV 6/10; 28/48] END algorithm=kd_tree, n_neighbors=5, p=1;, score=0.875 total time=   0.0s\n",
            "[CV 7/10; 28/48] START algorithm=kd_tree, n_neighbors=5, p=1....................\n",
            "[CV 7/10; 28/48] END algorithm=kd_tree, n_neighbors=5, p=1;, score=0.933 total time=   0.0s\n",
            "[CV 8/10; 28/48] START algorithm=kd_tree, n_neighbors=5, p=1....................\n",
            "[CV 8/10; 28/48] END algorithm=kd_tree, n_neighbors=5, p=1;, score=0.933 total time=   0.0s\n",
            "[CV 9/10; 28/48] START algorithm=kd_tree, n_neighbors=5, p=1....................\n",
            "[CV 9/10; 28/48] END algorithm=kd_tree, n_neighbors=5, p=1;, score=0.867 total time=   0.0s\n",
            "[CV 10/10; 28/48] START algorithm=kd_tree, n_neighbors=5, p=1...................\n",
            "[CV 10/10; 28/48] END algorithm=kd_tree, n_neighbors=5, p=1;, score=0.733 total time=   0.0s\n",
            "[CV 1/10; 29/48] START algorithm=kd_tree, n_neighbors=5, p=2....................\n",
            "[CV 1/10; 29/48] END algorithm=kd_tree, n_neighbors=5, p=2;, score=0.938 total time=   0.0s\n",
            "[CV 2/10; 29/48] START algorithm=kd_tree, n_neighbors=5, p=2....................\n",
            "[CV 2/10; 29/48] END algorithm=kd_tree, n_neighbors=5, p=2;, score=0.938 total time=   0.0s\n",
            "[CV 3/10; 29/48] START algorithm=kd_tree, n_neighbors=5, p=2....................\n",
            "[CV 3/10; 29/48] END algorithm=kd_tree, n_neighbors=5, p=2;, score=1.000 total time=   0.0s\n",
            "[CV 4/10; 29/48] START algorithm=kd_tree, n_neighbors=5, p=2....................\n",
            "[CV 4/10; 29/48] END algorithm=kd_tree, n_neighbors=5, p=2;, score=0.812 total time=   0.0s\n",
            "[CV 5/10; 29/48] START algorithm=kd_tree, n_neighbors=5, p=2....................\n",
            "[CV 5/10; 29/48] END algorithm=kd_tree, n_neighbors=5, p=2;, score=0.875 total time=   0.0s\n",
            "[CV 6/10; 29/48] START algorithm=kd_tree, n_neighbors=5, p=2....................\n",
            "[CV 6/10; 29/48] END algorithm=kd_tree, n_neighbors=5, p=2;, score=0.875 total time=   0.0s\n",
            "[CV 7/10; 29/48] START algorithm=kd_tree, n_neighbors=5, p=2....................\n",
            "[CV 7/10; 29/48] END algorithm=kd_tree, n_neighbors=5, p=2;, score=0.933 total time=   0.0s\n",
            "[CV 8/10; 29/48] START algorithm=kd_tree, n_neighbors=5, p=2....................\n",
            "[CV 8/10; 29/48] END algorithm=kd_tree, n_neighbors=5, p=2;, score=0.867 total time=   0.0s\n",
            "[CV 9/10; 29/48] START algorithm=kd_tree, n_neighbors=5, p=2....................\n",
            "[CV 9/10; 29/48] END algorithm=kd_tree, n_neighbors=5, p=2;, score=0.933 total time=   0.0s\n",
            "[CV 10/10; 29/48] START algorithm=kd_tree, n_neighbors=5, p=2...................\n",
            "[CV 10/10; 29/48] END algorithm=kd_tree, n_neighbors=5, p=2;, score=0.733 total time=   0.0s\n",
            "[CV 1/10; 30/48] START algorithm=kd_tree, n_neighbors=5, p=3....................\n",
            "[CV 1/10; 30/48] END algorithm=kd_tree, n_neighbors=5, p=3;, score=0.938 total time=   0.0s\n",
            "[CV 2/10; 30/48] START algorithm=kd_tree, n_neighbors=5, p=3....................\n",
            "[CV 2/10; 30/48] END algorithm=kd_tree, n_neighbors=5, p=3;, score=0.875 total time=   0.0s\n",
            "[CV 3/10; 30/48] START algorithm=kd_tree, n_neighbors=5, p=3....................\n",
            "[CV 3/10; 30/48] END algorithm=kd_tree, n_neighbors=5, p=3;, score=1.000 total time=   0.0s\n",
            "[CV 4/10; 30/48] START algorithm=kd_tree, n_neighbors=5, p=3....................\n",
            "[CV 4/10; 30/48] END algorithm=kd_tree, n_neighbors=5, p=3;, score=0.812 total time=   0.0s\n",
            "[CV 5/10; 30/48] START algorithm=kd_tree, n_neighbors=5, p=3....................\n",
            "[CV 5/10; 30/48] END algorithm=kd_tree, n_neighbors=5, p=3;, score=0.875 total time=   0.0s\n",
            "[CV 6/10; 30/48] START algorithm=kd_tree, n_neighbors=5, p=3....................\n",
            "[CV 6/10; 30/48] END algorithm=kd_tree, n_neighbors=5, p=3;, score=0.875 total time=   0.0s\n",
            "[CV 7/10; 30/48] START algorithm=kd_tree, n_neighbors=5, p=3....................\n",
            "[CV 7/10; 30/48] END algorithm=kd_tree, n_neighbors=5, p=3;, score=0.867 total time=   0.0s\n",
            "[CV 8/10; 30/48] START algorithm=kd_tree, n_neighbors=5, p=3....................\n",
            "[CV 8/10; 30/48] END algorithm=kd_tree, n_neighbors=5, p=3;, score=0.933 total time=   0.0s\n",
            "[CV 9/10; 30/48] START algorithm=kd_tree, n_neighbors=5, p=3....................\n",
            "[CV 9/10; 30/48] END algorithm=kd_tree, n_neighbors=5, p=3;, score=0.933 total time=   0.0s\n",
            "[CV 10/10; 30/48] START algorithm=kd_tree, n_neighbors=5, p=3...................\n",
            "[CV 10/10; 30/48] END algorithm=kd_tree, n_neighbors=5, p=3;, score=0.667 total time=   0.0s\n",
            "[CV 1/10; 31/48] START algorithm=kd_tree, n_neighbors=9, p=1....................\n",
            "[CV 1/10; 31/48] END algorithm=kd_tree, n_neighbors=9, p=1;, score=0.875 total time=   0.0s\n",
            "[CV 2/10; 31/48] START algorithm=kd_tree, n_neighbors=9, p=1....................\n",
            "[CV 2/10; 31/48] END algorithm=kd_tree, n_neighbors=9, p=1;, score=0.938 total time=   0.0s\n",
            "[CV 3/10; 31/48] START algorithm=kd_tree, n_neighbors=9, p=1....................\n",
            "[CV 3/10; 31/48] END algorithm=kd_tree, n_neighbors=9, p=1;, score=0.938 total time=   0.0s\n",
            "[CV 4/10; 31/48] START algorithm=kd_tree, n_neighbors=9, p=1....................\n",
            "[CV 4/10; 31/48] END algorithm=kd_tree, n_neighbors=9, p=1;, score=0.812 total time=   0.0s\n",
            "[CV 5/10; 31/48] START algorithm=kd_tree, n_neighbors=9, p=1....................\n",
            "[CV 5/10; 31/48] END algorithm=kd_tree, n_neighbors=9, p=1;, score=0.875 total time=   0.0s\n",
            "[CV 6/10; 31/48] START algorithm=kd_tree, n_neighbors=9, p=1....................\n",
            "[CV 6/10; 31/48] END algorithm=kd_tree, n_neighbors=9, p=1;, score=0.875 total time=   0.0s\n",
            "[CV 7/10; 31/48] START algorithm=kd_tree, n_neighbors=9, p=1....................\n",
            "[CV 7/10; 31/48] END algorithm=kd_tree, n_neighbors=9, p=1;, score=0.933 total time=   0.0s\n",
            "[CV 8/10; 31/48] START algorithm=kd_tree, n_neighbors=9, p=1....................\n",
            "[CV 8/10; 31/48] END algorithm=kd_tree, n_neighbors=9, p=1;, score=0.733 total time=   0.0s\n",
            "[CV 9/10; 31/48] START algorithm=kd_tree, n_neighbors=9, p=1....................\n",
            "[CV 9/10; 31/48] END algorithm=kd_tree, n_neighbors=9, p=1;, score=0.867 total time=   0.0s\n",
            "[CV 10/10; 31/48] START algorithm=kd_tree, n_neighbors=9, p=1...................\n",
            "[CV 10/10; 31/48] END algorithm=kd_tree, n_neighbors=9, p=1;, score=0.867 total time=   0.0s\n",
            "[CV 1/10; 32/48] START algorithm=kd_tree, n_neighbors=9, p=2....................\n",
            "[CV 1/10; 32/48] END algorithm=kd_tree, n_neighbors=9, p=2;, score=0.812 total time=   0.0s\n",
            "[CV 2/10; 32/48] START algorithm=kd_tree, n_neighbors=9, p=2....................\n",
            "[CV 2/10; 32/48] END algorithm=kd_tree, n_neighbors=9, p=2;, score=0.875 total time=   0.0s\n",
            "[CV 3/10; 32/48] START algorithm=kd_tree, n_neighbors=9, p=2....................\n",
            "[CV 3/10; 32/48] END algorithm=kd_tree, n_neighbors=9, p=2;, score=0.938 total time=   0.0s\n",
            "[CV 4/10; 32/48] START algorithm=kd_tree, n_neighbors=9, p=2....................\n",
            "[CV 4/10; 32/48] END algorithm=kd_tree, n_neighbors=9, p=2;, score=0.875 total time=   0.0s\n",
            "[CV 5/10; 32/48] START algorithm=kd_tree, n_neighbors=9, p=2....................\n",
            "[CV 5/10; 32/48] END algorithm=kd_tree, n_neighbors=9, p=2;, score=0.875 total time=   0.0s\n",
            "[CV 6/10; 32/48] START algorithm=kd_tree, n_neighbors=9, p=2....................\n",
            "[CV 6/10; 32/48] END algorithm=kd_tree, n_neighbors=9, p=2;, score=0.875 total time=   0.0s\n",
            "[CV 7/10; 32/48] START algorithm=kd_tree, n_neighbors=9, p=2....................\n",
            "[CV 7/10; 32/48] END algorithm=kd_tree, n_neighbors=9, p=2;, score=0.867 total time=   0.0s\n",
            "[CV 8/10; 32/48] START algorithm=kd_tree, n_neighbors=9, p=2....................\n",
            "[CV 8/10; 32/48] END algorithm=kd_tree, n_neighbors=9, p=2;, score=0.800 total time=   0.0s\n",
            "[CV 9/10; 32/48] START algorithm=kd_tree, n_neighbors=9, p=2....................\n",
            "[CV 9/10; 32/48] END algorithm=kd_tree, n_neighbors=9, p=2;, score=0.933 total time=   0.0s\n",
            "[CV 10/10; 32/48] START algorithm=kd_tree, n_neighbors=9, p=2...................\n",
            "[CV 10/10; 32/48] END algorithm=kd_tree, n_neighbors=9, p=2;, score=0.800 total time=   0.0s\n",
            "[CV 1/10; 33/48] START algorithm=kd_tree, n_neighbors=9, p=3....................\n",
            "[CV 1/10; 33/48] END algorithm=kd_tree, n_neighbors=9, p=3;, score=0.812 total time=   0.0s\n",
            "[CV 2/10; 33/48] START algorithm=kd_tree, n_neighbors=9, p=3....................\n",
            "[CV 2/10; 33/48] END algorithm=kd_tree, n_neighbors=9, p=3;, score=0.875 total time=   0.0s\n",
            "[CV 3/10; 33/48] START algorithm=kd_tree, n_neighbors=9, p=3....................\n",
            "[CV 3/10; 33/48] END algorithm=kd_tree, n_neighbors=9, p=3;, score=0.938 total time=   0.0s\n",
            "[CV 4/10; 33/48] START algorithm=kd_tree, n_neighbors=9, p=3....................\n",
            "[CV 4/10; 33/48] END algorithm=kd_tree, n_neighbors=9, p=3;, score=0.812 total time=   0.0s\n",
            "[CV 5/10; 33/48] START algorithm=kd_tree, n_neighbors=9, p=3....................\n",
            "[CV 5/10; 33/48] END algorithm=kd_tree, n_neighbors=9, p=3;, score=0.875 total time=   0.0s\n",
            "[CV 6/10; 33/48] START algorithm=kd_tree, n_neighbors=9, p=3....................\n",
            "[CV 6/10; 33/48] END algorithm=kd_tree, n_neighbors=9, p=3;, score=0.875 total time=   0.0s\n",
            "[CV 7/10; 33/48] START algorithm=kd_tree, n_neighbors=9, p=3....................\n",
            "[CV 7/10; 33/48] END algorithm=kd_tree, n_neighbors=9, p=3;, score=0.867 total time=   0.0s\n",
            "[CV 8/10; 33/48] START algorithm=kd_tree, n_neighbors=9, p=3....................\n",
            "[CV 8/10; 33/48] END algorithm=kd_tree, n_neighbors=9, p=3;, score=0.800 total time=   0.0s\n",
            "[CV 9/10; 33/48] START algorithm=kd_tree, n_neighbors=9, p=3....................\n",
            "[CV 9/10; 33/48] END algorithm=kd_tree, n_neighbors=9, p=3;, score=0.933 total time=   0.0s\n",
            "[CV 10/10; 33/48] START algorithm=kd_tree, n_neighbors=9, p=3...................\n",
            "[CV 10/10; 33/48] END algorithm=kd_tree, n_neighbors=9, p=3;, score=0.733 total time=   0.0s\n",
            "[CV 1/10; 34/48] START algorithm=kd_tree, n_neighbors=15, p=1...................\n",
            "[CV 1/10; 34/48] END algorithm=kd_tree, n_neighbors=15, p=1;, score=0.875 total time=   0.0s\n",
            "[CV 2/10; 34/48] START algorithm=kd_tree, n_neighbors=15, p=1...................\n",
            "[CV 2/10; 34/48] END algorithm=kd_tree, n_neighbors=15, p=1;, score=0.875 total time=   0.0s\n",
            "[CV 3/10; 34/48] START algorithm=kd_tree, n_neighbors=15, p=1...................\n",
            "[CV 3/10; 34/48] END algorithm=kd_tree, n_neighbors=15, p=1;, score=0.875 total time=   0.0s\n",
            "[CV 4/10; 34/48] START algorithm=kd_tree, n_neighbors=15, p=1...................\n",
            "[CV 4/10; 34/48] END algorithm=kd_tree, n_neighbors=15, p=1;, score=0.812 total time=   0.0s\n",
            "[CV 5/10; 34/48] START algorithm=kd_tree, n_neighbors=15, p=1...................\n",
            "[CV 5/10; 34/48] END algorithm=kd_tree, n_neighbors=15, p=1;, score=0.875 total time=   0.0s\n",
            "[CV 6/10; 34/48] START algorithm=kd_tree, n_neighbors=15, p=1...................\n",
            "[CV 6/10; 34/48] END algorithm=kd_tree, n_neighbors=15, p=1;, score=0.875 total time=   0.0s\n",
            "[CV 7/10; 34/48] START algorithm=kd_tree, n_neighbors=15, p=1...................\n",
            "[CV 7/10; 34/48] END algorithm=kd_tree, n_neighbors=15, p=1;, score=0.867 total time=   0.0s\n",
            "[CV 8/10; 34/48] START algorithm=kd_tree, n_neighbors=15, p=1...................\n",
            "[CV 8/10; 34/48] END algorithm=kd_tree, n_neighbors=15, p=1;, score=0.733 total time=   0.0s\n",
            "[CV 9/10; 34/48] START algorithm=kd_tree, n_neighbors=15, p=1...................\n",
            "[CV 9/10; 34/48] END algorithm=kd_tree, n_neighbors=15, p=1;, score=0.800 total time=   0.0s\n",
            "[CV 10/10; 34/48] START algorithm=kd_tree, n_neighbors=15, p=1..................\n",
            "[CV 10/10; 34/48] END algorithm=kd_tree, n_neighbors=15, p=1;, score=0.867 total time=   0.0s\n",
            "[CV 1/10; 35/48] START algorithm=kd_tree, n_neighbors=15, p=2...................\n",
            "[CV 1/10; 35/48] END algorithm=kd_tree, n_neighbors=15, p=2;, score=0.875 total time=   0.0s\n",
            "[CV 2/10; 35/48] START algorithm=kd_tree, n_neighbors=15, p=2...................\n",
            "[CV 2/10; 35/48] END algorithm=kd_tree, n_neighbors=15, p=2;, score=0.875 total time=   0.0s\n",
            "[CV 3/10; 35/48] START algorithm=kd_tree, n_neighbors=15, p=2...................\n",
            "[CV 3/10; 35/48] END algorithm=kd_tree, n_neighbors=15, p=2;, score=0.875 total time=   0.0s\n",
            "[CV 4/10; 35/48] START algorithm=kd_tree, n_neighbors=15, p=2...................\n",
            "[CV 4/10; 35/48] END algorithm=kd_tree, n_neighbors=15, p=2;, score=0.875 total time=   0.0s\n",
            "[CV 5/10; 35/48] START algorithm=kd_tree, n_neighbors=15, p=2...................\n",
            "[CV 5/10; 35/48] END algorithm=kd_tree, n_neighbors=15, p=2;, score=0.875 total time=   0.0s\n",
            "[CV 6/10; 35/48] START algorithm=kd_tree, n_neighbors=15, p=2...................\n",
            "[CV 6/10; 35/48] END algorithm=kd_tree, n_neighbors=15, p=2;, score=0.875 total time=   0.0s\n",
            "[CV 7/10; 35/48] START algorithm=kd_tree, n_neighbors=15, p=2...................\n",
            "[CV 7/10; 35/48] END algorithm=kd_tree, n_neighbors=15, p=2;, score=0.933 total time=   0.0s\n",
            "[CV 8/10; 35/48] START algorithm=kd_tree, n_neighbors=15, p=2...................\n",
            "[CV 8/10; 35/48] END algorithm=kd_tree, n_neighbors=15, p=2;, score=0.733 total time=   0.0s\n",
            "[CV 9/10; 35/48] START algorithm=kd_tree, n_neighbors=15, p=2...................\n",
            "[CV 9/10; 35/48] END algorithm=kd_tree, n_neighbors=15, p=2;, score=0.800 total time=   0.0s\n",
            "[CV 10/10; 35/48] START algorithm=kd_tree, n_neighbors=15, p=2..................\n",
            "[CV 10/10; 35/48] END algorithm=kd_tree, n_neighbors=15, p=2;, score=0.800 total time=   0.0s\n",
            "[CV 1/10; 36/48] START algorithm=kd_tree, n_neighbors=15, p=3...................\n",
            "[CV 1/10; 36/48] END algorithm=kd_tree, n_neighbors=15, p=3;, score=0.812 total time=   0.0s\n",
            "[CV 2/10; 36/48] START algorithm=kd_tree, n_neighbors=15, p=3...................\n",
            "[CV 2/10; 36/48] END algorithm=kd_tree, n_neighbors=15, p=3;, score=0.875 total time=   0.0s\n",
            "[CV 3/10; 36/48] START algorithm=kd_tree, n_neighbors=15, p=3...................\n",
            "[CV 3/10; 36/48] END algorithm=kd_tree, n_neighbors=15, p=3;, score=0.875 total time=   0.0s\n",
            "[CV 4/10; 36/48] START algorithm=kd_tree, n_neighbors=15, p=3...................\n",
            "[CV 4/10; 36/48] END algorithm=kd_tree, n_neighbors=15, p=3;, score=0.875 total time=   0.0s\n",
            "[CV 5/10; 36/48] START algorithm=kd_tree, n_neighbors=15, p=3...................\n",
            "[CV 5/10; 36/48] END algorithm=kd_tree, n_neighbors=15, p=3;, score=0.875 total time=   0.0s\n",
            "[CV 6/10; 36/48] START algorithm=kd_tree, n_neighbors=15, p=3...................\n",
            "[CV 6/10; 36/48] END algorithm=kd_tree, n_neighbors=15, p=3;, score=0.812 total time=   0.0s\n",
            "[CV 7/10; 36/48] START algorithm=kd_tree, n_neighbors=15, p=3...................\n",
            "[CV 7/10; 36/48] END algorithm=kd_tree, n_neighbors=15, p=3;, score=0.933 total time=   0.0s\n",
            "[CV 8/10; 36/48] START algorithm=kd_tree, n_neighbors=15, p=3...................\n",
            "[CV 8/10; 36/48] END algorithm=kd_tree, n_neighbors=15, p=3;, score=0.800 total time=   0.0s\n",
            "[CV 9/10; 36/48] START algorithm=kd_tree, n_neighbors=15, p=3...................\n",
            "[CV 9/10; 36/48] END algorithm=kd_tree, n_neighbors=15, p=3;, score=0.800 total time=   0.0s\n",
            "[CV 10/10; 36/48] START algorithm=kd_tree, n_neighbors=15, p=3..................\n",
            "[CV 10/10; 36/48] END algorithm=kd_tree, n_neighbors=15, p=3;, score=0.733 total time=   0.0s\n",
            "[CV 1/10; 37/48] START algorithm=brute, n_neighbors=3, p=1......................\n",
            "[CV 1/10; 37/48] END algorithm=brute, n_neighbors=3, p=1;, score=0.938 total time=   0.0s\n",
            "[CV 2/10; 37/48] START algorithm=brute, n_neighbors=3, p=1......................\n",
            "[CV 2/10; 37/48] END algorithm=brute, n_neighbors=3, p=1;, score=0.938 total time=   0.0s\n",
            "[CV 3/10; 37/48] START algorithm=brute, n_neighbors=3, p=1......................\n",
            "[CV 3/10; 37/48] END algorithm=brute, n_neighbors=3, p=1;, score=1.000 total time=   0.0s\n",
            "[CV 4/10; 37/48] START algorithm=brute, n_neighbors=3, p=1......................\n",
            "[CV 4/10; 37/48] END algorithm=brute, n_neighbors=3, p=1;, score=0.938 total time=   0.0s\n",
            "[CV 5/10; 37/48] START algorithm=brute, n_neighbors=3, p=1......................\n",
            "[CV 5/10; 37/48] END algorithm=brute, n_neighbors=3, p=1;, score=1.000 total time=   0.0s\n",
            "[CV 6/10; 37/48] START algorithm=brute, n_neighbors=3, p=1......................\n",
            "[CV 6/10; 37/48] END algorithm=brute, n_neighbors=3, p=1;, score=0.938 total time=   0.0s\n",
            "[CV 7/10; 37/48] START algorithm=brute, n_neighbors=3, p=1......................\n",
            "[CV 7/10; 37/48] END algorithm=brute, n_neighbors=3, p=1;, score=1.000 total time=   0.0s\n",
            "[CV 8/10; 37/48] START algorithm=brute, n_neighbors=3, p=1......................\n",
            "[CV 8/10; 37/48] END algorithm=brute, n_neighbors=3, p=1;, score=0.933 total time=   0.0s\n",
            "[CV 9/10; 37/48] START algorithm=brute, n_neighbors=3, p=1......................\n",
            "[CV 9/10; 37/48] END algorithm=brute, n_neighbors=3, p=1;, score=0.933 total time=   0.0s\n",
            "[CV 10/10; 37/48] START algorithm=brute, n_neighbors=3, p=1.....................\n",
            "[CV 10/10; 37/48] END algorithm=brute, n_neighbors=3, p=1;, score=0.867 total time=   0.0s\n",
            "[CV 1/10; 38/48] START algorithm=brute, n_neighbors=3, p=2......................\n",
            "[CV 1/10; 38/48] END algorithm=brute, n_neighbors=3, p=2;, score=1.000 total time=   0.0s\n",
            "[CV 2/10; 38/48] START algorithm=brute, n_neighbors=3, p=2......................\n",
            "[CV 2/10; 38/48] END algorithm=brute, n_neighbors=3, p=2;, score=0.938 total time=   0.0s\n",
            "[CV 3/10; 38/48] START algorithm=brute, n_neighbors=3, p=2......................\n",
            "[CV 3/10; 38/48] END algorithm=brute, n_neighbors=3, p=2;, score=1.000 total time=   0.0s\n",
            "[CV 4/10; 38/48] START algorithm=brute, n_neighbors=3, p=2......................\n",
            "[CV 4/10; 38/48] END algorithm=brute, n_neighbors=3, p=2;, score=0.812 total time=   0.0s\n",
            "[CV 5/10; 38/48] START algorithm=brute, n_neighbors=3, p=2......................\n",
            "[CV 5/10; 38/48] END algorithm=brute, n_neighbors=3, p=2;, score=0.938 total time=   0.0s\n",
            "[CV 6/10; 38/48] START algorithm=brute, n_neighbors=3, p=2......................\n",
            "[CV 6/10; 38/48] END algorithm=brute, n_neighbors=3, p=2;, score=0.875 total time=   0.0s\n",
            "[CV 7/10; 38/48] START algorithm=brute, n_neighbors=3, p=2......................\n",
            "[CV 7/10; 38/48] END algorithm=brute, n_neighbors=3, p=2;, score=1.000 total time=   0.0s\n",
            "[CV 8/10; 38/48] START algorithm=brute, n_neighbors=3, p=2......................\n",
            "[CV 8/10; 38/48] END algorithm=brute, n_neighbors=3, p=2;, score=0.933 total time=   0.0s\n",
            "[CV 9/10; 38/48] START algorithm=brute, n_neighbors=3, p=2......................\n",
            "[CV 9/10; 38/48] END algorithm=brute, n_neighbors=3, p=2;, score=0.933 total time=   0.0s\n",
            "[CV 10/10; 38/48] START algorithm=brute, n_neighbors=3, p=2.....................\n",
            "[CV 10/10; 38/48] END algorithm=brute, n_neighbors=3, p=2;, score=0.733 total time=   0.0s\n",
            "[CV 1/10; 39/48] START algorithm=brute, n_neighbors=3, p=3......................\n",
            "[CV 1/10; 39/48] END algorithm=brute, n_neighbors=3, p=3;, score=1.000 total time=   0.0s\n",
            "[CV 2/10; 39/48] START algorithm=brute, n_neighbors=3, p=3......................\n",
            "[CV 2/10; 39/48] END algorithm=brute, n_neighbors=3, p=3;, score=0.938 total time=   0.0s\n",
            "[CV 3/10; 39/48] START algorithm=brute, n_neighbors=3, p=3......................\n",
            "[CV 3/10; 39/48] END algorithm=brute, n_neighbors=3, p=3;, score=1.000 total time=   0.0s\n",
            "[CV 4/10; 39/48] START algorithm=brute, n_neighbors=3, p=3......................\n",
            "[CV 4/10; 39/48] END algorithm=brute, n_neighbors=3, p=3;, score=0.812 total time=   0.0s\n",
            "[CV 5/10; 39/48] START algorithm=brute, n_neighbors=3, p=3......................\n",
            "[CV 5/10; 39/48] END algorithm=brute, n_neighbors=3, p=3;, score=0.938 total time=   0.0s\n",
            "[CV 6/10; 39/48] START algorithm=brute, n_neighbors=3, p=3......................\n",
            "[CV 6/10; 39/48] END algorithm=brute, n_neighbors=3, p=3;, score=0.875 total time=   0.0s\n",
            "[CV 7/10; 39/48] START algorithm=brute, n_neighbors=3, p=3......................\n",
            "[CV 7/10; 39/48] END algorithm=brute, n_neighbors=3, p=3;, score=0.867 total time=   0.0s\n",
            "[CV 8/10; 39/48] START algorithm=brute, n_neighbors=3, p=3......................\n",
            "[CV 8/10; 39/48] END algorithm=brute, n_neighbors=3, p=3;, score=0.933 total time=   0.0s\n",
            "[CV 9/10; 39/48] START algorithm=brute, n_neighbors=3, p=3......................\n",
            "[CV 9/10; 39/48] END algorithm=brute, n_neighbors=3, p=3;, score=0.933 total time=   0.0s\n",
            "[CV 10/10; 39/48] START algorithm=brute, n_neighbors=3, p=3.....................\n",
            "[CV 10/10; 39/48] END algorithm=brute, n_neighbors=3, p=3;, score=0.867 total time=   0.0s\n",
            "[CV 1/10; 40/48] START algorithm=brute, n_neighbors=5, p=1......................\n",
            "[CV 1/10; 40/48] END algorithm=brute, n_neighbors=5, p=1;, score=0.938 total time=   0.0s\n",
            "[CV 2/10; 40/48] START algorithm=brute, n_neighbors=5, p=1......................\n",
            "[CV 2/10; 40/48] END algorithm=brute, n_neighbors=5, p=1;, score=0.938 total time=   0.0s\n",
            "[CV 3/10; 40/48] START algorithm=brute, n_neighbors=5, p=1......................\n",
            "[CV 3/10; 40/48] END algorithm=brute, n_neighbors=5, p=1;, score=1.000 total time=   0.0s\n",
            "[CV 4/10; 40/48] START algorithm=brute, n_neighbors=5, p=1......................\n",
            "[CV 4/10; 40/48] END algorithm=brute, n_neighbors=5, p=1;, score=0.938 total time=   0.0s\n",
            "[CV 5/10; 40/48] START algorithm=brute, n_neighbors=5, p=1......................\n",
            "[CV 5/10; 40/48] END algorithm=brute, n_neighbors=5, p=1;, score=0.875 total time=   0.0s\n",
            "[CV 6/10; 40/48] START algorithm=brute, n_neighbors=5, p=1......................\n",
            "[CV 6/10; 40/48] END algorithm=brute, n_neighbors=5, p=1;, score=0.875 total time=   0.0s\n",
            "[CV 7/10; 40/48] START algorithm=brute, n_neighbors=5, p=1......................\n",
            "[CV 7/10; 40/48] END algorithm=brute, n_neighbors=5, p=1;, score=0.933 total time=   0.0s\n",
            "[CV 8/10; 40/48] START algorithm=brute, n_neighbors=5, p=1......................\n",
            "[CV 8/10; 40/48] END algorithm=brute, n_neighbors=5, p=1;, score=0.933 total time=   0.0s\n",
            "[CV 9/10; 40/48] START algorithm=brute, n_neighbors=5, p=1......................\n",
            "[CV 9/10; 40/48] END algorithm=brute, n_neighbors=5, p=1;, score=0.867 total time=   0.0s\n",
            "[CV 10/10; 40/48] START algorithm=brute, n_neighbors=5, p=1.....................\n",
            "[CV 10/10; 40/48] END algorithm=brute, n_neighbors=5, p=1;, score=0.733 total time=   0.0s\n",
            "[CV 1/10; 41/48] START algorithm=brute, n_neighbors=5, p=2......................\n",
            "[CV 1/10; 41/48] END algorithm=brute, n_neighbors=5, p=2;, score=0.938 total time=   0.0s\n",
            "[CV 2/10; 41/48] START algorithm=brute, n_neighbors=5, p=2......................\n",
            "[CV 2/10; 41/48] END algorithm=brute, n_neighbors=5, p=2;, score=0.938 total time=   0.0s\n",
            "[CV 3/10; 41/48] START algorithm=brute, n_neighbors=5, p=2......................\n",
            "[CV 3/10; 41/48] END algorithm=brute, n_neighbors=5, p=2;, score=1.000 total time=   0.0s\n",
            "[CV 4/10; 41/48] START algorithm=brute, n_neighbors=5, p=2......................\n",
            "[CV 4/10; 41/48] END algorithm=brute, n_neighbors=5, p=2;, score=0.812 total time=   0.0s\n",
            "[CV 5/10; 41/48] START algorithm=brute, n_neighbors=5, p=2......................\n",
            "[CV 5/10; 41/48] END algorithm=brute, n_neighbors=5, p=2;, score=0.875 total time=   0.0s\n",
            "[CV 6/10; 41/48] START algorithm=brute, n_neighbors=5, p=2......................\n",
            "[CV 6/10; 41/48] END algorithm=brute, n_neighbors=5, p=2;, score=0.875 total time=   0.0s\n",
            "[CV 7/10; 41/48] START algorithm=brute, n_neighbors=5, p=2......................\n",
            "[CV 7/10; 41/48] END algorithm=brute, n_neighbors=5, p=2;, score=0.933 total time=   0.0s\n",
            "[CV 8/10; 41/48] START algorithm=brute, n_neighbors=5, p=2......................\n",
            "[CV 8/10; 41/48] END algorithm=brute, n_neighbors=5, p=2;, score=0.867 total time=   0.0s\n",
            "[CV 9/10; 41/48] START algorithm=brute, n_neighbors=5, p=2......................\n",
            "[CV 9/10; 41/48] END algorithm=brute, n_neighbors=5, p=2;, score=0.933 total time=   0.0s\n",
            "[CV 10/10; 41/48] START algorithm=brute, n_neighbors=5, p=2.....................\n",
            "[CV 10/10; 41/48] END algorithm=brute, n_neighbors=5, p=2;, score=0.733 total time=   0.0s\n",
            "[CV 1/10; 42/48] START algorithm=brute, n_neighbors=5, p=3......................\n",
            "[CV 1/10; 42/48] END algorithm=brute, n_neighbors=5, p=3;, score=0.938 total time=   0.0s\n",
            "[CV 2/10; 42/48] START algorithm=brute, n_neighbors=5, p=3......................\n",
            "[CV 2/10; 42/48] END algorithm=brute, n_neighbors=5, p=3;, score=0.875 total time=   0.0s\n",
            "[CV 3/10; 42/48] START algorithm=brute, n_neighbors=5, p=3......................\n",
            "[CV 3/10; 42/48] END algorithm=brute, n_neighbors=5, p=3;, score=1.000 total time=   0.0s\n",
            "[CV 4/10; 42/48] START algorithm=brute, n_neighbors=5, p=3......................\n",
            "[CV 4/10; 42/48] END algorithm=brute, n_neighbors=5, p=3;, score=0.812 total time=   0.0s\n",
            "[CV 5/10; 42/48] START algorithm=brute, n_neighbors=5, p=3......................\n",
            "[CV 5/10; 42/48] END algorithm=brute, n_neighbors=5, p=3;, score=0.875 total time=   0.0s\n",
            "[CV 6/10; 42/48] START algorithm=brute, n_neighbors=5, p=3......................\n",
            "[CV 6/10; 42/48] END algorithm=brute, n_neighbors=5, p=3;, score=0.875 total time=   0.0s\n",
            "[CV 7/10; 42/48] START algorithm=brute, n_neighbors=5, p=3......................\n",
            "[CV 7/10; 42/48] END algorithm=brute, n_neighbors=5, p=3;, score=0.867 total time=   0.0s\n",
            "[CV 8/10; 42/48] START algorithm=brute, n_neighbors=5, p=3......................\n",
            "[CV 8/10; 42/48] END algorithm=brute, n_neighbors=5, p=3;, score=0.933 total time=   0.0s\n",
            "[CV 9/10; 42/48] START algorithm=brute, n_neighbors=5, p=3......................\n",
            "[CV 9/10; 42/48] END algorithm=brute, n_neighbors=5, p=3;, score=0.933 total time=   0.0s\n",
            "[CV 10/10; 42/48] START algorithm=brute, n_neighbors=5, p=3.....................\n",
            "[CV 10/10; 42/48] END algorithm=brute, n_neighbors=5, p=3;, score=0.667 total time=   0.0s\n",
            "[CV 1/10; 43/48] START algorithm=brute, n_neighbors=9, p=1......................\n",
            "[CV 1/10; 43/48] END algorithm=brute, n_neighbors=9, p=1;, score=0.875 total time=   0.0s\n",
            "[CV 2/10; 43/48] START algorithm=brute, n_neighbors=9, p=1......................\n",
            "[CV 2/10; 43/48] END algorithm=brute, n_neighbors=9, p=1;, score=0.938 total time=   0.0s\n",
            "[CV 3/10; 43/48] START algorithm=brute, n_neighbors=9, p=1......................\n",
            "[CV 3/10; 43/48] END algorithm=brute, n_neighbors=9, p=1;, score=0.938 total time=   0.0s\n",
            "[CV 4/10; 43/48] START algorithm=brute, n_neighbors=9, p=1......................\n",
            "[CV 4/10; 43/48] END algorithm=brute, n_neighbors=9, p=1;, score=0.812 total time=   0.0s\n",
            "[CV 5/10; 43/48] START algorithm=brute, n_neighbors=9, p=1......................\n",
            "[CV 5/10; 43/48] END algorithm=brute, n_neighbors=9, p=1;, score=0.875 total time=   0.0s\n",
            "[CV 6/10; 43/48] START algorithm=brute, n_neighbors=9, p=1......................\n",
            "[CV 6/10; 43/48] END algorithm=brute, n_neighbors=9, p=1;, score=0.875 total time=   0.0s\n",
            "[CV 7/10; 43/48] START algorithm=brute, n_neighbors=9, p=1......................\n",
            "[CV 7/10; 43/48] END algorithm=brute, n_neighbors=9, p=1;, score=0.933 total time=   0.0s\n",
            "[CV 8/10; 43/48] START algorithm=brute, n_neighbors=9, p=1......................\n",
            "[CV 8/10; 43/48] END algorithm=brute, n_neighbors=9, p=1;, score=0.733 total time=   0.0s\n",
            "[CV 9/10; 43/48] START algorithm=brute, n_neighbors=9, p=1......................\n",
            "[CV 9/10; 43/48] END algorithm=brute, n_neighbors=9, p=1;, score=0.867 total time=   0.0s\n",
            "[CV 10/10; 43/48] START algorithm=brute, n_neighbors=9, p=1.....................\n",
            "[CV 10/10; 43/48] END algorithm=brute, n_neighbors=9, p=1;, score=0.867 total time=   0.0s\n",
            "[CV 1/10; 44/48] START algorithm=brute, n_neighbors=9, p=2......................\n",
            "[CV 1/10; 44/48] END algorithm=brute, n_neighbors=9, p=2;, score=0.812 total time=   0.0s\n",
            "[CV 2/10; 44/48] START algorithm=brute, n_neighbors=9, p=2......................\n",
            "[CV 2/10; 44/48] END algorithm=brute, n_neighbors=9, p=2;, score=0.875 total time=   0.0s\n",
            "[CV 3/10; 44/48] START algorithm=brute, n_neighbors=9, p=2......................\n",
            "[CV 3/10; 44/48] END algorithm=brute, n_neighbors=9, p=2;, score=0.938 total time=   0.0s\n",
            "[CV 4/10; 44/48] START algorithm=brute, n_neighbors=9, p=2......................\n",
            "[CV 4/10; 44/48] END algorithm=brute, n_neighbors=9, p=2;, score=0.875 total time=   0.0s\n",
            "[CV 5/10; 44/48] START algorithm=brute, n_neighbors=9, p=2......................\n",
            "[CV 5/10; 44/48] END algorithm=brute, n_neighbors=9, p=2;, score=0.875 total time=   0.0s\n",
            "[CV 6/10; 44/48] START algorithm=brute, n_neighbors=9, p=2......................\n",
            "[CV 6/10; 44/48] END algorithm=brute, n_neighbors=9, p=2;, score=0.875 total time=   0.0s\n",
            "[CV 7/10; 44/48] START algorithm=brute, n_neighbors=9, p=2......................\n",
            "[CV 7/10; 44/48] END algorithm=brute, n_neighbors=9, p=2;, score=0.867 total time=   0.0s\n",
            "[CV 8/10; 44/48] START algorithm=brute, n_neighbors=9, p=2......................\n",
            "[CV 8/10; 44/48] END algorithm=brute, n_neighbors=9, p=2;, score=0.800 total time=   0.0s\n",
            "[CV 9/10; 44/48] START algorithm=brute, n_neighbors=9, p=2......................\n",
            "[CV 9/10; 44/48] END algorithm=brute, n_neighbors=9, p=2;, score=0.933 total time=   0.0s\n",
            "[CV 10/10; 44/48] START algorithm=brute, n_neighbors=9, p=2.....................\n",
            "[CV 10/10; 44/48] END algorithm=brute, n_neighbors=9, p=2;, score=0.800 total time=   0.0s\n",
            "[CV 1/10; 45/48] START algorithm=brute, n_neighbors=9, p=3......................\n",
            "[CV 1/10; 45/48] END algorithm=brute, n_neighbors=9, p=3;, score=0.812 total time=   0.0s\n",
            "[CV 2/10; 45/48] START algorithm=brute, n_neighbors=9, p=3......................\n",
            "[CV 2/10; 45/48] END algorithm=brute, n_neighbors=9, p=3;, score=0.875 total time=   0.0s\n",
            "[CV 3/10; 45/48] START algorithm=brute, n_neighbors=9, p=3......................\n",
            "[CV 3/10; 45/48] END algorithm=brute, n_neighbors=9, p=3;, score=0.938 total time=   0.0s\n",
            "[CV 4/10; 45/48] START algorithm=brute, n_neighbors=9, p=3......................\n",
            "[CV 4/10; 45/48] END algorithm=brute, n_neighbors=9, p=3;, score=0.812 total time=   0.0s\n",
            "[CV 5/10; 45/48] START algorithm=brute, n_neighbors=9, p=3......................\n",
            "[CV 5/10; 45/48] END algorithm=brute, n_neighbors=9, p=3;, score=0.875 total time=   0.0s\n",
            "[CV 6/10; 45/48] START algorithm=brute, n_neighbors=9, p=3......................\n",
            "[CV 6/10; 45/48] END algorithm=brute, n_neighbors=9, p=3;, score=0.875 total time=   0.0s\n",
            "[CV 7/10; 45/48] START algorithm=brute, n_neighbors=9, p=3......................\n",
            "[CV 7/10; 45/48] END algorithm=brute, n_neighbors=9, p=3;, score=0.867 total time=   0.0s\n",
            "[CV 8/10; 45/48] START algorithm=brute, n_neighbors=9, p=3......................\n",
            "[CV 8/10; 45/48] END algorithm=brute, n_neighbors=9, p=3;, score=0.800 total time=   0.0s\n",
            "[CV 9/10; 45/48] START algorithm=brute, n_neighbors=9, p=3......................\n",
            "[CV 9/10; 45/48] END algorithm=brute, n_neighbors=9, p=3;, score=0.933 total time=   0.0s\n",
            "[CV 10/10; 45/48] START algorithm=brute, n_neighbors=9, p=3.....................\n",
            "[CV 10/10; 45/48] END algorithm=brute, n_neighbors=9, p=3;, score=0.733 total time=   0.0s\n",
            "[CV 1/10; 46/48] START algorithm=brute, n_neighbors=15, p=1.....................\n",
            "[CV 1/10; 46/48] END algorithm=brute, n_neighbors=15, p=1;, score=0.875 total time=   0.0s\n",
            "[CV 2/10; 46/48] START algorithm=brute, n_neighbors=15, p=1.....................\n",
            "[CV 2/10; 46/48] END algorithm=brute, n_neighbors=15, p=1;, score=0.875 total time=   0.0s\n",
            "[CV 3/10; 46/48] START algorithm=brute, n_neighbors=15, p=1.....................\n",
            "[CV 3/10; 46/48] END algorithm=brute, n_neighbors=15, p=1;, score=0.875 total time=   0.0s\n",
            "[CV 4/10; 46/48] START algorithm=brute, n_neighbors=15, p=1.....................\n",
            "[CV 4/10; 46/48] END algorithm=brute, n_neighbors=15, p=1;, score=0.812 total time=   0.0s\n",
            "[CV 5/10; 46/48] START algorithm=brute, n_neighbors=15, p=1.....................\n",
            "[CV 5/10; 46/48] END algorithm=brute, n_neighbors=15, p=1;, score=0.875 total time=   0.0s\n",
            "[CV 6/10; 46/48] START algorithm=brute, n_neighbors=15, p=1.....................\n",
            "[CV 6/10; 46/48] END algorithm=brute, n_neighbors=15, p=1;, score=0.875 total time=   0.0s\n",
            "[CV 7/10; 46/48] START algorithm=brute, n_neighbors=15, p=1.....................\n",
            "[CV 7/10; 46/48] END algorithm=brute, n_neighbors=15, p=1;, score=0.867 total time=   0.0s\n",
            "[CV 8/10; 46/48] START algorithm=brute, n_neighbors=15, p=1.....................\n",
            "[CV 8/10; 46/48] END algorithm=brute, n_neighbors=15, p=1;, score=0.733 total time=   0.0s\n",
            "[CV 9/10; 46/48] START algorithm=brute, n_neighbors=15, p=1.....................\n",
            "[CV 9/10; 46/48] END algorithm=brute, n_neighbors=15, p=1;, score=0.800 total time=   0.0s\n",
            "[CV 10/10; 46/48] START algorithm=brute, n_neighbors=15, p=1....................\n",
            "[CV 10/10; 46/48] END algorithm=brute, n_neighbors=15, p=1;, score=0.867 total time=   0.0s\n",
            "[CV 1/10; 47/48] START algorithm=brute, n_neighbors=15, p=2.....................\n",
            "[CV 1/10; 47/48] END algorithm=brute, n_neighbors=15, p=2;, score=0.875 total time=   0.0s\n",
            "[CV 2/10; 47/48] START algorithm=brute, n_neighbors=15, p=2.....................\n",
            "[CV 2/10; 47/48] END algorithm=brute, n_neighbors=15, p=2;, score=0.875 total time=   0.0s\n",
            "[CV 3/10; 47/48] START algorithm=brute, n_neighbors=15, p=2.....................\n",
            "[CV 3/10; 47/48] END algorithm=brute, n_neighbors=15, p=2;, score=0.875 total time=   0.0s\n",
            "[CV 4/10; 47/48] START algorithm=brute, n_neighbors=15, p=2.....................\n",
            "[CV 4/10; 47/48] END algorithm=brute, n_neighbors=15, p=2;, score=0.875 total time=   0.0s\n",
            "[CV 5/10; 47/48] START algorithm=brute, n_neighbors=15, p=2.....................\n",
            "[CV 5/10; 47/48] END algorithm=brute, n_neighbors=15, p=2;, score=0.875 total time=   0.0s\n",
            "[CV 6/10; 47/48] START algorithm=brute, n_neighbors=15, p=2.....................\n",
            "[CV 6/10; 47/48] END algorithm=brute, n_neighbors=15, p=2;, score=0.875 total time=   0.0s\n",
            "[CV 7/10; 47/48] START algorithm=brute, n_neighbors=15, p=2.....................\n",
            "[CV 7/10; 47/48] END algorithm=brute, n_neighbors=15, p=2;, score=0.933 total time=   0.0s\n",
            "[CV 8/10; 47/48] START algorithm=brute, n_neighbors=15, p=2.....................\n",
            "[CV 8/10; 47/48] END algorithm=brute, n_neighbors=15, p=2;, score=0.733 total time=   0.0s\n",
            "[CV 9/10; 47/48] START algorithm=brute, n_neighbors=15, p=2.....................\n",
            "[CV 9/10; 47/48] END algorithm=brute, n_neighbors=15, p=2;, score=0.800 total time=   0.0s\n",
            "[CV 10/10; 47/48] START algorithm=brute, n_neighbors=15, p=2....................\n",
            "[CV 10/10; 47/48] END algorithm=brute, n_neighbors=15, p=2;, score=0.800 total time=   0.0s\n",
            "[CV 1/10; 48/48] START algorithm=brute, n_neighbors=15, p=3.....................\n",
            "[CV 1/10; 48/48] END algorithm=brute, n_neighbors=15, p=3;, score=0.812 total time=   0.0s\n",
            "[CV 2/10; 48/48] START algorithm=brute, n_neighbors=15, p=3.....................\n",
            "[CV 2/10; 48/48] END algorithm=brute, n_neighbors=15, p=3;, score=0.875 total time=   0.0s\n",
            "[CV 3/10; 48/48] START algorithm=brute, n_neighbors=15, p=3.....................\n",
            "[CV 3/10; 48/48] END algorithm=brute, n_neighbors=15, p=3;, score=0.875 total time=   0.0s\n",
            "[CV 4/10; 48/48] START algorithm=brute, n_neighbors=15, p=3.....................\n",
            "[CV 4/10; 48/48] END algorithm=brute, n_neighbors=15, p=3;, score=0.875 total time=   0.0s\n",
            "[CV 5/10; 48/48] START algorithm=brute, n_neighbors=15, p=3.....................\n",
            "[CV 5/10; 48/48] END algorithm=brute, n_neighbors=15, p=3;, score=0.875 total time=   0.0s\n",
            "[CV 6/10; 48/48] START algorithm=brute, n_neighbors=15, p=3.....................\n",
            "[CV 6/10; 48/48] END algorithm=brute, n_neighbors=15, p=3;, score=0.812 total time=   0.0s\n",
            "[CV 7/10; 48/48] START algorithm=brute, n_neighbors=15, p=3.....................\n",
            "[CV 7/10; 48/48] END algorithm=brute, n_neighbors=15, p=3;, score=0.933 total time=   0.0s\n",
            "[CV 8/10; 48/48] START algorithm=brute, n_neighbors=15, p=3.....................\n",
            "[CV 8/10; 48/48] END algorithm=brute, n_neighbors=15, p=3;, score=0.800 total time=   0.0s\n",
            "[CV 9/10; 48/48] START algorithm=brute, n_neighbors=15, p=3.....................\n",
            "[CV 9/10; 48/48] END algorithm=brute, n_neighbors=15, p=3;, score=0.800 total time=   0.0s\n",
            "[CV 10/10; 48/48] START algorithm=brute, n_neighbors=15, p=3....................\n",
            "[CV 10/10; 48/48] END algorithm=brute, n_neighbors=15, p=3;, score=0.733 total time=   0.0s\n"
          ]
        },
        {
          "output_type": "execute_result",
          "data": {
            "text/plain": [
              "GridSearchCV(cv=10, estimator=KNeighborsClassifier(),\n",
              "             param_grid={'algorithm': ['auto', 'ball_tree', 'kd_tree', 'brute'],\n",
              "                         'n_neighbors': [3, 5, 9, 15], 'p': [1, 2, 3]},\n",
              "             verbose=10)"
            ],
            "text/html": [
              "<style>#sk-container-id-2 {color: black;background-color: white;}#sk-container-id-2 pre{padding: 0;}#sk-container-id-2 div.sk-toggleable {background-color: white;}#sk-container-id-2 label.sk-toggleable__label {cursor: pointer;display: block;width: 100%;margin-bottom: 0;padding: 0.3em;box-sizing: border-box;text-align: center;}#sk-container-id-2 label.sk-toggleable__label-arrow:before {content: \"▸\";float: left;margin-right: 0.25em;color: #696969;}#sk-container-id-2 label.sk-toggleable__label-arrow:hover:before {color: black;}#sk-container-id-2 div.sk-estimator:hover label.sk-toggleable__label-arrow:before {color: black;}#sk-container-id-2 div.sk-toggleable__content {max-height: 0;max-width: 0;overflow: hidden;text-align: left;background-color: #f0f8ff;}#sk-container-id-2 div.sk-toggleable__content pre {margin: 0.2em;color: black;border-radius: 0.25em;background-color: #f0f8ff;}#sk-container-id-2 input.sk-toggleable__control:checked~div.sk-toggleable__content {max-height: 200px;max-width: 100%;overflow: auto;}#sk-container-id-2 input.sk-toggleable__control:checked~label.sk-toggleable__label-arrow:before {content: \"▾\";}#sk-container-id-2 div.sk-estimator input.sk-toggleable__control:checked~label.sk-toggleable__label {background-color: #d4ebff;}#sk-container-id-2 div.sk-label input.sk-toggleable__control:checked~label.sk-toggleable__label {background-color: #d4ebff;}#sk-container-id-2 input.sk-hidden--visually {border: 0;clip: rect(1px 1px 1px 1px);clip: rect(1px, 1px, 1px, 1px);height: 1px;margin: -1px;overflow: hidden;padding: 0;position: absolute;width: 1px;}#sk-container-id-2 div.sk-estimator {font-family: monospace;background-color: #f0f8ff;border: 1px dotted black;border-radius: 0.25em;box-sizing: border-box;margin-bottom: 0.5em;}#sk-container-id-2 div.sk-estimator:hover {background-color: #d4ebff;}#sk-container-id-2 div.sk-parallel-item::after {content: \"\";width: 100%;border-bottom: 1px solid gray;flex-grow: 1;}#sk-container-id-2 div.sk-label:hover label.sk-toggleable__label {background-color: #d4ebff;}#sk-container-id-2 div.sk-serial::before {content: \"\";position: absolute;border-left: 1px solid gray;box-sizing: border-box;top: 0;bottom: 0;left: 50%;z-index: 0;}#sk-container-id-2 div.sk-serial {display: flex;flex-direction: column;align-items: center;background-color: white;padding-right: 0.2em;padding-left: 0.2em;position: relative;}#sk-container-id-2 div.sk-item {position: relative;z-index: 1;}#sk-container-id-2 div.sk-parallel {display: flex;align-items: stretch;justify-content: center;background-color: white;position: relative;}#sk-container-id-2 div.sk-item::before, #sk-container-id-2 div.sk-parallel-item::before {content: \"\";position: absolute;border-left: 1px solid gray;box-sizing: border-box;top: 0;bottom: 0;left: 50%;z-index: -1;}#sk-container-id-2 div.sk-parallel-item {display: flex;flex-direction: column;z-index: 1;position: relative;background-color: white;}#sk-container-id-2 div.sk-parallel-item:first-child::after {align-self: flex-end;width: 50%;}#sk-container-id-2 div.sk-parallel-item:last-child::after {align-self: flex-start;width: 50%;}#sk-container-id-2 div.sk-parallel-item:only-child::after {width: 0;}#sk-container-id-2 div.sk-dashed-wrapped {border: 1px dashed gray;margin: 0 0.4em 0.5em 0.4em;box-sizing: border-box;padding-bottom: 0.4em;background-color: white;}#sk-container-id-2 div.sk-label label {font-family: monospace;font-weight: bold;display: inline-block;line-height: 1.2em;}#sk-container-id-2 div.sk-label-container {text-align: center;}#sk-container-id-2 div.sk-container {/* jupyter's `normalize.less` sets `[hidden] { display: none; }` but bootstrap.min.css set `[hidden] { display: none !important; }` so we also need the `!important` here to be able to override the default hidden behavior on the sphinx rendered scikit-learn.org. See: https://github.com/scikit-learn/scikit-learn/issues/21755 */display: inline-block !important;position: relative;}#sk-container-id-2 div.sk-text-repr-fallback {display: none;}</style><div id=\"sk-container-id-2\" class=\"sk-top-container\"><div class=\"sk-text-repr-fallback\"><pre>GridSearchCV(cv=10, estimator=KNeighborsClassifier(),\n",
              "             param_grid={&#x27;algorithm&#x27;: [&#x27;auto&#x27;, &#x27;ball_tree&#x27;, &#x27;kd_tree&#x27;, &#x27;brute&#x27;],\n",
              "                         &#x27;n_neighbors&#x27;: [3, 5, 9, 15], &#x27;p&#x27;: [1, 2, 3]},\n",
              "             verbose=10)</pre><b>In a Jupyter environment, please rerun this cell to show the HTML representation or trust the notebook. <br />On GitHub, the HTML representation is unable to render, please try loading this page with nbviewer.org.</b></div><div class=\"sk-container\" hidden><div class=\"sk-item sk-dashed-wrapped\"><div class=\"sk-label-container\"><div class=\"sk-label sk-toggleable\"><input class=\"sk-toggleable__control sk-hidden--visually\" id=\"sk-estimator-id-2\" type=\"checkbox\" ><label for=\"sk-estimator-id-2\" class=\"sk-toggleable__label sk-toggleable__label-arrow\">GridSearchCV</label><div class=\"sk-toggleable__content\"><pre>GridSearchCV(cv=10, estimator=KNeighborsClassifier(),\n",
              "             param_grid={&#x27;algorithm&#x27;: [&#x27;auto&#x27;, &#x27;ball_tree&#x27;, &#x27;kd_tree&#x27;, &#x27;brute&#x27;],\n",
              "                         &#x27;n_neighbors&#x27;: [3, 5, 9, 15], &#x27;p&#x27;: [1, 2, 3]},\n",
              "             verbose=10)</pre></div></div></div><div class=\"sk-parallel\"><div class=\"sk-parallel-item\"><div class=\"sk-item\"><div class=\"sk-label-container\"><div class=\"sk-label sk-toggleable\"><input class=\"sk-toggleable__control sk-hidden--visually\" id=\"sk-estimator-id-3\" type=\"checkbox\" ><label for=\"sk-estimator-id-3\" class=\"sk-toggleable__label sk-toggleable__label-arrow\">estimator: KNeighborsClassifier</label><div class=\"sk-toggleable__content\"><pre>KNeighborsClassifier()</pre></div></div></div><div class=\"sk-serial\"><div class=\"sk-item\"><div class=\"sk-estimator sk-toggleable\"><input class=\"sk-toggleable__control sk-hidden--visually\" id=\"sk-estimator-id-4\" type=\"checkbox\" ><label for=\"sk-estimator-id-4\" class=\"sk-toggleable__label sk-toggleable__label-arrow\">KNeighborsClassifier</label><div class=\"sk-toggleable__content\"><pre>KNeighborsClassifier()</pre></div></div></div></div></div></div></div></div></div></div>"
            ]
          },
          "metadata": {},
          "execution_count": 23
        }
      ]
    },
    {
      "cell_type": "code",
      "source": [
        "print(gs.best_estimator_)"
      ],
      "metadata": {
        "colab": {
          "base_uri": "https://localhost:8080/"
        },
        "id": "f6EZB-2xUqMe",
        "outputId": "c08174ba-c2b3-48ae-9d26-aa2a2c75b51e"
      },
      "execution_count": null,
      "outputs": [
        {
          "output_type": "stream",
          "name": "stdout",
          "text": [
            "KNeighborsClassifier(n_neighbors=3, p=1)\n"
          ]
        }
      ]
    },
    {
      "cell_type": "code",
      "source": [
        "new_knn = KNeighborsClassifier(algorithm='auto', leaf_size=30, metric='minkowski',\n",
        "           metric_params=None, n_jobs=1, n_neighbors=3, p=1,\n",
        "           weights='uniform')\n",
        "new_knn.fit(strat_train_set_x, strat_train_y)"
      ],
      "metadata": {
        "colab": {
          "base_uri": "https://localhost:8080/",
          "height": 74
        },
        "id": "f0DU502gUtcd",
        "outputId": "c51263ef-8b80-4397-8543-1968eef1f391"
      },
      "execution_count": null,
      "outputs": [
        {
          "output_type": "execute_result",
          "data": {
            "text/plain": [
              "KNeighborsClassifier(n_jobs=1, n_neighbors=3, p=1)"
            ],
            "text/html": [
              "<style>#sk-container-id-3 {color: black;background-color: white;}#sk-container-id-3 pre{padding: 0;}#sk-container-id-3 div.sk-toggleable {background-color: white;}#sk-container-id-3 label.sk-toggleable__label {cursor: pointer;display: block;width: 100%;margin-bottom: 0;padding: 0.3em;box-sizing: border-box;text-align: center;}#sk-container-id-3 label.sk-toggleable__label-arrow:before {content: \"▸\";float: left;margin-right: 0.25em;color: #696969;}#sk-container-id-3 label.sk-toggleable__label-arrow:hover:before {color: black;}#sk-container-id-3 div.sk-estimator:hover label.sk-toggleable__label-arrow:before {color: black;}#sk-container-id-3 div.sk-toggleable__content {max-height: 0;max-width: 0;overflow: hidden;text-align: left;background-color: #f0f8ff;}#sk-container-id-3 div.sk-toggleable__content pre {margin: 0.2em;color: black;border-radius: 0.25em;background-color: #f0f8ff;}#sk-container-id-3 input.sk-toggleable__control:checked~div.sk-toggleable__content {max-height: 200px;max-width: 100%;overflow: auto;}#sk-container-id-3 input.sk-toggleable__control:checked~label.sk-toggleable__label-arrow:before {content: \"▾\";}#sk-container-id-3 div.sk-estimator input.sk-toggleable__control:checked~label.sk-toggleable__label {background-color: #d4ebff;}#sk-container-id-3 div.sk-label input.sk-toggleable__control:checked~label.sk-toggleable__label {background-color: #d4ebff;}#sk-container-id-3 input.sk-hidden--visually {border: 0;clip: rect(1px 1px 1px 1px);clip: rect(1px, 1px, 1px, 1px);height: 1px;margin: -1px;overflow: hidden;padding: 0;position: absolute;width: 1px;}#sk-container-id-3 div.sk-estimator {font-family: monospace;background-color: #f0f8ff;border: 1px dotted black;border-radius: 0.25em;box-sizing: border-box;margin-bottom: 0.5em;}#sk-container-id-3 div.sk-estimator:hover {background-color: #d4ebff;}#sk-container-id-3 div.sk-parallel-item::after {content: \"\";width: 100%;border-bottom: 1px solid gray;flex-grow: 1;}#sk-container-id-3 div.sk-label:hover label.sk-toggleable__label {background-color: #d4ebff;}#sk-container-id-3 div.sk-serial::before {content: \"\";position: absolute;border-left: 1px solid gray;box-sizing: border-box;top: 0;bottom: 0;left: 50%;z-index: 0;}#sk-container-id-3 div.sk-serial {display: flex;flex-direction: column;align-items: center;background-color: white;padding-right: 0.2em;padding-left: 0.2em;position: relative;}#sk-container-id-3 div.sk-item {position: relative;z-index: 1;}#sk-container-id-3 div.sk-parallel {display: flex;align-items: stretch;justify-content: center;background-color: white;position: relative;}#sk-container-id-3 div.sk-item::before, #sk-container-id-3 div.sk-parallel-item::before {content: \"\";position: absolute;border-left: 1px solid gray;box-sizing: border-box;top: 0;bottom: 0;left: 50%;z-index: -1;}#sk-container-id-3 div.sk-parallel-item {display: flex;flex-direction: column;z-index: 1;position: relative;background-color: white;}#sk-container-id-3 div.sk-parallel-item:first-child::after {align-self: flex-end;width: 50%;}#sk-container-id-3 div.sk-parallel-item:last-child::after {align-self: flex-start;width: 50%;}#sk-container-id-3 div.sk-parallel-item:only-child::after {width: 0;}#sk-container-id-3 div.sk-dashed-wrapped {border: 1px dashed gray;margin: 0 0.4em 0.5em 0.4em;box-sizing: border-box;padding-bottom: 0.4em;background-color: white;}#sk-container-id-3 div.sk-label label {font-family: monospace;font-weight: bold;display: inline-block;line-height: 1.2em;}#sk-container-id-3 div.sk-label-container {text-align: center;}#sk-container-id-3 div.sk-container {/* jupyter's `normalize.less` sets `[hidden] { display: none; }` but bootstrap.min.css set `[hidden] { display: none !important; }` so we also need the `!important` here to be able to override the default hidden behavior on the sphinx rendered scikit-learn.org. See: https://github.com/scikit-learn/scikit-learn/issues/21755 */display: inline-block !important;position: relative;}#sk-container-id-3 div.sk-text-repr-fallback {display: none;}</style><div id=\"sk-container-id-3\" class=\"sk-top-container\"><div class=\"sk-text-repr-fallback\"><pre>KNeighborsClassifier(n_jobs=1, n_neighbors=3, p=1)</pre><b>In a Jupyter environment, please rerun this cell to show the HTML representation or trust the notebook. <br />On GitHub, the HTML representation is unable to render, please try loading this page with nbviewer.org.</b></div><div class=\"sk-container\" hidden><div class=\"sk-item\"><div class=\"sk-estimator sk-toggleable\"><input class=\"sk-toggleable__control sk-hidden--visually\" id=\"sk-estimator-id-5\" type=\"checkbox\" checked><label for=\"sk-estimator-id-5\" class=\"sk-toggleable__label sk-toggleable__label-arrow\">KNeighborsClassifier</label><div class=\"sk-toggleable__content\"><pre>KNeighborsClassifier(n_jobs=1, n_neighbors=3, p=1)</pre></div></div></div></div></div>"
            ]
          },
          "metadata": {},
          "execution_count": 25
        }
      ]
    },
    {
      "cell_type": "code",
      "source": [
        "knn_pred = new_knn.predict(strat_test_set_x)\n",
        "print(confusion_matrix(knn_pred, strat_test_y))"
      ],
      "metadata": {
        "colab": {
          "base_uri": "https://localhost:8080/"
        },
        "id": "hHz1DJFMVNyR",
        "outputId": "7748ee43-3209-4562-fecd-aae48d22a6cd"
      },
      "execution_count": null,
      "outputs": [
        {
          "output_type": "stream",
          "name": "stdout",
          "text": [
            "[[10  1]\n",
            " [ 0 28]]\n"
          ]
        }
      ]
    },
    {
      "cell_type": "code",
      "source": [
        "print(\"KNN - fine tuned, got {} % accuracy on the test set.\".format(accuracy_score(strat_test_y, new_knn.predict(strat_test_set_x))*100))"
      ],
      "metadata": {
        "colab": {
          "base_uri": "https://localhost:8080/"
        },
        "id": "Vz3gwZeWVZgG",
        "outputId": "f8fc5faf-2e45-4141-a99a-85366a6597c4"
      },
      "execution_count": null,
      "outputs": [
        {
          "output_type": "stream",
          "name": "stdout",
          "text": [
            "KNN - fine tuned, got 97.43589743589743 % accuracy on the test set.\n"
          ]
        }
      ]
    },
    {
      "cell_type": "code",
      "source": [
        "from sklearn.linear_model import LogisticRegression"
      ],
      "metadata": {
        "id": "JDXxd2B3RuC_"
      },
      "execution_count": null,
      "outputs": []
    },
    {
      "cell_type": "code",
      "source": [
        "# Logistic Regression\n",
        "\n",
        "parameters = {'penalty': ['l1', 'l2'], \n",
        "              'C': [0.1, 0.4, 0.8, 1, 2, 5,10,20,30]}    \n",
        "\n",
        "grid_search=GridSearchCV(estimator = LogisticRegression() ,param_grid=parameters,cv=10,n_jobs=-1,verbose=2)\n",
        "grid_search.fit(strat_train_set_x, strat_train_y)\n",
        "\n",
        "log_reg = grid_search.best_estimator_\n",
        "\n",
        "grid_search.best_params_"
      ],
      "metadata": {
        "colab": {
          "base_uri": "https://localhost:8080/"
        },
        "id": "N9eAJvIIWAyz",
        "outputId": "f81db241-6cbe-44ea-e252-c1e0b4b733ff"
      },
      "execution_count": null,
      "outputs": [
        {
          "output_type": "stream",
          "name": "stdout",
          "text": [
            "Fitting 10 folds for each of 18 candidates, totalling 180 fits\n"
          ]
        },
        {
          "output_type": "stream",
          "name": "stderr",
          "text": [
            "/usr/local/lib/python3.9/dist-packages/sklearn/model_selection/_validation.py:378: FitFailedWarning: \n",
            "90 fits failed out of a total of 180.\n",
            "The score on these train-test partitions for these parameters will be set to nan.\n",
            "If these failures are not expected, you can try to debug them by setting error_score='raise'.\n",
            "\n",
            "Below are more details about the failures:\n",
            "--------------------------------------------------------------------------------\n",
            "90 fits failed with the following error:\n",
            "Traceback (most recent call last):\n",
            "  File \"/usr/local/lib/python3.9/dist-packages/sklearn/model_selection/_validation.py\", line 686, in _fit_and_score\n",
            "    estimator.fit(X_train, y_train, **fit_params)\n",
            "  File \"/usr/local/lib/python3.9/dist-packages/sklearn/linear_model/_logistic.py\", line 1162, in fit\n",
            "    solver = _check_solver(self.solver, self.penalty, self.dual)\n",
            "  File \"/usr/local/lib/python3.9/dist-packages/sklearn/linear_model/_logistic.py\", line 54, in _check_solver\n",
            "    raise ValueError(\n",
            "ValueError: Solver lbfgs supports only 'l2' or 'none' penalties, got l1 penalty.\n",
            "\n",
            "  warnings.warn(some_fits_failed_message, FitFailedWarning)\n",
            "/usr/local/lib/python3.9/dist-packages/sklearn/model_selection/_search.py:952: UserWarning: One or more of the test scores are non-finite: [       nan 0.85833333        nan 0.87208333        nan 0.86583333\n",
            "        nan 0.85916667        nan 0.85916667        nan 0.87208333\n",
            "        nan 0.87208333        nan 0.87208333        nan 0.87208333]\n",
            "  warnings.warn(\n"
          ]
        },
        {
          "output_type": "execute_result",
          "data": {
            "text/plain": [
              "{'C': 0.4, 'penalty': 'l2'}"
            ]
          },
          "metadata": {},
          "execution_count": 29
        }
      ]
    },
    {
      "cell_type": "code",
      "source": [
        "y_pred=log_reg.predict(strat_test_set_x)\n",
        "\n",
        "print(\"\\n\",confusion_matrix(strat_test_y, y_pred))\n",
        "log_reg_acc = accuracy_score(strat_test_y,y_pred)\n",
        "\n",
        "print(\"\\nAccuracy Score {}\".format(log_reg_acc))\n",
        "print(\"Classification report: \\n{}\".format(classification_report(strat_test_y,y_pred)))"
      ],
      "metadata": {
        "colab": {
          "base_uri": "https://localhost:8080/"
        },
        "id": "DROB7e5XWaVy",
        "outputId": "e1cb00dc-0a60-4f76-ff9a-0f9549942284"
      },
      "execution_count": null,
      "outputs": [
        {
          "output_type": "stream",
          "name": "stdout",
          "text": [
            "\n",
            " [[ 5  5]\n",
            " [ 0 29]]\n",
            "\n",
            "Accuracy Score 0.8717948717948718\n",
            "Classification report: \n",
            "              precision    recall  f1-score   support\n",
            "\n",
            "           0       1.00      0.50      0.67        10\n",
            "           1       0.85      1.00      0.92        29\n",
            "\n",
            "    accuracy                           0.87        39\n",
            "   macro avg       0.93      0.75      0.79        39\n",
            "weighted avg       0.89      0.87      0.86        39\n",
            "\n"
          ]
        }
      ]
    },
    {
      "cell_type": "code",
      "source": [
        "# Decision Tree Classifier\n",
        "from sklearn.tree import DecisionTreeClassifier"
      ],
      "metadata": {
        "id": "ni-VwTQuW-4m"
      },
      "execution_count": null,
      "outputs": []
    },
    {
      "cell_type": "code",
      "source": [
        "dt = DecisionTreeClassifier()\n",
        "dt.fit(strat_train_set_x, strat_train_y)"
      ],
      "metadata": {
        "colab": {
          "base_uri": "https://localhost:8080/",
          "height": 74
        },
        "id": "zXii4k-iXhFL",
        "outputId": "7f219d17-0217-455f-f94e-36bcc6ccfefc"
      },
      "execution_count": null,
      "outputs": [
        {
          "output_type": "execute_result",
          "data": {
            "text/plain": [
              "DecisionTreeClassifier()"
            ],
            "text/html": [
              "<style>#sk-container-id-4 {color: black;background-color: white;}#sk-container-id-4 pre{padding: 0;}#sk-container-id-4 div.sk-toggleable {background-color: white;}#sk-container-id-4 label.sk-toggleable__label {cursor: pointer;display: block;width: 100%;margin-bottom: 0;padding: 0.3em;box-sizing: border-box;text-align: center;}#sk-container-id-4 label.sk-toggleable__label-arrow:before {content: \"▸\";float: left;margin-right: 0.25em;color: #696969;}#sk-container-id-4 label.sk-toggleable__label-arrow:hover:before {color: black;}#sk-container-id-4 div.sk-estimator:hover label.sk-toggleable__label-arrow:before {color: black;}#sk-container-id-4 div.sk-toggleable__content {max-height: 0;max-width: 0;overflow: hidden;text-align: left;background-color: #f0f8ff;}#sk-container-id-4 div.sk-toggleable__content pre {margin: 0.2em;color: black;border-radius: 0.25em;background-color: #f0f8ff;}#sk-container-id-4 input.sk-toggleable__control:checked~div.sk-toggleable__content {max-height: 200px;max-width: 100%;overflow: auto;}#sk-container-id-4 input.sk-toggleable__control:checked~label.sk-toggleable__label-arrow:before {content: \"▾\";}#sk-container-id-4 div.sk-estimator input.sk-toggleable__control:checked~label.sk-toggleable__label {background-color: #d4ebff;}#sk-container-id-4 div.sk-label input.sk-toggleable__control:checked~label.sk-toggleable__label {background-color: #d4ebff;}#sk-container-id-4 input.sk-hidden--visually {border: 0;clip: rect(1px 1px 1px 1px);clip: rect(1px, 1px, 1px, 1px);height: 1px;margin: -1px;overflow: hidden;padding: 0;position: absolute;width: 1px;}#sk-container-id-4 div.sk-estimator {font-family: monospace;background-color: #f0f8ff;border: 1px dotted black;border-radius: 0.25em;box-sizing: border-box;margin-bottom: 0.5em;}#sk-container-id-4 div.sk-estimator:hover {background-color: #d4ebff;}#sk-container-id-4 div.sk-parallel-item::after {content: \"\";width: 100%;border-bottom: 1px solid gray;flex-grow: 1;}#sk-container-id-4 div.sk-label:hover label.sk-toggleable__label {background-color: #d4ebff;}#sk-container-id-4 div.sk-serial::before {content: \"\";position: absolute;border-left: 1px solid gray;box-sizing: border-box;top: 0;bottom: 0;left: 50%;z-index: 0;}#sk-container-id-4 div.sk-serial {display: flex;flex-direction: column;align-items: center;background-color: white;padding-right: 0.2em;padding-left: 0.2em;position: relative;}#sk-container-id-4 div.sk-item {position: relative;z-index: 1;}#sk-container-id-4 div.sk-parallel {display: flex;align-items: stretch;justify-content: center;background-color: white;position: relative;}#sk-container-id-4 div.sk-item::before, #sk-container-id-4 div.sk-parallel-item::before {content: \"\";position: absolute;border-left: 1px solid gray;box-sizing: border-box;top: 0;bottom: 0;left: 50%;z-index: -1;}#sk-container-id-4 div.sk-parallel-item {display: flex;flex-direction: column;z-index: 1;position: relative;background-color: white;}#sk-container-id-4 div.sk-parallel-item:first-child::after {align-self: flex-end;width: 50%;}#sk-container-id-4 div.sk-parallel-item:last-child::after {align-self: flex-start;width: 50%;}#sk-container-id-4 div.sk-parallel-item:only-child::after {width: 0;}#sk-container-id-4 div.sk-dashed-wrapped {border: 1px dashed gray;margin: 0 0.4em 0.5em 0.4em;box-sizing: border-box;padding-bottom: 0.4em;background-color: white;}#sk-container-id-4 div.sk-label label {font-family: monospace;font-weight: bold;display: inline-block;line-height: 1.2em;}#sk-container-id-4 div.sk-label-container {text-align: center;}#sk-container-id-4 div.sk-container {/* jupyter's `normalize.less` sets `[hidden] { display: none; }` but bootstrap.min.css set `[hidden] { display: none !important; }` so we also need the `!important` here to be able to override the default hidden behavior on the sphinx rendered scikit-learn.org. See: https://github.com/scikit-learn/scikit-learn/issues/21755 */display: inline-block !important;position: relative;}#sk-container-id-4 div.sk-text-repr-fallback {display: none;}</style><div id=\"sk-container-id-4\" class=\"sk-top-container\"><div class=\"sk-text-repr-fallback\"><pre>DecisionTreeClassifier()</pre><b>In a Jupyter environment, please rerun this cell to show the HTML representation or trust the notebook. <br />On GitHub, the HTML representation is unable to render, please try loading this page with nbviewer.org.</b></div><div class=\"sk-container\" hidden><div class=\"sk-item\"><div class=\"sk-estimator sk-toggleable\"><input class=\"sk-toggleable__control sk-hidden--visually\" id=\"sk-estimator-id-6\" type=\"checkbox\" checked><label for=\"sk-estimator-id-6\" class=\"sk-toggleable__label sk-toggleable__label-arrow\">DecisionTreeClassifier</label><div class=\"sk-toggleable__content\"><pre>DecisionTreeClassifier()</pre></div></div></div></div></div>"
            ]
          },
          "metadata": {},
          "execution_count": 32
        }
      ]
    },
    {
      "cell_type": "code",
      "source": [
        "dt_pred = dt.predict(strat_test_set_x)\n",
        "print(confusion_matrix(strat_test_y, dt_pred))"
      ],
      "metadata": {
        "colab": {
          "base_uri": "https://localhost:8080/"
        },
        "id": "bd0wqqR-YEp_",
        "outputId": "719ac524-4fb3-402a-cc2d-7e393f007f72"
      },
      "execution_count": null,
      "outputs": [
        {
          "output_type": "stream",
          "name": "stdout",
          "text": [
            "[[10  0]\n",
            " [ 1 28]]\n"
          ]
        }
      ]
    },
    {
      "cell_type": "code",
      "source": [
        "print(\"Decision Tree Classifier - default, got {}% accuracy on the test set.\".format(accuracy_score(strat_test_y, dt.predict(strat_test_set_x))*100))"
      ],
      "metadata": {
        "colab": {
          "base_uri": "https://localhost:8080/"
        },
        "id": "uVqL_jMZXz-Z",
        "outputId": "648183c0-ebe9-42b8-eaab-530783318778"
      },
      "execution_count": null,
      "outputs": [
        {
          "output_type": "stream",
          "name": "stdout",
          "text": [
            "Decision Tree Classifier - default, got 97.43589743589743% accuracy on the test set.\n"
          ]
        }
      ]
    },
    {
      "cell_type": "code",
      "source": [
        "# Random Forest Classifier\n",
        "from sklearn.ensemble import RandomForestClassifier"
      ],
      "metadata": {
        "id": "bTcyunQGYN_f"
      },
      "execution_count": null,
      "outputs": []
    },
    {
      "cell_type": "code",
      "source": [
        "rfc = RandomForestClassifier(n_estimators=350)\n",
        "rfc.fit(strat_train_set_x, strat_train_y)"
      ],
      "metadata": {
        "colab": {
          "base_uri": "https://localhost:8080/",
          "height": 74
        },
        "id": "2XCv5D-WZDNk",
        "outputId": "68ba5c89-b104-464f-f604-5f280a84c27c"
      },
      "execution_count": null,
      "outputs": [
        {
          "output_type": "execute_result",
          "data": {
            "text/plain": [
              "RandomForestClassifier(n_estimators=350)"
            ],
            "text/html": [
              "<style>#sk-container-id-5 {color: black;background-color: white;}#sk-container-id-5 pre{padding: 0;}#sk-container-id-5 div.sk-toggleable {background-color: white;}#sk-container-id-5 label.sk-toggleable__label {cursor: pointer;display: block;width: 100%;margin-bottom: 0;padding: 0.3em;box-sizing: border-box;text-align: center;}#sk-container-id-5 label.sk-toggleable__label-arrow:before {content: \"▸\";float: left;margin-right: 0.25em;color: #696969;}#sk-container-id-5 label.sk-toggleable__label-arrow:hover:before {color: black;}#sk-container-id-5 div.sk-estimator:hover label.sk-toggleable__label-arrow:before {color: black;}#sk-container-id-5 div.sk-toggleable__content {max-height: 0;max-width: 0;overflow: hidden;text-align: left;background-color: #f0f8ff;}#sk-container-id-5 div.sk-toggleable__content pre {margin: 0.2em;color: black;border-radius: 0.25em;background-color: #f0f8ff;}#sk-container-id-5 input.sk-toggleable__control:checked~div.sk-toggleable__content {max-height: 200px;max-width: 100%;overflow: auto;}#sk-container-id-5 input.sk-toggleable__control:checked~label.sk-toggleable__label-arrow:before {content: \"▾\";}#sk-container-id-5 div.sk-estimator input.sk-toggleable__control:checked~label.sk-toggleable__label {background-color: #d4ebff;}#sk-container-id-5 div.sk-label input.sk-toggleable__control:checked~label.sk-toggleable__label {background-color: #d4ebff;}#sk-container-id-5 input.sk-hidden--visually {border: 0;clip: rect(1px 1px 1px 1px);clip: rect(1px, 1px, 1px, 1px);height: 1px;margin: -1px;overflow: hidden;padding: 0;position: absolute;width: 1px;}#sk-container-id-5 div.sk-estimator {font-family: monospace;background-color: #f0f8ff;border: 1px dotted black;border-radius: 0.25em;box-sizing: border-box;margin-bottom: 0.5em;}#sk-container-id-5 div.sk-estimator:hover {background-color: #d4ebff;}#sk-container-id-5 div.sk-parallel-item::after {content: \"\";width: 100%;border-bottom: 1px solid gray;flex-grow: 1;}#sk-container-id-5 div.sk-label:hover label.sk-toggleable__label {background-color: #d4ebff;}#sk-container-id-5 div.sk-serial::before {content: \"\";position: absolute;border-left: 1px solid gray;box-sizing: border-box;top: 0;bottom: 0;left: 50%;z-index: 0;}#sk-container-id-5 div.sk-serial {display: flex;flex-direction: column;align-items: center;background-color: white;padding-right: 0.2em;padding-left: 0.2em;position: relative;}#sk-container-id-5 div.sk-item {position: relative;z-index: 1;}#sk-container-id-5 div.sk-parallel {display: flex;align-items: stretch;justify-content: center;background-color: white;position: relative;}#sk-container-id-5 div.sk-item::before, #sk-container-id-5 div.sk-parallel-item::before {content: \"\";position: absolute;border-left: 1px solid gray;box-sizing: border-box;top: 0;bottom: 0;left: 50%;z-index: -1;}#sk-container-id-5 div.sk-parallel-item {display: flex;flex-direction: column;z-index: 1;position: relative;background-color: white;}#sk-container-id-5 div.sk-parallel-item:first-child::after {align-self: flex-end;width: 50%;}#sk-container-id-5 div.sk-parallel-item:last-child::after {align-self: flex-start;width: 50%;}#sk-container-id-5 div.sk-parallel-item:only-child::after {width: 0;}#sk-container-id-5 div.sk-dashed-wrapped {border: 1px dashed gray;margin: 0 0.4em 0.5em 0.4em;box-sizing: border-box;padding-bottom: 0.4em;background-color: white;}#sk-container-id-5 div.sk-label label {font-family: monospace;font-weight: bold;display: inline-block;line-height: 1.2em;}#sk-container-id-5 div.sk-label-container {text-align: center;}#sk-container-id-5 div.sk-container {/* jupyter's `normalize.less` sets `[hidden] { display: none; }` but bootstrap.min.css set `[hidden] { display: none !important; }` so we also need the `!important` here to be able to override the default hidden behavior on the sphinx rendered scikit-learn.org. See: https://github.com/scikit-learn/scikit-learn/issues/21755 */display: inline-block !important;position: relative;}#sk-container-id-5 div.sk-text-repr-fallback {display: none;}</style><div id=\"sk-container-id-5\" class=\"sk-top-container\"><div class=\"sk-text-repr-fallback\"><pre>RandomForestClassifier(n_estimators=350)</pre><b>In a Jupyter environment, please rerun this cell to show the HTML representation or trust the notebook. <br />On GitHub, the HTML representation is unable to render, please try loading this page with nbviewer.org.</b></div><div class=\"sk-container\" hidden><div class=\"sk-item\"><div class=\"sk-estimator sk-toggleable\"><input class=\"sk-toggleable__control sk-hidden--visually\" id=\"sk-estimator-id-7\" type=\"checkbox\" checked><label for=\"sk-estimator-id-7\" class=\"sk-toggleable__label sk-toggleable__label-arrow\">RandomForestClassifier</label><div class=\"sk-toggleable__content\"><pre>RandomForestClassifier(n_estimators=350)</pre></div></div></div></div></div>"
            ]
          },
          "metadata": {},
          "execution_count": 36
        }
      ]
    },
    {
      "cell_type": "code",
      "source": [
        "rfc_pred = rfc.predict(strat_test_set_x)\n",
        "print(confusion_matrix(strat_test_y, rfc_pred))"
      ],
      "metadata": {
        "colab": {
          "base_uri": "https://localhost:8080/"
        },
        "id": "VpLqQ3-PZGjB",
        "outputId": "3bd02a33-3261-4dfc-9538-47d61bc265e5"
      },
      "execution_count": null,
      "outputs": [
        {
          "output_type": "stream",
          "name": "stdout",
          "text": [
            "[[ 7  3]\n",
            " [ 0 29]]\n"
          ]
        }
      ]
    },
    {
      "cell_type": "code",
      "source": [
        "print(\"Random Forest Classifier - default, got {}% accuracy on the test set.\".format(accuracy_score(strat_test_y, rfc.predict(strat_test_set_x))*100))"
      ],
      "metadata": {
        "colab": {
          "base_uri": "https://localhost:8080/"
        },
        "id": "sEzUImTEZUKG",
        "outputId": "50f3a0f3-91b6-44e2-c3a5-efbc2dd30d99"
      },
      "execution_count": null,
      "outputs": [
        {
          "output_type": "stream",
          "name": "stdout",
          "text": [
            "Random Forest Classifier - default, got 92.3076923076923% accuracy on the test set.\n"
          ]
        }
      ]
    },
    {
      "cell_type": "code",
      "source": [
        "# support vector classifier\n",
        "\n",
        "from sklearn.svm import LinearSVC\n",
        "\n",
        "svc = LinearSVC()\n",
        "\n",
        "parameters = {\n",
        "      'penalty':['l1', 'l2'],\n",
        "      'max_iter': [10,20,50,100,1000], \n",
        "      'C': [0.1, 0.4, 0.8, 1, 2, 5,10,20,30],          \n",
        "              }\n",
        "\n",
        "grid_search=GridSearchCV(estimator=svc ,param_grid=parameters,cv=10,n_jobs=-1,verbose=2)\n",
        "grid_search.fit(strat_train_set_x,strat_train_y)\n",
        "\n",
        "svc = grid_search.best_estimator_\n",
        "\n",
        "grid_search.best_params_"
      ],
      "metadata": {
        "colab": {
          "base_uri": "https://localhost:8080/"
        },
        "id": "msPt3LxAaAEt",
        "outputId": "e1ba2930-bd94-45d4-dc7c-cbe96750bb38"
      },
      "execution_count": null,
      "outputs": [
        {
          "output_type": "stream",
          "name": "stdout",
          "text": [
            "Fitting 10 folds for each of 90 candidates, totalling 900 fits\n"
          ]
        },
        {
          "output_type": "stream",
          "name": "stderr",
          "text": [
            "/usr/local/lib/python3.9/dist-packages/sklearn/model_selection/_validation.py:378: FitFailedWarning: \n",
            "450 fits failed out of a total of 900.\n",
            "The score on these train-test partitions for these parameters will be set to nan.\n",
            "If these failures are not expected, you can try to debug them by setting error_score='raise'.\n",
            "\n",
            "Below are more details about the failures:\n",
            "--------------------------------------------------------------------------------\n",
            "450 fits failed with the following error:\n",
            "Traceback (most recent call last):\n",
            "  File \"/usr/local/lib/python3.9/dist-packages/sklearn/model_selection/_validation.py\", line 686, in _fit_and_score\n",
            "    estimator.fit(X_train, y_train, **fit_params)\n",
            "  File \"/usr/local/lib/python3.9/dist-packages/sklearn/svm/_classes.py\", line 274, in fit\n",
            "    self.coef_, self.intercept_, n_iter_ = _fit_liblinear(\n",
            "  File \"/usr/local/lib/python3.9/dist-packages/sklearn/svm/_base.py\", line 1223, in _fit_liblinear\n",
            "    solver_type = _get_liblinear_solver_type(multi_class, penalty, loss, dual)\n",
            "  File \"/usr/local/lib/python3.9/dist-packages/sklearn/svm/_base.py\", line 1062, in _get_liblinear_solver_type\n",
            "    raise ValueError(\n",
            "ValueError: Unsupported set of arguments: The combination of penalty='l1' and loss='squared_hinge' are not supported when dual=True, Parameters: penalty='l1', loss='squared_hinge', dual=True\n",
            "\n",
            "  warnings.warn(some_fits_failed_message, FitFailedWarning)\n",
            "/usr/local/lib/python3.9/dist-packages/sklearn/model_selection/_search.py:952: UserWarning: One or more of the test scores are non-finite: [       nan 0.86583333        nan 0.86583333        nan 0.86583333\n",
            "        nan 0.86583333        nan 0.86583333        nan 0.84666667\n",
            "        nan 0.8725            nan 0.86583333        nan 0.86583333\n",
            "        nan 0.86583333        nan 0.81541667        nan 0.84625\n",
            "        nan 0.87208333        nan 0.86541667        nan 0.86541667\n",
            "        nan 0.85166667        nan 0.87875           nan 0.86541667\n",
            "        nan 0.87208333        nan 0.87208333        nan 0.78375\n",
            "        nan 0.85375           nan 0.87208333        nan 0.87208333\n",
            "        nan 0.86541667        nan 0.81875           nan 0.82125\n",
            "        nan 0.84666667        nan 0.85916667        nan 0.86541667\n",
            "        nan 0.80125           nan 0.77416667        nan 0.83375\n",
            "        nan 0.83416667        nan 0.87208333        nan 0.76916667\n",
            "        nan 0.77541667        nan 0.80791667        nan 0.77041667\n",
            "        nan 0.87208333        nan 0.74875           nan 0.81916667\n",
            "        nan 0.80833333        nan 0.815             nan 0.86583333]\n",
            "  warnings.warn(\n",
            "/usr/local/lib/python3.9/dist-packages/sklearn/svm/_base.py:1244: ConvergenceWarning: Liblinear failed to converge, increase the number of iterations.\n",
            "  warnings.warn(\n"
          ]
        },
        {
          "output_type": "execute_result",
          "data": {
            "text/plain": [
              "{'C': 1, 'max_iter': 20, 'penalty': 'l2'}"
            ]
          },
          "metadata": {},
          "execution_count": 39
        }
      ]
    },
    {
      "cell_type": "code",
      "source": [
        "svc_pred=svc.predict(strat_test_set_x)\n",
        "\n",
        "print(\"\\n\",confusion_matrix(strat_test_y,svc_pred))\n",
        "svc_acc = accuracy_score(strat_test_y,svc_pred)\n",
        "print(\"\\nAccuracy Score {}\".format(svc_acc))\n",
        "print(\"Classification report: \\n{}\".format(classification_report(strat_test_y,svc_pred)))"
      ],
      "metadata": {
        "colab": {
          "base_uri": "https://localhost:8080/"
        },
        "id": "Fjy-CV19aaCE",
        "outputId": "58aaced1-f13b-4a54-95af-01c64515b29f"
      },
      "execution_count": null,
      "outputs": [
        {
          "output_type": "stream",
          "name": "stdout",
          "text": [
            "\n",
            " [[ 7  3]\n",
            " [ 2 27]]\n",
            "\n",
            "Accuracy Score 0.8717948717948718\n",
            "Classification report: \n",
            "              precision    recall  f1-score   support\n",
            "\n",
            "           0       0.78      0.70      0.74        10\n",
            "           1       0.90      0.93      0.92        29\n",
            "\n",
            "    accuracy                           0.87        39\n",
            "   macro avg       0.84      0.82      0.83        39\n",
            "weighted avg       0.87      0.87      0.87        39\n",
            "\n"
          ]
        }
      ]
    },
    {
      "cell_type": "code",
      "source": [
        "# Extreme Gradient Boosting\n",
        "from xgboost import XGBClassifier\n",
        "xgb = XGBClassifier()\n",
        "\n",
        "parameters = {'min_child_weight' : np.arange(0,20),\n",
        "              'max_depth': [2, 4, 5, 7, 9, 10]}\n",
        "\n",
        "grid_search=GridSearchCV(estimator=xgb ,param_grid=parameters,cv=10,n_jobs=-1,verbose=2)\n",
        "grid_search.fit(strat_train_set_x, strat_train_y)\n",
        "\n",
        "xgb = grid_search.best_estimator_\n",
        "\n",
        "grid_search.best_params_"
      ],
      "metadata": {
        "colab": {
          "base_uri": "https://localhost:8080/"
        },
        "id": "p1LHhsO2a4vq",
        "outputId": "76ecb99a-d5aa-4b5e-aff4-d9bf3551d379"
      },
      "execution_count": null,
      "outputs": [
        {
          "output_type": "stream",
          "name": "stdout",
          "text": [
            "Fitting 10 folds for each of 120 candidates, totalling 1200 fits\n"
          ]
        },
        {
          "output_type": "execute_result",
          "data": {
            "text/plain": [
              "{'max_depth': 4, 'min_child_weight': 2}"
            ]
          },
          "metadata": {},
          "execution_count": 41
        }
      ]
    },
    {
      "cell_type": "code",
      "source": [
        "y_pred=xgb.predict(strat_test_set_x)\n",
        "\n",
        "print(\"\\n\",confusion_matrix(strat_test_y,y_pred))\n",
        "xgb_acc = accuracy_score(strat_test_y,y_pred)\n",
        "print(\"\\nAccuracy Score {}\".format(xgb_acc))\n",
        "print(\"Classification report: \\n{}\".format(classification_report(strat_test_y,y_pred)))"
      ],
      "metadata": {
        "colab": {
          "base_uri": "https://localhost:8080/"
        },
        "id": "vNljfPXUbU5_",
        "outputId": "dc7ffa7c-d830-4860-cd25-c4fbc012b1b2"
      },
      "execution_count": null,
      "outputs": [
        {
          "output_type": "stream",
          "name": "stdout",
          "text": [
            "\n",
            " [[ 9  1]\n",
            " [ 0 29]]\n",
            "\n",
            "Accuracy Score 0.9743589743589743\n",
            "Classification report: \n",
            "              precision    recall  f1-score   support\n",
            "\n",
            "           0       1.00      0.90      0.95        10\n",
            "           1       0.97      1.00      0.98        29\n",
            "\n",
            "    accuracy                           0.97        39\n",
            "   macro avg       0.98      0.95      0.97        39\n",
            "weighted avg       0.98      0.97      0.97        39\n",
            "\n"
          ]
        }
      ]
    },
    {
      "cell_type": "code",
      "source": [
        "# Stacking Ensemble Classifier \n",
        "\n",
        "from sklearn.ensemble import StackingClassifier\n",
        "estimators = [ ('xgb', xgb ), \n",
        "              ('svc',svc ),\n",
        "              ('log_Reg', log_reg),\n",
        "              ('rfc', rfc),\n",
        "              ('dt', dt),\n",
        "              ('new_knn',new_knn)]\n",
        "\n",
        "\n",
        "stack = StackingClassifier(estimators=estimators ,final_estimator= svc)\n",
        "\n",
        "stack.fit(strat_train_set_x, strat_train_y)\n",
        "stack_predicted = stack.predict(strat_test_set_x)\n",
        "\n",
        "stack_conf_matrix = confusion_matrix(strat_test_y, stack_predicted)\n",
        "stack_acc_score = accuracy_score(strat_test_y, stack_predicted)\n",
        "\n",
        "print(\"confussion matrix\")\n",
        "print(stack_conf_matrix)\n",
        "print(\"\\n\")\n",
        "print(\"Accuracy of Stacking Classifier:\",stack_acc_score*100,'\\n')\n",
        "print(classification_report(strat_test_y,stack_predicted))"
      ],
      "metadata": {
        "colab": {
          "base_uri": "https://localhost:8080/"
        },
        "id": "xbOFskALbX8X",
        "outputId": "bb199098-7bf4-4ee2-f61e-7c106a26da4e"
      },
      "execution_count": null,
      "outputs": [
        {
          "output_type": "stream",
          "name": "stderr",
          "text": [
            "/usr/local/lib/python3.9/dist-packages/sklearn/svm/_base.py:1244: ConvergenceWarning: Liblinear failed to converge, increase the number of iterations.\n",
            "  warnings.warn(\n",
            "/usr/local/lib/python3.9/dist-packages/sklearn/svm/_base.py:1244: ConvergenceWarning: Liblinear failed to converge, increase the number of iterations.\n",
            "  warnings.warn(\n",
            "/usr/local/lib/python3.9/dist-packages/sklearn/svm/_base.py:1244: ConvergenceWarning: Liblinear failed to converge, increase the number of iterations.\n",
            "  warnings.warn(\n",
            "/usr/local/lib/python3.9/dist-packages/sklearn/svm/_base.py:1244: ConvergenceWarning: Liblinear failed to converge, increase the number of iterations.\n",
            "  warnings.warn(\n",
            "/usr/local/lib/python3.9/dist-packages/sklearn/svm/_base.py:1244: ConvergenceWarning: Liblinear failed to converge, increase the number of iterations.\n",
            "  warnings.warn(\n",
            "/usr/local/lib/python3.9/dist-packages/sklearn/svm/_base.py:1244: ConvergenceWarning: Liblinear failed to converge, increase the number of iterations.\n",
            "  warnings.warn(\n"
          ]
        },
        {
          "output_type": "stream",
          "name": "stdout",
          "text": [
            "confussion matrix\n",
            "[[10  0]\n",
            " [ 0 29]]\n",
            "\n",
            "\n",
            "Accuracy of Stacking Classifier: 100.0 \n",
            "\n",
            "              precision    recall  f1-score   support\n",
            "\n",
            "           0       1.00      1.00      1.00        10\n",
            "           1       1.00      1.00      1.00        29\n",
            "\n",
            "    accuracy                           1.00        39\n",
            "   macro avg       1.00      1.00      1.00        39\n",
            "weighted avg       1.00      1.00      1.00        39\n",
            "\n"
          ]
        },
        {
          "output_type": "stream",
          "name": "stderr",
          "text": [
            "/usr/local/lib/python3.9/dist-packages/sklearn/svm/_base.py:1244: ConvergenceWarning: Liblinear failed to converge, increase the number of iterations.\n",
            "  warnings.warn(\n"
          ]
        }
      ]
    },
    {
      "cell_type": "code",
      "source": [
        "!pip install catboost"
      ],
      "metadata": {
        "colab": {
          "base_uri": "https://localhost:8080/"
        },
        "id": "LNtKx61LaS7K",
        "outputId": "9b5db3ab-5f00-4c5a-a05b-b1d5176de288"
      },
      "execution_count": null,
      "outputs": [
        {
          "output_type": "stream",
          "name": "stdout",
          "text": [
            "Looking in indexes: https://pypi.org/simple, https://us-python.pkg.dev/colab-wheels/public/simple/\n",
            "Collecting catboost\n",
            "  Downloading catboost-1.1.1-cp39-none-manylinux1_x86_64.whl (76.6 MB)\n",
            "\u001b[2K     \u001b[90m━━━━━━━━━━━━━━━━━━━━━━━━━━━━━━━━━━━━━━━━\u001b[0m \u001b[32m76.6/76.6 MB\u001b[0m \u001b[31m12.1 MB/s\u001b[0m eta \u001b[36m0:00:00\u001b[0m\n",
            "\u001b[?25hRequirement already satisfied: six in /usr/local/lib/python3.9/dist-packages (from catboost) (1.16.0)\n",
            "Requirement already satisfied: plotly in /usr/local/lib/python3.9/dist-packages (from catboost) (5.13.1)\n",
            "Requirement already satisfied: numpy>=1.16.0 in /usr/local/lib/python3.9/dist-packages (from catboost) (1.22.4)\n",
            "Requirement already satisfied: matplotlib in /usr/local/lib/python3.9/dist-packages (from catboost) (3.7.1)\n",
            "Requirement already satisfied: scipy in /usr/local/lib/python3.9/dist-packages (from catboost) (1.10.1)\n",
            "Requirement already satisfied: pandas>=0.24.0 in /usr/local/lib/python3.9/dist-packages (from catboost) (1.4.4)\n",
            "Requirement already satisfied: graphviz in /usr/local/lib/python3.9/dist-packages (from catboost) (0.20.1)\n",
            "Requirement already satisfied: pytz>=2020.1 in /usr/local/lib/python3.9/dist-packages (from pandas>=0.24.0->catboost) (2022.7.1)\n",
            "Requirement already satisfied: python-dateutil>=2.8.1 in /usr/local/lib/python3.9/dist-packages (from pandas>=0.24.0->catboost) (2.8.2)\n",
            "Requirement already satisfied: pillow>=6.2.0 in /usr/local/lib/python3.9/dist-packages (from matplotlib->catboost) (8.4.0)\n",
            "Requirement already satisfied: kiwisolver>=1.0.1 in /usr/local/lib/python3.9/dist-packages (from matplotlib->catboost) (1.4.4)\n",
            "Requirement already satisfied: importlib-resources>=3.2.0 in /usr/local/lib/python3.9/dist-packages (from matplotlib->catboost) (5.12.0)\n",
            "Requirement already satisfied: cycler>=0.10 in /usr/local/lib/python3.9/dist-packages (from matplotlib->catboost) (0.11.0)\n",
            "Requirement already satisfied: fonttools>=4.22.0 in /usr/local/lib/python3.9/dist-packages (from matplotlib->catboost) (4.39.3)\n",
            "Requirement already satisfied: packaging>=20.0 in /usr/local/lib/python3.9/dist-packages (from matplotlib->catboost) (23.0)\n",
            "Requirement already satisfied: pyparsing>=2.3.1 in /usr/local/lib/python3.9/dist-packages (from matplotlib->catboost) (3.0.9)\n",
            "Requirement already satisfied: contourpy>=1.0.1 in /usr/local/lib/python3.9/dist-packages (from matplotlib->catboost) (1.0.7)\n",
            "Requirement already satisfied: tenacity>=6.2.0 in /usr/local/lib/python3.9/dist-packages (from plotly->catboost) (8.2.2)\n",
            "Requirement already satisfied: zipp>=3.1.0 in /usr/local/lib/python3.9/dist-packages (from importlib-resources>=3.2.0->matplotlib->catboost) (3.15.0)\n",
            "Installing collected packages: catboost\n",
            "Successfully installed catboost-1.1.1\n"
          ]
        }
      ]
    },
    {
      "cell_type": "code",
      "source": [
        "#Cat Boost Classifier\n",
        "\n",
        "from catboost import CatBoostClassifier\n",
        "\n",
        "clf = CatBoostClassifier(\n",
        "    iterations=5, \n",
        "    learning_rate=0.1, \n",
        "    #loss_function='CrossEntropy'\n",
        ")\n",
        "\n",
        "\n",
        "clf.fit(strat_train_set_x,strat_train_y, \n",
        "        eval_set=(strat_test_set_x, strat_test_y), \n",
        "        verbose=False\n",
        ")\n",
        "\n",
        "print('CatBoost model is fitted: ' + str(clf.is_fitted()))\n",
        "print('CatBoost model parameters:')\n",
        "print(clf.get_params())"
      ],
      "metadata": {
        "id": "A-rxaJ6rb481",
        "colab": {
          "base_uri": "https://localhost:8080/"
        },
        "outputId": "5871f9ce-3418-4521-d8a1-8a23be88ee79"
      },
      "execution_count": null,
      "outputs": [
        {
          "output_type": "stream",
          "name": "stdout",
          "text": [
            "CatBoost model is fitted: True\n",
            "CatBoost model parameters:\n",
            "{'iterations': 5, 'learning_rate': 0.1}\n"
          ]
        }
      ]
    },
    {
      "cell_type": "code",
      "source": [
        "clf_predicted = clf.predict(strat_test_set_x)\n",
        "clf_conf_matrix = confusion_matrix(strat_test_y, clf_predicted)\n",
        "clf_acc_score = accuracy_score(strat_test_y, clf_predicted)\n",
        "\n",
        "print(\"confussion matrix\")\n",
        "print(clf_conf_matrix)\n",
        "print(\"\\n\")\n",
        "print(\"Accuracy of Stacking Classifier:\",clf_acc_score*100,'\\n')\n",
        "print(classification_report(strat_test_y,clf_predicted))"
      ],
      "metadata": {
        "colab": {
          "base_uri": "https://localhost:8080/"
        },
        "id": "joSD7Hq4bTNi",
        "outputId": "5316122e-839a-4857-dedb-aabf9afd8308"
      },
      "execution_count": null,
      "outputs": [
        {
          "output_type": "stream",
          "name": "stdout",
          "text": [
            "confussion matrix\n",
            "[[ 6  4]\n",
            " [ 0 29]]\n",
            "\n",
            "\n",
            "Accuracy of Stacking Classifier: 89.74358974358975 \n",
            "\n",
            "              precision    recall  f1-score   support\n",
            "\n",
            "           0       1.00      0.60      0.75        10\n",
            "           1       0.88      1.00      0.94        29\n",
            "\n",
            "    accuracy                           0.90        39\n",
            "   macro avg       0.94      0.80      0.84        39\n",
            "weighted avg       0.91      0.90      0.89        39\n",
            "\n"
          ]
        }
      ]
    },
    {
      "cell_type": "markdown",
      "source": [
        "#**Torch**\n",
        "\n",
        "----\n",
        "\n"
      ],
      "metadata": {
        "id": "8cKt_-0Wg7VQ"
      }
    },
    {
      "cell_type": "code",
      "source": [
        "!pip3 install torch torchvision torchaudio --index-url https://download.pytorch.org/whl/cu117"
      ],
      "metadata": {
        "colab": {
          "base_uri": "https://localhost:8080/"
        },
        "id": "mQqC9ZbjbuhT",
        "outputId": "4462d69c-a89a-46d8-bee5-b6e318200929"
      },
      "execution_count": null,
      "outputs": [
        {
          "output_type": "stream",
          "name": "stdout",
          "text": [
            "Looking in indexes: https://download.pytorch.org/whl/cu117, https://us-python.pkg.dev/colab-wheels/public/simple/\n",
            "Requirement already satisfied: torch in /usr/local/lib/python3.9/dist-packages (2.0.0+cu118)\n",
            "Requirement already satisfied: torchvision in /usr/local/lib/python3.9/dist-packages (0.15.1+cu118)\n",
            "Requirement already satisfied: torchaudio in /usr/local/lib/python3.9/dist-packages (2.0.1+cu118)\n",
            "Requirement already satisfied: typing-extensions in /usr/local/lib/python3.9/dist-packages (from torch) (4.5.0)\n",
            "Requirement already satisfied: filelock in /usr/local/lib/python3.9/dist-packages (from torch) (3.10.7)\n",
            "Requirement already satisfied: sympy in /usr/local/lib/python3.9/dist-packages (from torch) (1.11.1)\n",
            "Requirement already satisfied: triton==2.0.0 in /usr/local/lib/python3.9/dist-packages (from torch) (2.0.0)\n",
            "Requirement already satisfied: networkx in /usr/local/lib/python3.9/dist-packages (from torch) (3.0)\n",
            "Requirement already satisfied: jinja2 in /usr/local/lib/python3.9/dist-packages (from torch) (3.1.2)\n",
            "Requirement already satisfied: lit in /usr/local/lib/python3.9/dist-packages (from triton==2.0.0->torch) (16.0.0)\n",
            "Requirement already satisfied: cmake in /usr/local/lib/python3.9/dist-packages (from triton==2.0.0->torch) (3.25.2)\n",
            "Requirement already satisfied: numpy in /usr/local/lib/python3.9/dist-packages (from torchvision) (1.22.4)\n",
            "Requirement already satisfied: requests in /usr/local/lib/python3.9/dist-packages (from torchvision) (2.27.1)\n",
            "Requirement already satisfied: pillow!=8.3.*,>=5.3.0 in /usr/local/lib/python3.9/dist-packages (from torchvision) (8.4.0)\n",
            "Requirement already satisfied: MarkupSafe>=2.0 in /usr/local/lib/python3.9/dist-packages (from jinja2->torch) (2.1.2)\n",
            "Requirement already satisfied: certifi>=2017.4.17 in /usr/local/lib/python3.9/dist-packages (from requests->torchvision) (2022.12.7)\n",
            "Requirement already satisfied: charset-normalizer~=2.0.0 in /usr/local/lib/python3.9/dist-packages (from requests->torchvision) (2.0.12)\n",
            "Requirement already satisfied: urllib3<1.27,>=1.21.1 in /usr/local/lib/python3.9/dist-packages (from requests->torchvision) (1.26.15)\n",
            "Requirement already satisfied: idna<4,>=2.5 in /usr/local/lib/python3.9/dist-packages (from requests->torchvision) (3.4)\n",
            "Requirement already satisfied: mpmath>=0.19 in /usr/local/lib/python3.9/dist-packages (from sympy->torch) (1.3.0)\n"
          ]
        }
      ]
    },
    {
      "cell_type": "code",
      "source": [
        "import torch\n",
        "import torch.nn as nn\n",
        "import torch.nn.functional as F\n",
        "from torch.utils.data import Dataset, DataLoader\n",
        "from sklearn.model_selection import train_test_split"
      ],
      "metadata": {
        "id": "MaocyMeRcAD4"
      },
      "execution_count": null,
      "outputs": []
    },
    {
      "cell_type": "code",
      "source": [
        "class park_model(nn.Module):\n",
        "    # We have hidden layer containg 30 neurons and another containg 20 neurons\n",
        "    # We will use only 22 feature from the dataset we will exclude name and status\n",
        "    def __init__(self,in_features=22, h1=20, h2=30, out_features=1):\n",
        "        super().__init__()\n",
        "        self.fc1 = nn.Linear(in_features, h1)\n",
        "        self.fc2 = nn.Linear(h1, h2)\n",
        "        self.out = nn.Linear(h2, out_features)\n",
        "        \n",
        "    def forward(self, x):\n",
        "        x = F.relu(self.fc1(x))\n",
        "        x = F.relu(self.fc2(x))\n",
        "        x = self.out(x)\n",
        "        return x"
      ],
      "metadata": {
        "id": "mnCN75q1c2_4"
      },
      "execution_count": null,
      "outputs": []
    },
    {
      "cell_type": "code",
      "source": [
        "torch.manual_seed(7)\n",
        "model = park_model()"
      ],
      "metadata": {
        "id": "zd0p0nkTc9Yj"
      },
      "execution_count": null,
      "outputs": []
    },
    {
      "cell_type": "code",
      "source": [
        "model"
      ],
      "metadata": {
        "colab": {
          "base_uri": "https://localhost:8080/"
        },
        "id": "_L2vdM2Zc949",
        "outputId": "53b61dfd-d670-4d0c-e00b-2cca40dd9cf9"
      },
      "execution_count": null,
      "outputs": [
        {
          "output_type": "execute_result",
          "data": {
            "text/plain": [
              "park_model(\n",
              "  (fc1): Linear(in_features=22, out_features=20, bias=True)\n",
              "  (fc2): Linear(in_features=20, out_features=30, bias=True)\n",
              "  (out): Linear(in_features=30, out_features=1, bias=True)\n",
              ")"
            ]
          },
          "metadata": {},
          "execution_count": 51
        }
      ]
    },
    {
      "cell_type": "code",
      "source": [
        "y  = parkinsons_data['status'].values\n",
        "X = parkinsons_data.drop(['status','name'],axis=1).values\n",
        "\n",
        "X_train, X_test, y_train, y_test = train_test_split(X,y,test_size=0.2,random_state=8)\n",
        "\n",
        "y_train = y_train.reshape((X_train.shape[0],1))\n",
        "\n",
        "X_train = torch.FloatTensor(X_train)\n",
        "X_test = torch.FloatTensor(X_test)\n",
        "\n",
        "y_train = torch.FloatTensor(y_train)\n",
        "y_test = torch.FloatTensor(y_test)"
      ],
      "metadata": {
        "id": "WIwGeMqhc_sj"
      },
      "execution_count": null,
      "outputs": []
    },
    {
      "cell_type": "code",
      "source": [
        "print(X_train.shape)\n",
        "print(y_train.shape)"
      ],
      "metadata": {
        "colab": {
          "base_uri": "https://localhost:8080/"
        },
        "id": "Yt0f_NJTdhxv",
        "outputId": "39bdff7a-4bf8-4e5d-ad02-f004b51ec44a"
      },
      "execution_count": null,
      "outputs": [
        {
          "output_type": "stream",
          "name": "stdout",
          "text": [
            "torch.Size([156, 22])\n",
            "torch.Size([156, 1])\n"
          ]
        }
      ]
    },
    {
      "cell_type": "code",
      "source": [
        "criterion = nn.BCEWithLogitsLoss()\n",
        "optimizer = torch.optim.Adam(model.parameters(), lr=0.0001)"
      ],
      "metadata": {
        "id": "c5m1vNyOeKaC"
      },
      "execution_count": null,
      "outputs": []
    },
    {
      "cell_type": "code",
      "source": [
        "epochs = 1000\n",
        "losses = []\n",
        "\n",
        "for i in range(epochs):\n",
        "    i+=1\n",
        "    y_pred = model.forward(X_train)\n",
        "    loss = criterion(y_pred, y_train)\n",
        "    losses.append(loss)\n",
        "    \n",
        "    # a neat trick to save screen space:\n",
        "    if i%10 == 1:\n",
        "        print(f'epoch: {i:2}  loss: {loss.item():10.8f}')\n",
        "\n",
        "    optimizer.zero_grad()\n",
        "    loss.backward()\n",
        "    optimizer.step()"
      ],
      "metadata": {
        "colab": {
          "base_uri": "https://localhost:8080/"
        },
        "id": "d5ClsvgDeW1b",
        "outputId": "bd3b1d6f-a0e4-4937-ba52-b35e1dc48ad5"
      },
      "execution_count": null,
      "outputs": [
        {
          "output_type": "stream",
          "name": "stdout",
          "text": [
            "epoch:  1  loss: 0.78087902\n",
            "epoch: 11  loss: 0.69745219\n",
            "epoch: 21  loss: 0.64818966\n",
            "epoch: 31  loss: 0.63607812\n",
            "epoch: 41  loss: 0.63255024\n",
            "epoch: 51  loss: 0.62748653\n",
            "epoch: 61  loss: 0.62341821\n",
            "epoch: 71  loss: 0.61947256\n",
            "epoch: 81  loss: 0.61547899\n",
            "epoch: 91  loss: 0.60988057\n",
            "epoch: 101  loss: 0.60405630\n",
            "epoch: 111  loss: 0.60041231\n",
            "epoch: 121  loss: 0.59723079\n",
            "epoch: 131  loss: 0.59360230\n",
            "epoch: 141  loss: 0.59042728\n",
            "epoch: 151  loss: 0.58712399\n",
            "epoch: 161  loss: 0.58479947\n",
            "epoch: 171  loss: 0.58212399\n",
            "epoch: 181  loss: 0.57748389\n",
            "epoch: 191  loss: 0.56943578\n",
            "epoch: 201  loss: 0.56634605\n",
            "epoch: 211  loss: 0.56331271\n",
            "epoch: 221  loss: 0.56003124\n",
            "epoch: 231  loss: 0.55752534\n",
            "epoch: 241  loss: 0.55538619\n",
            "epoch: 251  loss: 0.55345291\n",
            "epoch: 261  loss: 0.55160427\n",
            "epoch: 271  loss: 0.54974681\n",
            "epoch: 281  loss: 0.54779369\n",
            "epoch: 291  loss: 0.54584855\n",
            "epoch: 301  loss: 0.54389483\n",
            "epoch: 311  loss: 0.54199260\n",
            "epoch: 321  loss: 0.54005432\n",
            "epoch: 331  loss: 0.53809142\n",
            "epoch: 341  loss: 0.53614575\n",
            "epoch: 351  loss: 0.53423595\n",
            "epoch: 361  loss: 0.53246051\n",
            "epoch: 371  loss: 0.53062534\n",
            "epoch: 381  loss: 0.52904254\n",
            "epoch: 391  loss: 0.52754647\n",
            "epoch: 401  loss: 0.52606869\n",
            "epoch: 411  loss: 0.52461541\n",
            "epoch: 421  loss: 0.52317894\n",
            "epoch: 431  loss: 0.52173865\n",
            "epoch: 441  loss: 0.52028185\n",
            "epoch: 451  loss: 0.51876968\n",
            "epoch: 461  loss: 0.51711577\n",
            "epoch: 471  loss: 0.51548022\n",
            "epoch: 481  loss: 0.51382405\n",
            "epoch: 491  loss: 0.51211017\n",
            "epoch: 501  loss: 0.51050222\n",
            "epoch: 511  loss: 0.50892019\n",
            "epoch: 521  loss: 0.50735205\n",
            "epoch: 531  loss: 0.50584263\n",
            "epoch: 541  loss: 0.50448734\n",
            "epoch: 551  loss: 0.50312912\n",
            "epoch: 561  loss: 0.50182551\n",
            "epoch: 571  loss: 0.50056583\n",
            "epoch: 581  loss: 0.49928954\n",
            "epoch: 591  loss: 0.49801248\n",
            "epoch: 601  loss: 0.49671331\n",
            "epoch: 611  loss: 0.49544266\n",
            "epoch: 621  loss: 0.49417526\n",
            "epoch: 631  loss: 0.49293792\n",
            "epoch: 641  loss: 0.49167395\n",
            "epoch: 651  loss: 0.49044520\n",
            "epoch: 661  loss: 0.48924050\n",
            "epoch: 671  loss: 0.48806083\n",
            "epoch: 681  loss: 0.48689553\n",
            "epoch: 691  loss: 0.48573816\n",
            "epoch: 701  loss: 0.48459974\n",
            "epoch: 711  loss: 0.48347801\n",
            "epoch: 721  loss: 0.48237517\n",
            "epoch: 731  loss: 0.48128104\n",
            "epoch: 741  loss: 0.48019370\n",
            "epoch: 751  loss: 0.47912416\n",
            "epoch: 761  loss: 0.47805703\n",
            "epoch: 771  loss: 0.47700071\n",
            "epoch: 781  loss: 0.47596574\n",
            "epoch: 791  loss: 0.47489586\n",
            "epoch: 801  loss: 0.47380492\n",
            "epoch: 811  loss: 0.47271696\n",
            "epoch: 821  loss: 0.47165939\n",
            "epoch: 831  loss: 0.47062042\n",
            "epoch: 841  loss: 0.46958023\n",
            "epoch: 851  loss: 0.46856084\n",
            "epoch: 861  loss: 0.46753258\n",
            "epoch: 871  loss: 0.46650839\n",
            "epoch: 881  loss: 0.46549258\n",
            "epoch: 891  loss: 0.46450987\n",
            "epoch: 901  loss: 0.46353605\n",
            "epoch: 911  loss: 0.46255842\n",
            "epoch: 921  loss: 0.46158630\n",
            "epoch: 931  loss: 0.46060759\n",
            "epoch: 941  loss: 0.45963472\n",
            "epoch: 951  loss: 0.45865187\n",
            "epoch: 961  loss: 0.45769629\n",
            "epoch: 971  loss: 0.45671836\n",
            "epoch: 981  loss: 0.45575806\n",
            "epoch: 991  loss: 0.45477822\n"
          ]
        }
      ]
    },
    {
      "cell_type": "code",
      "source": [
        "with torch.no_grad():\n",
        "    y_val = model.forward(X_test)\n",
        "    loss = criterion(y_val, y_test)\n",
        "print(f'{loss:.8f}')"
      ],
      "metadata": {
        "colab": {
          "base_uri": "https://localhost:8080/",
          "height": 363
        },
        "id": "6r0jXc7NefIh",
        "outputId": "ecbd1b10-bb62-4c21-9605-ed78bc5a366e"
      },
      "execution_count": null,
      "outputs": [
        {
          "output_type": "error",
          "ename": "ValueError",
          "evalue": "ignored",
          "traceback": [
            "\u001b[0;31m---------------------------------------------------------------------------\u001b[0m",
            "\u001b[0;31mValueError\u001b[0m                                Traceback (most recent call last)",
            "\u001b[0;32m<ipython-input-56-6d971b1d984a>\u001b[0m in \u001b[0;36m<cell line: 1>\u001b[0;34m()\u001b[0m\n\u001b[1;32m      1\u001b[0m \u001b[0;32mwith\u001b[0m \u001b[0mtorch\u001b[0m\u001b[0;34m.\u001b[0m\u001b[0mno_grad\u001b[0m\u001b[0;34m(\u001b[0m\u001b[0;34m)\u001b[0m\u001b[0;34m:\u001b[0m\u001b[0;34m\u001b[0m\u001b[0;34m\u001b[0m\u001b[0m\n\u001b[1;32m      2\u001b[0m     \u001b[0my_val\u001b[0m \u001b[0;34m=\u001b[0m \u001b[0mmodel\u001b[0m\u001b[0;34m.\u001b[0m\u001b[0mforward\u001b[0m\u001b[0;34m(\u001b[0m\u001b[0mX_test\u001b[0m\u001b[0;34m)\u001b[0m\u001b[0;34m\u001b[0m\u001b[0;34m\u001b[0m\u001b[0m\n\u001b[0;32m----> 3\u001b[0;31m     \u001b[0mloss\u001b[0m \u001b[0;34m=\u001b[0m \u001b[0mcriterion\u001b[0m\u001b[0;34m(\u001b[0m\u001b[0my_val\u001b[0m\u001b[0;34m,\u001b[0m \u001b[0my_test\u001b[0m\u001b[0;34m)\u001b[0m\u001b[0;34m\u001b[0m\u001b[0;34m\u001b[0m\u001b[0m\n\u001b[0m\u001b[1;32m      4\u001b[0m \u001b[0mprint\u001b[0m\u001b[0;34m(\u001b[0m\u001b[0;34mf'{loss:.8f}'\u001b[0m\u001b[0;34m)\u001b[0m\u001b[0;34m\u001b[0m\u001b[0;34m\u001b[0m\u001b[0m\n",
            "\u001b[0;32m/usr/local/lib/python3.9/dist-packages/torch/nn/modules/module.py\u001b[0m in \u001b[0;36m_call_impl\u001b[0;34m(self, *args, **kwargs)\u001b[0m\n\u001b[1;32m   1499\u001b[0m                 \u001b[0;32mor\u001b[0m \u001b[0m_global_backward_pre_hooks\u001b[0m \u001b[0;32mor\u001b[0m \u001b[0m_global_backward_hooks\u001b[0m\u001b[0;34m\u001b[0m\u001b[0;34m\u001b[0m\u001b[0m\n\u001b[1;32m   1500\u001b[0m                 or _global_forward_hooks or _global_forward_pre_hooks):\n\u001b[0;32m-> 1501\u001b[0;31m             \u001b[0;32mreturn\u001b[0m \u001b[0mforward_call\u001b[0m\u001b[0;34m(\u001b[0m\u001b[0;34m*\u001b[0m\u001b[0margs\u001b[0m\u001b[0;34m,\u001b[0m \u001b[0;34m**\u001b[0m\u001b[0mkwargs\u001b[0m\u001b[0;34m)\u001b[0m\u001b[0;34m\u001b[0m\u001b[0;34m\u001b[0m\u001b[0m\n\u001b[0m\u001b[1;32m   1502\u001b[0m         \u001b[0;31m# Do not call functions when jit is used\u001b[0m\u001b[0;34m\u001b[0m\u001b[0;34m\u001b[0m\u001b[0m\n\u001b[1;32m   1503\u001b[0m         \u001b[0mfull_backward_hooks\u001b[0m\u001b[0;34m,\u001b[0m \u001b[0mnon_full_backward_hooks\u001b[0m \u001b[0;34m=\u001b[0m \u001b[0;34m[\u001b[0m\u001b[0;34m]\u001b[0m\u001b[0;34m,\u001b[0m \u001b[0;34m[\u001b[0m\u001b[0;34m]\u001b[0m\u001b[0;34m\u001b[0m\u001b[0;34m\u001b[0m\u001b[0m\n",
            "\u001b[0;32m/usr/local/lib/python3.9/dist-packages/torch/nn/modules/loss.py\u001b[0m in \u001b[0;36mforward\u001b[0;34m(self, input, target)\u001b[0m\n\u001b[1;32m    718\u001b[0m \u001b[0;34m\u001b[0m\u001b[0m\n\u001b[1;32m    719\u001b[0m     \u001b[0;32mdef\u001b[0m \u001b[0mforward\u001b[0m\u001b[0;34m(\u001b[0m\u001b[0mself\u001b[0m\u001b[0;34m,\u001b[0m \u001b[0minput\u001b[0m\u001b[0;34m:\u001b[0m \u001b[0mTensor\u001b[0m\u001b[0;34m,\u001b[0m \u001b[0mtarget\u001b[0m\u001b[0;34m:\u001b[0m \u001b[0mTensor\u001b[0m\u001b[0;34m)\u001b[0m \u001b[0;34m->\u001b[0m \u001b[0mTensor\u001b[0m\u001b[0;34m:\u001b[0m\u001b[0;34m\u001b[0m\u001b[0;34m\u001b[0m\u001b[0m\n\u001b[0;32m--> 720\u001b[0;31m         return F.binary_cross_entropy_with_logits(input, target,\n\u001b[0m\u001b[1;32m    721\u001b[0m                                                   \u001b[0mself\u001b[0m\u001b[0;34m.\u001b[0m\u001b[0mweight\u001b[0m\u001b[0;34m,\u001b[0m\u001b[0;34m\u001b[0m\u001b[0;34m\u001b[0m\u001b[0m\n\u001b[1;32m    722\u001b[0m                                                   \u001b[0mpos_weight\u001b[0m\u001b[0;34m=\u001b[0m\u001b[0mself\u001b[0m\u001b[0;34m.\u001b[0m\u001b[0mpos_weight\u001b[0m\u001b[0;34m,\u001b[0m\u001b[0;34m\u001b[0m\u001b[0;34m\u001b[0m\u001b[0m\n",
            "\u001b[0;32m/usr/local/lib/python3.9/dist-packages/torch/nn/functional.py\u001b[0m in \u001b[0;36mbinary_cross_entropy_with_logits\u001b[0;34m(input, target, weight, size_average, reduce, reduction, pos_weight)\u001b[0m\n\u001b[1;32m   3161\u001b[0m \u001b[0;34m\u001b[0m\u001b[0m\n\u001b[1;32m   3162\u001b[0m     \u001b[0;32mif\u001b[0m \u001b[0;32mnot\u001b[0m \u001b[0;34m(\u001b[0m\u001b[0mtarget\u001b[0m\u001b[0;34m.\u001b[0m\u001b[0msize\u001b[0m\u001b[0;34m(\u001b[0m\u001b[0;34m)\u001b[0m \u001b[0;34m==\u001b[0m \u001b[0minput\u001b[0m\u001b[0;34m.\u001b[0m\u001b[0msize\u001b[0m\u001b[0;34m(\u001b[0m\u001b[0;34m)\u001b[0m\u001b[0;34m)\u001b[0m\u001b[0;34m:\u001b[0m\u001b[0;34m\u001b[0m\u001b[0;34m\u001b[0m\u001b[0m\n\u001b[0;32m-> 3163\u001b[0;31m         \u001b[0;32mraise\u001b[0m \u001b[0mValueError\u001b[0m\u001b[0;34m(\u001b[0m\u001b[0;34m\"Target size ({}) must be the same as input size ({})\"\u001b[0m\u001b[0;34m.\u001b[0m\u001b[0mformat\u001b[0m\u001b[0;34m(\u001b[0m\u001b[0mtarget\u001b[0m\u001b[0;34m.\u001b[0m\u001b[0msize\u001b[0m\u001b[0;34m(\u001b[0m\u001b[0;34m)\u001b[0m\u001b[0;34m,\u001b[0m \u001b[0minput\u001b[0m\u001b[0;34m.\u001b[0m\u001b[0msize\u001b[0m\u001b[0;34m(\u001b[0m\u001b[0;34m)\u001b[0m\u001b[0;34m)\u001b[0m\u001b[0;34m)\u001b[0m\u001b[0;34m\u001b[0m\u001b[0;34m\u001b[0m\u001b[0m\n\u001b[0m\u001b[1;32m   3164\u001b[0m \u001b[0;34m\u001b[0m\u001b[0m\n\u001b[1;32m   3165\u001b[0m     \u001b[0;32mreturn\u001b[0m \u001b[0mtorch\u001b[0m\u001b[0;34m.\u001b[0m\u001b[0mbinary_cross_entropy_with_logits\u001b[0m\u001b[0;34m(\u001b[0m\u001b[0minput\u001b[0m\u001b[0;34m,\u001b[0m \u001b[0mtarget\u001b[0m\u001b[0;34m,\u001b[0m \u001b[0mweight\u001b[0m\u001b[0;34m,\u001b[0m \u001b[0mpos_weight\u001b[0m\u001b[0;34m,\u001b[0m \u001b[0mreduction_enum\u001b[0m\u001b[0;34m)\u001b[0m\u001b[0;34m\u001b[0m\u001b[0;34m\u001b[0m\u001b[0m\n",
            "\u001b[0;31mValueError\u001b[0m: Target size (torch.Size([39])) must be the same as input size (torch.Size([39, 1]))"
          ]
        }
      ]
    },
    {
      "cell_type": "code",
      "source": [
        "import tensorflow as tf\n",
        "import keras"
      ],
      "metadata": {
        "id": "PYppbk4zejSM"
      },
      "execution_count": null,
      "outputs": []
    },
    {
      "cell_type": "code",
      "source": [
        "modeltf = tf.keras.models.Sequential([\n",
        "    tf.keras.layers.Dense(20),\n",
        "    tf.keras.layers.Dense(30),\n",
        "# tf.keras.layers.Dropout(0.25),\n",
        "    tf.keras.layers.Dense(1, activation='sigmoid')\n",
        "])"
      ],
      "metadata": {
        "id": "4B7PvLIyey7i"
      },
      "execution_count": null,
      "outputs": []
    },
    {
      "cell_type": "code",
      "source": [
        "modeltf.compile(optimizer='adam', loss='binary_crossentropy', metrics=['accuracy'])"
      ],
      "metadata": {
        "id": "_GxMtBz6e5Rj"
      },
      "execution_count": null,
      "outputs": []
    },
    {
      "cell_type": "code",
      "source": [
        "modeltf.fit(X_train, y_train, epochs=100)"
      ],
      "metadata": {
        "colab": {
          "base_uri": "https://localhost:8080/",
          "height": 331
        },
        "id": "R_er-BUBe74H",
        "outputId": "52dc351f-d5f0-4149-f53f-4f9e0b0d005d"
      },
      "execution_count": null,
      "outputs": [
        {
          "output_type": "stream",
          "name": "stderr",
          "text": [
            "WARNING:tensorflow:Keras is training/fitting/evaluating on array-like data. Keras may not be optimized for this format, so if your input data format is supported by TensorFlow I/O (https://github.com/tensorflow/io) we recommend using that to load a Dataset instead.\n"
          ]
        },
        {
          "output_type": "error",
          "ename": "TypeError",
          "evalue": "ignored",
          "traceback": [
            "\u001b[0;31m---------------------------------------------------------------------------\u001b[0m",
            "\u001b[0;31mTypeError\u001b[0m                                 Traceback (most recent call last)",
            "\u001b[0;32m<ipython-input-60-d43eeed78b5d>\u001b[0m in \u001b[0;36m<cell line: 1>\u001b[0;34m()\u001b[0m\n\u001b[0;32m----> 1\u001b[0;31m \u001b[0mmodeltf\u001b[0m\u001b[0;34m.\u001b[0m\u001b[0mfit\u001b[0m\u001b[0;34m(\u001b[0m\u001b[0mX_train\u001b[0m\u001b[0;34m,\u001b[0m \u001b[0my_train\u001b[0m\u001b[0;34m,\u001b[0m \u001b[0mepochs\u001b[0m\u001b[0;34m=\u001b[0m\u001b[0;36m100\u001b[0m\u001b[0;34m)\u001b[0m\u001b[0;34m\u001b[0m\u001b[0;34m\u001b[0m\u001b[0m\n\u001b[0m",
            "\u001b[0;32m/usr/local/lib/python3.9/dist-packages/keras/utils/traceback_utils.py\u001b[0m in \u001b[0;36merror_handler\u001b[0;34m(*args, **kwargs)\u001b[0m\n\u001b[1;32m     68\u001b[0m             \u001b[0;31m# To get the full stack trace, call:\u001b[0m\u001b[0;34m\u001b[0m\u001b[0;34m\u001b[0m\u001b[0m\n\u001b[1;32m     69\u001b[0m             \u001b[0;31m# `tf.debugging.disable_traceback_filtering()`\u001b[0m\u001b[0;34m\u001b[0m\u001b[0;34m\u001b[0m\u001b[0m\n\u001b[0;32m---> 70\u001b[0;31m             \u001b[0;32mraise\u001b[0m \u001b[0me\u001b[0m\u001b[0;34m.\u001b[0m\u001b[0mwith_traceback\u001b[0m\u001b[0;34m(\u001b[0m\u001b[0mfiltered_tb\u001b[0m\u001b[0;34m)\u001b[0m \u001b[0;32mfrom\u001b[0m \u001b[0;32mNone\u001b[0m\u001b[0;34m\u001b[0m\u001b[0;34m\u001b[0m\u001b[0m\n\u001b[0m\u001b[1;32m     71\u001b[0m         \u001b[0;32mfinally\u001b[0m\u001b[0;34m:\u001b[0m\u001b[0;34m\u001b[0m\u001b[0;34m\u001b[0m\u001b[0m\n\u001b[1;32m     72\u001b[0m             \u001b[0;32mdel\u001b[0m \u001b[0mfiltered_tb\u001b[0m\u001b[0;34m\u001b[0m\u001b[0;34m\u001b[0m\u001b[0m\n",
            "\u001b[0;32m/usr/local/lib/python3.9/dist-packages/tensorflow/python/framework/dtypes.py\u001b[0m in \u001b[0;36mas_dtype\u001b[0;34m(type_value)\u001b[0m\n\u001b[1;32m    827\u001b[0m     \u001b[0;32mreturn\u001b[0m \u001b[0m_INTERN_TABLE\u001b[0m\u001b[0;34m[\u001b[0m\u001b[0mtype_value\u001b[0m\u001b[0;34m.\u001b[0m\u001b[0mas_datatype_enum\u001b[0m\u001b[0;34m]\u001b[0m\u001b[0;34m\u001b[0m\u001b[0;34m\u001b[0m\u001b[0m\n\u001b[1;32m    828\u001b[0m \u001b[0;34m\u001b[0m\u001b[0m\n\u001b[0;32m--> 829\u001b[0;31m   raise TypeError(f\"Cannot convert the argument `type_value`: {type_value!r} \"\n\u001b[0m\u001b[1;32m    830\u001b[0m                   \"to a TensorFlow DType.\")\n",
            "\u001b[0;31mTypeError\u001b[0m: Cannot convert the argument `type_value`: torch.float32 to a TensorFlow DType."
          ]
        }
      ]
    }
  ]
}